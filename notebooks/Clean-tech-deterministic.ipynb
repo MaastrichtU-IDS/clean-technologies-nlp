{
  "cells": [
    {
      "cell_type": "markdown",
      "source": [
        "## Clean Technologies - Deterministic"
      ],
      "metadata": {}
    },
    {
      "cell_type": "code",
      "source": [
        "import pandas as pd\n",
        "import matplotlib.pyplot as plt\n",
        "import warnings\n",
        "warnings.filterwarnings(\"ignore\")\n",
        "%matplotlib inline"
      ],
      "outputs": [],
      "execution_count": 1,
      "metadata": {}
    },
    {
      "cell_type": "code",
      "source": [
        "categories = pd.read_excel('../data/categories.xls')\n",
        "categories = categories.fillna(method='ffill')\n",
        "categories.columns = ['sector','technology_group','technology','description','technology_term','source','priority']"
      ],
      "outputs": [],
      "execution_count": 2,
      "metadata": {}
    },
    {
      "cell_type": "code",
      "source": [
        "categories.head()"
      ],
      "outputs": [
        {
          "output_type": "execute_result",
          "execution_count": 4,
          "data": {
            "text/html": [
              "<div>\n",
              "<style scoped>\n",
              "    .dataframe tbody tr th:only-of-type {\n",
              "        vertical-align: middle;\n",
              "    }\n",
              "\n",
              "    .dataframe tbody tr th {\n",
              "        vertical-align: top;\n",
              "    }\n",
              "\n",
              "    .dataframe thead th {\n",
              "        text-align: right;\n",
              "    }\n",
              "</style>\n",
              "<table border=\"1\" class=\"dataframe\">\n",
              "  <thead>\n",
              "    <tr style=\"text-align: right;\">\n",
              "      <th></th>\n",
              "      <th>sector</th>\n",
              "      <th>technology_group</th>\n",
              "      <th>technology</th>\n",
              "      <th>description</th>\n",
              "      <th>technology_term</th>\n",
              "      <th>source</th>\n",
              "      <th>priority</th>\n",
              "    </tr>\n",
              "  </thead>\n",
              "  <tbody>\n",
              "    <tr>\n",
              "      <th>0</th>\n",
              "      <td>Energy</td>\n",
              "      <td>Solar energy sources</td>\n",
              "      <td>solar PV</td>\n",
              "      <td>Also “solar photovoltaic”; technology of using...</td>\n",
              "      <td>photovoltaic, PV, “solar cell”</td>\n",
              "      <td>https://www.ctc-n.org/technologies/solar-pv</td>\n",
              "      <td>1</td>\n",
              "    </tr>\n",
              "    <tr>\n",
              "      <th>1</th>\n",
              "      <td>Energy</td>\n",
              "      <td>Solar energy sources</td>\n",
              "      <td>concentrated solar power (CSP)</td>\n",
              "      <td>Technology of producing electricity by concent...</td>\n",
              "      <td>“concentrated solar power”, CSP, “concentrated...</td>\n",
              "      <td>https://setis.ec.europa.eu/technologies/concen...</td>\n",
              "      <td>1</td>\n",
              "    </tr>\n",
              "    <tr>\n",
              "      <th>2</th>\n",
              "      <td>Energy</td>\n",
              "      <td>Solar energy sources</td>\n",
              "      <td>solar heating</td>\n",
              "      <td>Technology of capturing the sun's radiation an...</td>\n",
              "      <td>“solar heating”</td>\n",
              "      <td>https://www.ctc-n.org/technologies/solar-heating</td>\n",
              "      <td>0</td>\n",
              "    </tr>\n",
              "    <tr>\n",
              "      <th>3</th>\n",
              "      <td>Energy</td>\n",
              "      <td>Solar energy sources</td>\n",
              "      <td>solar dryer</td>\n",
              "      <td>Technology of drying substances, especially fo...</td>\n",
              "      <td>“solar dryer”</td>\n",
              "      <td>https://www.ctc-n.org/technologies/solar-dryer</td>\n",
              "      <td>0</td>\n",
              "    </tr>\n",
              "    <tr>\n",
              "      <th>4</th>\n",
              "      <td>Energy</td>\n",
              "      <td>Solar energy sources</td>\n",
              "      <td>solar water pump</td>\n",
              "      <td>Technology of powering electrical water pumps ...</td>\n",
              "      <td>“solar water pump”</td>\n",
              "      <td>https://www.ctc-n.org/technologies/solar-water...</td>\n",
              "      <td>0</td>\n",
              "    </tr>\n",
              "  </tbody>\n",
              "</table>\n",
              "</div>"
            ],
            "text/plain": [
              "   sector      technology_group                      technology  \\\n",
              "0  Energy  Solar energy sources                        solar PV   \n",
              "1  Energy  Solar energy sources  concentrated solar power (CSP)   \n",
              "2  Energy  Solar energy sources                   solar heating   \n",
              "3  Energy  Solar energy sources                     solar dryer   \n",
              "4  Energy  Solar energy sources                solar water pump   \n",
              "\n",
              "                                         description  \\\n",
              "0  Also “solar photovoltaic”; technology of using...   \n",
              "1  Technology of producing electricity by concent...   \n",
              "2  Technology of capturing the sun's radiation an...   \n",
              "3  Technology of drying substances, especially fo...   \n",
              "4  Technology of powering electrical water pumps ...   \n",
              "\n",
              "                                     technology_term  \\\n",
              "0                    photovoltaic, PV, “solar cell”    \n",
              "1  “concentrated solar power”, CSP, “concentrated...   \n",
              "2                                    “solar heating”   \n",
              "3                                      “solar dryer”   \n",
              "4                                 “solar water pump”   \n",
              "\n",
              "                                              source  priority  \n",
              "0        https://www.ctc-n.org/technologies/solar-pv         1  \n",
              "1  https://setis.ec.europa.eu/technologies/concen...         1  \n",
              "2   https://www.ctc-n.org/technologies/solar-heating         0  \n",
              "3     https://www.ctc-n.org/technologies/solar-dryer         0  \n",
              "4  https://www.ctc-n.org/technologies/solar-water...         0  "
            ]
          },
          "metadata": {}
        }
      ],
      "execution_count": 4,
      "metadata": {}
    },
    {
      "cell_type": "code",
      "source": [
        "len(categories.sector.unique())"
      ],
      "outputs": [
        {
          "output_type": "execute_result",
          "execution_count": 18,
          "data": {
            "text/plain": [
              "6"
            ]
          },
          "metadata": {}
        }
      ],
      "execution_count": 18,
      "metadata": {}
    },
    {
      "cell_type": "code",
      "source": [
        "matrix = []\n",
        "for term in categories['technology_term']:\n",
        "    row = [x.strip() for x in term.split(',')]\n",
        "    row = [i.replace('“', '').replace('”', '') for i in row]\n",
        "    matrix.append(row)\n",
        "categories['technology_term'] = matrix"
      ],
      "outputs": [],
      "execution_count": 5,
      "metadata": {}
    },
    {
      "cell_type": "markdown",
      "source": [
        "---"
      ],
      "metadata": {}
    },
    {
      "cell_type": "code",
      "source": [
        "#https://data.europa.eu/euodp/en/data/dataset/cordisH2020projects"
      ],
      "outputs": [],
      "execution_count": 6,
      "metadata": {}
    },
    {
      "cell_type": "code",
      "source": [
        "cordish2020 = pd.read_excel('../data/cordis-h2020projects.xlsx')\n",
        "#cordish2020 = pd.read_csv('../data/cordis-h2020projects.csv', sep=\";\")"
      ],
      "outputs": [],
      "execution_count": 7,
      "metadata": {}
    },
    {
      "cell_type": "code",
      "source": [
        "cordish2020.columns"
      ],
      "outputs": [
        {
          "output_type": "execute_result",
          "execution_count": 8,
          "data": {
            "text/plain": [
              "Index(['rcn', 'id', 'acronym', 'status', 'programme', 'topics',\n",
              "       'frameworkProgramme', 'title', 'startDate', 'endDate', 'projectUrl',\n",
              "       'objective', 'totalCost', 'ecMaxContribution', 'call', 'fundingScheme',\n",
              "       'coordinator', 'coordinatorCountry', 'participants',\n",
              "       'participantCountries', 'subjects'],\n",
              "      dtype='object')"
            ]
          },
          "metadata": {}
        }
      ],
      "execution_count": 8,
      "metadata": {}
    },
    {
      "cell_type": "code",
      "source": [
        "cordish2020['totalCost'] = [float(str(i).replace(',', '.')) for i in cordish2020['totalCost']]\n",
        "cordish2020['ecMaxContribution'] = [float(str(i).replace(',', '.')) for i in cordish2020['ecMaxContribution']]"
      ],
      "outputs": [],
      "execution_count": 9,
      "metadata": {}
    },
    {
      "cell_type": "code",
      "source": [
        "cordish2020['startDate'] = cordish2020['startDate'].map(pd.Timestamp)\n",
        "cordish2020['endDate'] = cordish2020['endDate'].map(pd.Timestamp)"
      ],
      "outputs": [],
      "execution_count": 10,
      "metadata": {}
    },
    {
      "cell_type": "code",
      "source": [
        "# Total of proyects\n",
        "len(cordish2020)"
      ],
      "outputs": [
        {
          "output_type": "execute_result",
          "execution_count": 11,
          "data": {
            "text/plain": [
              "24554"
            ]
          },
          "metadata": {}
        }
      ],
      "execution_count": 11,
      "metadata": {}
    },
    {
      "cell_type": "markdown",
      "source": [
        "Objective example\n",
        "\n",
        "---"
      ],
      "metadata": {}
    },
    {
      "cell_type": "code",
      "source": [
        "cordish2020.loc[13]['objective']"
      ],
      "outputs": [
        {
          "output_type": "execute_result",
          "execution_count": 12,
          "data": {
            "text/plain": [
              "'Neurological diseases cause enormous suffering and a great economic burden. Almost 20 million Europeans are affected by the most frequently occurring and disabling disease entities, such as stroke, Alzheimerâ€™s disease (AD), or multiple sclerosis (MS), and these numbers do not include the large group of rare diseases that affect the CNS. Overall, the annual costs for patient care amount to 400 billion Euros. Common features of many neurological diseases are a vascular pathology with impaired blood-brain barrier (BBB) function or with reduced blood flow and inflammatory changes. As the two are often associated, disentangling their intricate and mutual relationship is a major task for translational neuroscience that could improve the treatment of many neurological diseases. At the cellular level, key players are brain endothelial cells as the building blocks of cerebral vessels and macrophages as the main inflammatory cells of the brain. Recent discoveries indicate that endothelial cells and brain macrophages are in intimate contact and closely interact. However, there is a huge gap of knowledge regarding the specific mode and the consequences of these interactions. Therefore, in-depth analyses of the molecular mechanisms involved are essential to identify and understand key features of macrophage-endothelial cross-talk, and exploitation of this information for the development of treatments of neurological diseases. ENTRAIN will undertake this task, using novel and emerging technologies, such as cutting-edge chemoproteomics, unique genetic and viral tools for targeting of defined cell populations, and high resolution intravital imaging. By characterising the pas de deux of endothelial cells and macrophages at the functional and morphological level, we will lay the foundation for better therapies for neurological diseases. The results will impact on the understanding of neuroinflammation, but also on the rarefaction of vessels.'"
            ]
          },
          "metadata": {}
        }
      ],
      "execution_count": 12,
      "metadata": {}
    },
    {
      "cell_type": "markdown",
      "source": [
        "---"
      ],
      "metadata": {}
    },
    {
      "cell_type": "markdown",
      "source": [
        "### Deterministic text labeling, Flashtext for easy regex"
      ],
      "metadata": {}
    },
    {
      "cell_type": "code",
      "source": [
        "from flashtext import KeywordProcessor"
      ],
      "outputs": [],
      "execution_count": 19,
      "metadata": {}
    },
    {
      "cell_type": "code",
      "source": [
        "def extract(vec, dictionary, info=False):\n",
        "    empty = []\n",
        "    for line in vec:\n",
        "        empty.append(dictionary.extract_keywords(line, span_info=info))\n",
        "    return empty"
      ],
      "outputs": [],
      "execution_count": 20,
      "metadata": {}
    },
    {
      "cell_type": "code",
      "source": [
        "# unique list of technology group\n",
        "technology_group = list(categories['technology_group'].unique())\n",
        "len(technology_group)"
      ],
      "outputs": [
        {
          "output_type": "execute_result",
          "execution_count": 21,
          "data": {
            "text/plain": [
              "24"
            ]
          },
          "metadata": {}
        }
      ],
      "execution_count": 21,
      "metadata": {}
    },
    {
      "cell_type": "code",
      "source": [
        "dictionary1 = KeywordProcessor()\n",
        "dictionary1.add_keywords_from_list(technology_group)\n",
        "extracted1 = extract(cordish2020['objective'], dictionary1)\n",
        "cordish2020['matches_group'] = [list(set(i)) if len(i)>0 else '' for i in extracted1]\n",
        "cordish2020['count_matches_group'] = [len(i) for i in extracted1]\n",
        "cordish2020['count_unique_matches_group'] = [len(set(i)) for i in extracted1]"
      ],
      "outputs": [],
      "execution_count": 22,
      "metadata": {}
    },
    {
      "cell_type": "code",
      "source": [
        "# unique list of technology term\n",
        "technology_term = [y for x in categories['technology_term'] for y in x if y != '']\n",
        "len(technology_term)"
      ],
      "outputs": [
        {
          "output_type": "execute_result",
          "execution_count": 23,
          "data": {
            "text/plain": [
              "223"
            ]
          },
          "metadata": {}
        }
      ],
      "execution_count": 23,
      "metadata": {}
    },
    {
      "cell_type": "code",
      "source": [
        "#adding the new list of terms\n",
        "dictionary2 = KeywordProcessor()\n",
        "dictionary2.add_keywords_from_list(technology_term)\n",
        "extracted2 = extract(cordish2020['objective'], dictionary2)\n",
        "cordish2020['matches_technology'] = [list(set(i)) if len(i)>0 else '' for i in extracted2]\n",
        "cordish2020['count_matches_technology'] = [len(i) for i in extracted2]\n",
        "cordish2020['count_unique_matches_technology'] = [len(set(i)) for i in extracted2]"
      ],
      "outputs": [],
      "execution_count": 24,
      "metadata": {}
    },
    {
      "cell_type": "code",
      "source": [
        "#cordish2020.head()"
      ],
      "outputs": [],
      "execution_count": 25,
      "metadata": {}
    },
    {
      "cell_type": "code",
      "source": [
        "# filter only the rows with at least one match\n",
        "cordish2020['count_matches'] = cordish2020['count_matches_group'] + cordish2020['count_matches_technology'] \n",
        "cordish2020matches = cordish2020[cordish2020['count_matches_technology'] > 0 ] #at least one match with technology term"
      ],
      "outputs": [],
      "execution_count": 26,
      "metadata": {}
    },
    {
      "cell_type": "code",
      "source": [
        "cordish2020matches.columns"
      ],
      "outputs": [
        {
          "output_type": "execute_result",
          "execution_count": 27,
          "data": {
            "text/plain": [
              "Index(['rcn', 'id', 'acronym', 'status', 'programme', 'topics',\n",
              "       'frameworkProgramme', 'title', 'startDate', 'endDate', 'projectUrl',\n",
              "       'objective', 'totalCost', 'ecMaxContribution', 'call', 'fundingScheme',\n",
              "       'coordinator', 'coordinatorCountry', 'participants',\n",
              "       'participantCountries', 'subjects', 'matches_group',\n",
              "       'count_matches_group', 'count_unique_matches_group',\n",
              "       'matches_technology', 'count_matches_technology',\n",
              "       'count_unique_matches_technology', 'count_matches'],\n",
              "      dtype='object')"
            ]
          },
          "metadata": {}
        }
      ],
      "execution_count": 27,
      "metadata": {}
    },
    {
      "cell_type": "code",
      "source": [
        "len(cordish2020matches)"
      ],
      "outputs": [
        {
          "output_type": "execute_result",
          "execution_count": 28,
          "data": {
            "text/plain": [
              "2052"
            ]
          },
          "metadata": {}
        }
      ],
      "execution_count": 28,
      "metadata": {}
    },
    {
      "cell_type": "code",
      "source": [
        "print(100*len(cordish2020matches)/len(cordish2020))"
      ],
      "outputs": [
        {
          "output_type": "stream",
          "name": "stdout",
          "text": [
            "8.357090494420461\n"
          ]
        }
      ],
      "execution_count": 31,
      "metadata": {}
    },
    {
      "cell_type": "code",
      "source": [
        "#this is the list we need to compare with the probabilistic\n",
        "cordish2020matches.id[:20]"
      ],
      "outputs": [
        {
          "output_type": "execute_result",
          "execution_count": 30,
          "data": {
            "text/plain": [
              "2      815147\n",
              "5      835398\n",
              "14     826097\n",
              "16     835541\n",
              "33     812602\n",
              "43     811592\n",
              "45     847641\n",
              "66     805344\n",
              "69     779606\n",
              "75     818470\n",
              "106    799408\n",
              "126    786483\n",
              "131    841910\n",
              "132    838686\n",
              "134    842633\n",
              "149    820892\n",
              "159    814400\n",
              "185    830036\n",
              "190    836317\n",
              "205    814106\n",
              "Name: id, dtype: int64"
            ]
          },
          "metadata": {}
        }
      ],
      "execution_count": 30,
      "metadata": {}
    },
    {
      "cell_type": "code",
      "source": [
        "cordish2020matches.columns"
      ],
      "outputs": [
        {
          "output_type": "execute_result",
          "execution_count": 32,
          "data": {
            "text/plain": [
              "Index(['rcn', 'id', 'acronym', 'status', 'programme', 'topics',\n",
              "       'frameworkProgramme', 'title', 'startDate', 'endDate', 'projectUrl',\n",
              "       'objective', 'totalCost', 'ecMaxContribution', 'call', 'fundingScheme',\n",
              "       'coordinator', 'coordinatorCountry', 'participants',\n",
              "       'participantCountries', 'subjects', 'matches_group',\n",
              "       'count_matches_group', 'count_unique_matches_group',\n",
              "       'matches_technology', 'count_matches_technology',\n",
              "       'count_unique_matches_technology', 'count_matches'],\n",
              "      dtype='object')"
            ]
          },
          "metadata": {}
        }
      ],
      "execution_count": 32,
      "metadata": {}
    },
    {
      "cell_type": "code",
      "source": [
        "cordish2020matches[['acronym','title','endDate','ecMaxContribution','matches_group','count_matches']].sort_values('count_matches', ascending=False).head(10)"
      ],
      "outputs": [
        {
          "output_type": "execute_result",
          "execution_count": 38,
          "data": {
            "text/html": [
              "<div>\n",
              "<style scoped>\n",
              "    .dataframe tbody tr th:only-of-type {\n",
              "        vertical-align: middle;\n",
              "    }\n",
              "\n",
              "    .dataframe tbody tr th {\n",
              "        vertical-align: top;\n",
              "    }\n",
              "\n",
              "    .dataframe thead th {\n",
              "        text-align: right;\n",
              "    }\n",
              "</style>\n",
              "<table border=\"1\" class=\"dataframe\">\n",
              "  <thead>\n",
              "    <tr style=\"text-align: right;\">\n",
              "      <th></th>\n",
              "      <th>acronym</th>\n",
              "      <th>title</th>\n",
              "      <th>endDate</th>\n",
              "      <th>ecMaxContribution</th>\n",
              "      <th>matches_group</th>\n",
              "      <th>count_matches</th>\n",
              "    </tr>\n",
              "  </thead>\n",
              "  <tbody>\n",
              "    <tr>\n",
              "      <th>3745</th>\n",
              "      <td>STEMM-CCS</td>\n",
              "      <td>Strategies for Environmental Monitoring of Mar...</td>\n",
              "      <td>2020-02-29</td>\n",
              "      <td>15918369.00</td>\n",
              "      <td>[Storage, CCS]</td>\n",
              "      <td>28</td>\n",
              "    </tr>\n",
              "    <tr>\n",
              "      <th>17201</th>\n",
              "      <td>ACT</td>\n",
              "      <td>Accellerating CCS technologies as a new low-ca...</td>\n",
              "      <td>2021-01-31</td>\n",
              "      <td>11889929.23</td>\n",
              "      <td>[Storage, CCS]</td>\n",
              "      <td>27</td>\n",
              "    </tr>\n",
              "    <tr>\n",
              "      <th>2580</th>\n",
              "      <td>FLOATMAST</td>\n",
              "      <td>An Innovative Wind Resource Assessment Tension...</td>\n",
              "      <td>2015-11-30</td>\n",
              "      <td>50000.00</td>\n",
              "      <td>[Wind]</td>\n",
              "      <td>24</td>\n",
              "    </tr>\n",
              "    <tr>\n",
              "      <th>1784</th>\n",
              "      <td>WITRO</td>\n",
              "      <td>Wind and Turbulence Radar for Offshore wind en...</td>\n",
              "      <td>2015-12-31</td>\n",
              "      <td>50000.00</td>\n",
              "      <td>[Wind]</td>\n",
              "      <td>22</td>\n",
              "    </tr>\n",
              "    <tr>\n",
              "      <th>22707</th>\n",
              "      <td>Small-scale CSP</td>\n",
              "      <td>Numerical and experimental analysis of a novel...</td>\n",
              "      <td>2020-05-31</td>\n",
              "      <td>212194.80</td>\n",
              "      <td>[Storage]</td>\n",
              "      <td>22</td>\n",
              "    </tr>\n",
              "    <tr>\n",
              "      <th>11216</th>\n",
              "      <td>SENSIBLE</td>\n",
              "      <td>Storage-Enabled Sustainable Energy for Buildin...</td>\n",
              "      <td>2018-12-31</td>\n",
              "      <td>11842396.76</td>\n",
              "      <td>[Storage, Energy management]</td>\n",
              "      <td>20</td>\n",
              "    </tr>\n",
              "    <tr>\n",
              "      <th>18498</th>\n",
              "      <td>acteno</td>\n",
              "      <td>Industrial Energy Storage Integration - develo...</td>\n",
              "      <td>2018-08-31</td>\n",
              "      <td>143900.00</td>\n",
              "      <td>[Storage]</td>\n",
              "      <td>19</td>\n",
              "    </tr>\n",
              "    <tr>\n",
              "      <th>19944</th>\n",
              "      <td>FLOWSPA</td>\n",
              "      <td>Floating Offshore Wind Support Platform and As...</td>\n",
              "      <td>2017-09-30</td>\n",
              "      <td>50000.00</td>\n",
              "      <td>[Wind]</td>\n",
              "      <td>19</td>\n",
              "    </tr>\n",
              "    <tr>\n",
              "      <th>6939</th>\n",
              "      <td>REMOTE</td>\n",
              "      <td>Remote area Energy supply with Multiple Option...</td>\n",
              "      <td>2021-12-31</td>\n",
              "      <td>4995950.25</td>\n",
              "      <td>[Storage, Wind, Fuel]</td>\n",
              "      <td>19</td>\n",
              "    </tr>\n",
              "    <tr>\n",
              "      <th>8750</th>\n",
              "      <td>AutoRE</td>\n",
              "      <td>AUTomotive deRivative Energy system</td>\n",
              "      <td>2018-07-31</td>\n",
              "      <td>3496947.00</td>\n",
              "      <td>[Fuel]</td>\n",
              "      <td>18</td>\n",
              "    </tr>\n",
              "  </tbody>\n",
              "</table>\n",
              "</div>"
            ],
            "text/plain": [
              "               acronym                                              title  \\\n",
              "3745         STEMM-CCS  Strategies for Environmental Monitoring of Mar...   \n",
              "17201              ACT  Accellerating CCS technologies as a new low-ca...   \n",
              "2580         FLOATMAST  An Innovative Wind Resource Assessment Tension...   \n",
              "1784             WITRO  Wind and Turbulence Radar for Offshore wind en...   \n",
              "22707  Small-scale CSP  Numerical and experimental analysis of a novel...   \n",
              "11216         SENSIBLE  Storage-Enabled Sustainable Energy for Buildin...   \n",
              "18498           acteno  Industrial Energy Storage Integration - develo...   \n",
              "19944          FLOWSPA  Floating Offshore Wind Support Platform and As...   \n",
              "6939            REMOTE  Remote area Energy supply with Multiple Option...   \n",
              "8750            AutoRE                AUTomotive deRivative Energy system   \n",
              "\n",
              "         endDate  ecMaxContribution                 matches_group  \\\n",
              "3745  2020-02-29        15918369.00                [Storage, CCS]   \n",
              "17201 2021-01-31        11889929.23                [Storage, CCS]   \n",
              "2580  2015-11-30           50000.00                        [Wind]   \n",
              "1784  2015-12-31           50000.00                        [Wind]   \n",
              "22707 2020-05-31          212194.80                     [Storage]   \n",
              "11216 2018-12-31        11842396.76  [Storage, Energy management]   \n",
              "18498 2018-08-31          143900.00                     [Storage]   \n",
              "19944 2017-09-30           50000.00                        [Wind]   \n",
              "6939  2021-12-31         4995950.25         [Storage, Wind, Fuel]   \n",
              "8750  2018-07-31         3496947.00                        [Fuel]   \n",
              "\n",
              "       count_matches  \n",
              "3745              28  \n",
              "17201             27  \n",
              "2580              24  \n",
              "1784              22  \n",
              "22707             22  \n",
              "11216             20  \n",
              "18498             19  \n",
              "19944             19  \n",
              "6939              19  \n",
              "8750              18  "
            ]
          },
          "metadata": {}
        }
      ],
      "execution_count": 38,
      "metadata": {}
    },
    {
      "cell_type": "code",
      "source": [
        "cordish2020matches.sort_values('count_matches', ascending=False).head(10)"
      ],
      "outputs": [
        {
          "output_type": "execute_result",
          "execution_count": 23,
          "data": {
            "text/html": [
              "<div>\n",
              "<style scoped>\n",
              "    .dataframe tbody tr th:only-of-type {\n",
              "        vertical-align: middle;\n",
              "    }\n",
              "\n",
              "    .dataframe tbody tr th {\n",
              "        vertical-align: top;\n",
              "    }\n",
              "\n",
              "    .dataframe thead th {\n",
              "        text-align: right;\n",
              "    }\n",
              "</style>\n",
              "<table border=\"1\" class=\"dataframe\">\n",
              "  <thead>\n",
              "    <tr style=\"text-align: right;\">\n",
              "      <th></th>\n",
              "      <th>rcn</th>\n",
              "      <th>id</th>\n",
              "      <th>acronym</th>\n",
              "      <th>status</th>\n",
              "      <th>programme</th>\n",
              "      <th>topics</th>\n",
              "      <th>frameworkProgramme</th>\n",
              "      <th>title</th>\n",
              "      <th>startDate</th>\n",
              "      <th>endDate</th>\n",
              "      <th>...</th>\n",
              "      <th>participants</th>\n",
              "      <th>participantCountries</th>\n",
              "      <th>subjects</th>\n",
              "      <th>matches_group</th>\n",
              "      <th>count_matches_group</th>\n",
              "      <th>count_unique_matches_group</th>\n",
              "      <th>matches_technology</th>\n",
              "      <th>count_matches_technology</th>\n",
              "      <th>count_unique_matches_technology</th>\n",
              "      <th>count_matches</th>\n",
              "    </tr>\n",
              "  </thead>\n",
              "  <tbody>\n",
              "    <tr>\n",
              "      <th>3745</th>\n",
              "      <td>200472</td>\n",
              "      <td>654462</td>\n",
              "      <td>STEMM-CCS</td>\n",
              "      <td>SIGNED</td>\n",
              "      <td>H2020-EU.3.3.2.3.</td>\n",
              "      <td>LCE-15-2015</td>\n",
              "      <td>H2020</td>\n",
              "      <td>Strategies for Environmental Monitoring of Mar...</td>\n",
              "      <td>2016-03-01</td>\n",
              "      <td>2020-02-29</td>\n",
              "      <td>...</td>\n",
              "      <td>UNIVERSITETET I TROMSOE - NORGES ARKTISKE UNIV...</td>\n",
              "      <td>NO;UK;AT;DE;NL</td>\n",
              "      <td>NaN</td>\n",
              "      <td>[CCS, Storage]</td>\n",
              "      <td>15</td>\n",
              "      <td>2</td>\n",
              "      <td>[CCS, carbon capture and storage]</td>\n",
              "      <td>13</td>\n",
              "      <td>2</td>\n",
              "      <td>28</td>\n",
              "    </tr>\n",
              "    <tr>\n",
              "      <th>17201</th>\n",
              "      <td>199423</td>\n",
              "      <td>691712</td>\n",
              "      <td>ACT</td>\n",
              "      <td>SIGNED</td>\n",
              "      <td>H2020-EU.3.3.2.;H2020-EU.3.3.3.;H2020-EU.3.3.4.</td>\n",
              "      <td>LCE-18-2015</td>\n",
              "      <td>H2020</td>\n",
              "      <td>Accellerating CCS technologies as a new low-ca...</td>\n",
              "      <td>2016-02-01</td>\n",
              "      <td>2021-01-31</td>\n",
              "      <td>...</td>\n",
              "      <td>ETHNIKO KENTRO EREVNAS KAI TECHNOLOGIKIS ANAPT...</td>\n",
              "      <td>EL;UK;DE;RO;TR;NL;ES;NO;CH</td>\n",
              "      <td>NaN</td>\n",
              "      <td>[CCS, Storage]</td>\n",
              "      <td>14</td>\n",
              "      <td>2</td>\n",
              "      <td>[CCS]</td>\n",
              "      <td>13</td>\n",
              "      <td>1</td>\n",
              "      <td>27</td>\n",
              "    </tr>\n",
              "    <tr>\n",
              "      <th>2580</th>\n",
              "      <td>197010</td>\n",
              "      <td>673782</td>\n",
              "      <td>FLOATMAST</td>\n",
              "      <td>CLOSED</td>\n",
              "      <td>H2020-EU.3.3.;H2020-EU.2.3.1.</td>\n",
              "      <td>SIE-01-2014-1</td>\n",
              "      <td>H2020</td>\n",
              "      <td>An Innovative Wind Resource Assessment Tension...</td>\n",
              "      <td>2015-06-01</td>\n",
              "      <td>2015-11-30</td>\n",
              "      <td>...</td>\n",
              "      <td>STREAMLINED SYMVOULI MECHANIKI EPE</td>\n",
              "      <td>EL</td>\n",
              "      <td>NaN</td>\n",
              "      <td>[Wind]</td>\n",
              "      <td>15</td>\n",
              "      <td>1</td>\n",
              "      <td>[onshore wind, offshore wind]</td>\n",
              "      <td>9</td>\n",
              "      <td>2</td>\n",
              "      <td>24</td>\n",
              "    </tr>\n",
              "    <tr>\n",
              "      <th>1784</th>\n",
              "      <td>198559</td>\n",
              "      <td>698136</td>\n",
              "      <td>WITRO</td>\n",
              "      <td>CLOSED</td>\n",
              "      <td>H2020-EU.3.3.;H2020-EU.2.3.1.</td>\n",
              "      <td>SIE-01-2015-1</td>\n",
              "      <td>H2020</td>\n",
              "      <td>Wind and Turbulence Radar for Offshore wind en...</td>\n",
              "      <td>2015-09-01</td>\n",
              "      <td>2015-12-31</td>\n",
              "      <td>...</td>\n",
              "      <td>NaN</td>\n",
              "      <td>NaN</td>\n",
              "      <td>NaN</td>\n",
              "      <td>[Wind]</td>\n",
              "      <td>21</td>\n",
              "      <td>1</td>\n",
              "      <td>[offshore wind]</td>\n",
              "      <td>1</td>\n",
              "      <td>1</td>\n",
              "      <td>22</td>\n",
              "    </tr>\n",
              "    <tr>\n",
              "      <th>22707</th>\n",
              "      <td>215270</td>\n",
              "      <td>794562</td>\n",
              "      <td>Small-scale CSP</td>\n",
              "      <td>SIGNED</td>\n",
              "      <td>H2020-EU.1.3.2.</td>\n",
              "      <td>MSCA-IF-2017</td>\n",
              "      <td>H2020</td>\n",
              "      <td>Numerical and experimental analysis of a novel...</td>\n",
              "      <td>2018-06-01</td>\n",
              "      <td>2020-05-31</td>\n",
              "      <td>...</td>\n",
              "      <td>NaN</td>\n",
              "      <td>NaN</td>\n",
              "      <td>NaN</td>\n",
              "      <td>[Storage]</td>\n",
              "      <td>7</td>\n",
              "      <td>1</td>\n",
              "      <td>[CSP, concentrated solar power, Fresnel reflec...</td>\n",
              "      <td>15</td>\n",
              "      <td>6</td>\n",
              "      <td>22</td>\n",
              "    </tr>\n",
              "    <tr>\n",
              "      <th>11216</th>\n",
              "      <td>194405</td>\n",
              "      <td>645963</td>\n",
              "      <td>SENSIBLE</td>\n",
              "      <td>SIGNED</td>\n",
              "      <td>H2020-EU.3.3.</td>\n",
              "      <td>LCE-08-2014</td>\n",
              "      <td>H2020</td>\n",
              "      <td>Storage-Enabled Sustainable Energy for Buildin...</td>\n",
              "      <td>2015-01-01</td>\n",
              "      <td>2018-12-31</td>\n",
              "      <td>...</td>\n",
              "      <td>SIEMENS SA;MEADOWS OZONE ENERGY SERVICES LTD.;...</td>\n",
              "      <td>PT;UK;ES;DE;FR;FI</td>\n",
              "      <td>NaN</td>\n",
              "      <td>[Energy management, Storage]</td>\n",
              "      <td>13</td>\n",
              "      <td>2</td>\n",
              "      <td>[PV, renewable energy, thermal storage, CHP, e...</td>\n",
              "      <td>7</td>\n",
              "      <td>5</td>\n",
              "      <td>20</td>\n",
              "    </tr>\n",
              "    <tr>\n",
              "      <th>18498</th>\n",
              "      <td>210955</td>\n",
              "      <td>739615</td>\n",
              "      <td>acteno</td>\n",
              "      <td>CLOSED</td>\n",
              "      <td>H2020-EU.2.3.2.2.</td>\n",
              "      <td>INNOSUP-02-2016</td>\n",
              "      <td>H2020</td>\n",
              "      <td>Industrial Energy Storage Integration - develo...</td>\n",
              "      <td>2017-09-01</td>\n",
              "      <td>2018-08-31</td>\n",
              "      <td>...</td>\n",
              "      <td>NaN</td>\n",
              "      <td>NaN</td>\n",
              "      <td>NaN</td>\n",
              "      <td>[Storage]</td>\n",
              "      <td>14</td>\n",
              "      <td>1</td>\n",
              "      <td>[energy storage, renewable energy]</td>\n",
              "      <td>5</td>\n",
              "      <td>2</td>\n",
              "      <td>19</td>\n",
              "    </tr>\n",
              "    <tr>\n",
              "      <th>19944</th>\n",
              "      <td>207129</td>\n",
              "      <td>744518</td>\n",
              "      <td>FLOWSPA</td>\n",
              "      <td>CLOSED</td>\n",
              "      <td>H2020-EU.3.3.;H2020-EU.2.1.1.;H2020-EU.2.3.1.</td>\n",
              "      <td>SMEInst-09-2016-2017</td>\n",
              "      <td>H2020</td>\n",
              "      <td>Floating Offshore Wind Support Platform and As...</td>\n",
              "      <td>2017-02-01</td>\n",
              "      <td>2017-09-30</td>\n",
              "      <td>...</td>\n",
              "      <td>NaN</td>\n",
              "      <td>NaN</td>\n",
              "      <td>NaN</td>\n",
              "      <td>[Wind]</td>\n",
              "      <td>11</td>\n",
              "      <td>1</td>\n",
              "      <td>[offshore wind]</td>\n",
              "      <td>8</td>\n",
              "      <td>1</td>\n",
              "      <td>19</td>\n",
              "    </tr>\n",
              "    <tr>\n",
              "      <th>6939</th>\n",
              "      <td>213067</td>\n",
              "      <td>779541</td>\n",
              "      <td>REMOTE</td>\n",
              "      <td>SIGNED</td>\n",
              "      <td>H2020-EU.3.3.8.2.;H2020-EU.3.3.8.3.</td>\n",
              "      <td>FCH-02-12-2017</td>\n",
              "      <td>H2020</td>\n",
              "      <td>Remote area Energy supply with Multiple Option...</td>\n",
              "      <td>2018-01-01</td>\n",
              "      <td>2021-12-31</td>\n",
              "      <td>...</td>\n",
              "      <td>IRIS SRL;ETHNIKO KENTRO EREVNAS KAI TECHNOLOGI...</td>\n",
              "      <td>IT;EL;DK;NO;BE;FR</td>\n",
              "      <td>NaN</td>\n",
              "      <td>[Wind, Fuel, Storage]</td>\n",
              "      <td>7</td>\n",
              "      <td>3</td>\n",
              "      <td>[PV, CHP, fuel cell, energy storage, micro-grid]</td>\n",
              "      <td>12</td>\n",
              "      <td>5</td>\n",
              "      <td>19</td>\n",
              "    </tr>\n",
              "    <tr>\n",
              "      <th>8750</th>\n",
              "      <td>197929</td>\n",
              "      <td>671396</td>\n",
              "      <td>AutoRE</td>\n",
              "      <td>SIGNED</td>\n",
              "      <td>H2020-EU.3.3.8.1.</td>\n",
              "      <td>FCH-02.5-2014</td>\n",
              "      <td>H2020</td>\n",
              "      <td>AUTomotive deRivative Energy system</td>\n",
              "      <td>2015-08-01</td>\n",
              "      <td>2018-07-31</td>\n",
              "      <td>...</td>\n",
              "      <td>SVEUCILISTE U SPLITU, FAKULTET ELEKTROTEHNIKE,...</td>\n",
              "      <td>HR;EL;NO;CH;DE;IT</td>\n",
              "      <td>NaN</td>\n",
              "      <td>[Fuel]</td>\n",
              "      <td>7</td>\n",
              "      <td>1</td>\n",
              "      <td>[CHP, fuel cell, combined heat and power]</td>\n",
              "      <td>11</td>\n",
              "      <td>3</td>\n",
              "      <td>18</td>\n",
              "    </tr>\n",
              "  </tbody>\n",
              "</table>\n",
              "<p>10 rows × 28 columns</p>\n",
              "</div>"
            ],
            "text/plain": [
              "          rcn      id          acronym  status  \\\n",
              "3745   200472  654462        STEMM-CCS  SIGNED   \n",
              "17201  199423  691712              ACT  SIGNED   \n",
              "2580   197010  673782        FLOATMAST  CLOSED   \n",
              "1784   198559  698136            WITRO  CLOSED   \n",
              "22707  215270  794562  Small-scale CSP  SIGNED   \n",
              "11216  194405  645963         SENSIBLE  SIGNED   \n",
              "18498  210955  739615           acteno  CLOSED   \n",
              "19944  207129  744518          FLOWSPA  CLOSED   \n",
              "6939   213067  779541           REMOTE  SIGNED   \n",
              "8750   197929  671396           AutoRE  SIGNED   \n",
              "\n",
              "                                             programme                topics  \\\n",
              "3745                                 H2020-EU.3.3.2.3.           LCE-15-2015   \n",
              "17201  H2020-EU.3.3.2.;H2020-EU.3.3.3.;H2020-EU.3.3.4.           LCE-18-2015   \n",
              "2580                     H2020-EU.3.3.;H2020-EU.2.3.1.         SIE-01-2014-1   \n",
              "1784                     H2020-EU.3.3.;H2020-EU.2.3.1.         SIE-01-2015-1   \n",
              "22707                                  H2020-EU.1.3.2.          MSCA-IF-2017   \n",
              "11216                                    H2020-EU.3.3.           LCE-08-2014   \n",
              "18498                                H2020-EU.2.3.2.2.       INNOSUP-02-2016   \n",
              "19944    H2020-EU.3.3.;H2020-EU.2.1.1.;H2020-EU.2.3.1.  SMEInst-09-2016-2017   \n",
              "6939               H2020-EU.3.3.8.2.;H2020-EU.3.3.8.3.        FCH-02-12-2017   \n",
              "8750                                 H2020-EU.3.3.8.1.         FCH-02.5-2014   \n",
              "\n",
              "      frameworkProgramme                                              title  \\\n",
              "3745               H2020  Strategies for Environmental Monitoring of Mar...   \n",
              "17201              H2020  Accellerating CCS technologies as a new low-ca...   \n",
              "2580               H2020  An Innovative Wind Resource Assessment Tension...   \n",
              "1784               H2020  Wind and Turbulence Radar for Offshore wind en...   \n",
              "22707              H2020  Numerical and experimental analysis of a novel...   \n",
              "11216              H2020  Storage-Enabled Sustainable Energy for Buildin...   \n",
              "18498              H2020  Industrial Energy Storage Integration - develo...   \n",
              "19944              H2020  Floating Offshore Wind Support Platform and As...   \n",
              "6939               H2020  Remote area Energy supply with Multiple Option...   \n",
              "8750               H2020                AUTomotive deRivative Energy system   \n",
              "\n",
              "       startDate    endDate  ...  \\\n",
              "3745  2016-03-01 2020-02-29  ...   \n",
              "17201 2016-02-01 2021-01-31  ...   \n",
              "2580  2015-06-01 2015-11-30  ...   \n",
              "1784  2015-09-01 2015-12-31  ...   \n",
              "22707 2018-06-01 2020-05-31  ...   \n",
              "11216 2015-01-01 2018-12-31  ...   \n",
              "18498 2017-09-01 2018-08-31  ...   \n",
              "19944 2017-02-01 2017-09-30  ...   \n",
              "6939  2018-01-01 2021-12-31  ...   \n",
              "8750  2015-08-01 2018-07-31  ...   \n",
              "\n",
              "                                            participants  \\\n",
              "3745   UNIVERSITETET I TROMSOE - NORGES ARKTISKE UNIV...   \n",
              "17201  ETHNIKO KENTRO EREVNAS KAI TECHNOLOGIKIS ANAPT...   \n",
              "2580                  STREAMLINED SYMVOULI MECHANIKI EPE   \n",
              "1784                                                 NaN   \n",
              "22707                                                NaN   \n",
              "11216  SIEMENS SA;MEADOWS OZONE ENERGY SERVICES LTD.;...   \n",
              "18498                                                NaN   \n",
              "19944                                                NaN   \n",
              "6939   IRIS SRL;ETHNIKO KENTRO EREVNAS KAI TECHNOLOGI...   \n",
              "8750   SVEUCILISTE U SPLITU, FAKULTET ELEKTROTEHNIKE,...   \n",
              "\n",
              "             participantCountries  subjects                 matches_group  \\\n",
              "3745               NO;UK;AT;DE;NL       NaN                [CCS, Storage]   \n",
              "17201  EL;UK;DE;RO;TR;NL;ES;NO;CH       NaN                [CCS, Storage]   \n",
              "2580                           EL       NaN                        [Wind]   \n",
              "1784                          NaN       NaN                        [Wind]   \n",
              "22707                         NaN       NaN                     [Storage]   \n",
              "11216           PT;UK;ES;DE;FR;FI       NaN  [Energy management, Storage]   \n",
              "18498                         NaN       NaN                     [Storage]   \n",
              "19944                         NaN       NaN                        [Wind]   \n",
              "6939            IT;EL;DK;NO;BE;FR       NaN         [Wind, Fuel, Storage]   \n",
              "8750            HR;EL;NO;CH;DE;IT       NaN                        [Fuel]   \n",
              "\n",
              "      count_matches_group count_unique_matches_group  \\\n",
              "3745                   15                          2   \n",
              "17201                  14                          2   \n",
              "2580                   15                          1   \n",
              "1784                   21                          1   \n",
              "22707                   7                          1   \n",
              "11216                  13                          2   \n",
              "18498                  14                          1   \n",
              "19944                  11                          1   \n",
              "6939                    7                          3   \n",
              "8750                    7                          1   \n",
              "\n",
              "                                      matches_technology  \\\n",
              "3745                   [CCS, carbon capture and storage]   \n",
              "17201                                              [CCS]   \n",
              "2580                       [onshore wind, offshore wind]   \n",
              "1784                                     [offshore wind]   \n",
              "22707  [CSP, concentrated solar power, Fresnel reflec...   \n",
              "11216  [PV, renewable energy, thermal storage, CHP, e...   \n",
              "18498                 [energy storage, renewable energy]   \n",
              "19944                                    [offshore wind]   \n",
              "6939    [PV, CHP, fuel cell, energy storage, micro-grid]   \n",
              "8750           [CHP, fuel cell, combined heat and power]   \n",
              "\n",
              "      count_matches_technology count_unique_matches_technology count_matches  \n",
              "3745                        13                               2            28  \n",
              "17201                       13                               1            27  \n",
              "2580                         9                               2            24  \n",
              "1784                         1                               1            22  \n",
              "22707                       15                               6            22  \n",
              "11216                        7                               5            20  \n",
              "18498                        5                               2            19  \n",
              "19944                        8                               1            19  \n",
              "6939                        12                               5            19  \n",
              "8750                        11                               3            18  \n",
              "\n",
              "[10 rows x 28 columns]"
            ]
          },
          "metadata": {}
        }
      ],
      "execution_count": 23,
      "metadata": {}
    },
    {
      "cell_type": "code",
      "source": [
        "def get_terms_matrix(vector_of_terms, all_terms):\n",
        "    matrix = []\n",
        "    for vector in vector_of_terms:\n",
        "        ind_vector = [0] * len(all_terms)\n",
        "        for v in vector:\n",
        "            for idx, i in enumerate(all_terms):\n",
        "                if v == i:\n",
        "                    ind_vector[idx] = 1\n",
        "        matrix.append(ind_vector)\n",
        "    table = pd.DataFrame(matrix)\n",
        "    return table"
      ],
      "outputs": [],
      "execution_count": 32,
      "metadata": {}
    },
    {
      "cell_type": "code",
      "source": [
        "all_technology_terms = [i for i in set([*list(categories['technology_group']),*list(technology_term)])]"
      ],
      "outputs": [],
      "execution_count": 33,
      "metadata": {}
    },
    {
      "cell_type": "code",
      "source": [
        "len(all_technology_terms)"
      ],
      "outputs": [
        {
          "output_type": "execute_result",
          "execution_count": 34,
          "data": {
            "text/plain": [
              "235"
            ]
          },
          "metadata": {}
        }
      ],
      "execution_count": 34,
      "metadata": {}
    },
    {
      "cell_type": "code",
      "source": [
        "all_technology_terms[:10]"
      ],
      "outputs": [
        {
          "output_type": "execute_result",
          "execution_count": 35,
          "data": {
            "text/plain": [
              "['geothermal energy',\n",
              " 'low green house gas refrigeration',\n",
              " 'efficient lighting',\n",
              " 'low GHG air conditioning',\n",
              " 'landfill biocover',\n",
              " 'soil management',\n",
              " 'agro-sylviculture',\n",
              " 'geothermal power',\n",
              " 'Urban forestry',\n",
              " 'low green house gas food-delivery chain']"
            ]
          },
          "metadata": {}
        }
      ],
      "execution_count": 35,
      "metadata": {}
    },
    {
      "cell_type": "code",
      "source": [
        "#expected to have 225 columns\n",
        "matches_technology_table = get_terms_matrix(list(cordish2020matches['matches_technology']), all_technology_terms)\n",
        "matches_group_table = get_terms_matrix(list(cordish2020matches['matches_group']), all_technology_terms)"
      ],
      "outputs": [],
      "execution_count": 36,
      "metadata": {}
    },
    {
      "cell_type": "code",
      "source": [
        "matches_table = matches_group_table + matches_technology_table\n",
        "matches_table.columns = all_technology_terms\n",
        "matches_table['number_unique_terms'] = matches_table.sum(axis=1)"
      ],
      "outputs": [],
      "execution_count": 37,
      "metadata": {}
    },
    {
      "cell_type": "code",
      "source": [
        "matches_table.head()"
      ],
      "outputs": [
        {
          "output_type": "execute_result",
          "execution_count": 38,
          "data": {
            "text/html": [
              "<div>\n",
              "<style scoped>\n",
              "    .dataframe tbody tr th:only-of-type {\n",
              "        vertical-align: middle;\n",
              "    }\n",
              "\n",
              "    .dataframe tbody tr th {\n",
              "        vertical-align: top;\n",
              "    }\n",
              "\n",
              "    .dataframe thead th {\n",
              "        text-align: right;\n",
              "    }\n",
              "</style>\n",
              "<table border=\"1\" class=\"dataframe\">\n",
              "  <thead>\n",
              "    <tr style=\"text-align: right;\">\n",
              "      <th></th>\n",
              "      <th>geothermal energy</th>\n",
              "      <th>low green house gas refrigeration</th>\n",
              "      <th>efficient lighting</th>\n",
              "      <th>low GHG air conditioning</th>\n",
              "      <th>landfill biocover</th>\n",
              "      <th>soil management</th>\n",
              "      <th>agro-sylviculture</th>\n",
              "      <th>geothermal power</th>\n",
              "      <th>Urban forestry</th>\n",
              "      <th>low green house gas food-delivery chain</th>\n",
              "      <th>...</th>\n",
              "      <th>compressed natural gas</th>\n",
              "      <th>osmotic power</th>\n",
              "      <th>liquefied natural gas</th>\n",
              "      <th>mid-season drainage</th>\n",
              "      <th>management of soil</th>\n",
              "      <th>blast furnace slag</th>\n",
              "      <th>DSM</th>\n",
              "      <th>food delivery chain</th>\n",
              "      <th>forest management</th>\n",
              "      <th>number_unique_terms</th>\n",
              "    </tr>\n",
              "  </thead>\n",
              "  <tbody>\n",
              "    <tr>\n",
              "      <th>0</th>\n",
              "      <td>0</td>\n",
              "      <td>0</td>\n",
              "      <td>0</td>\n",
              "      <td>0</td>\n",
              "      <td>0</td>\n",
              "      <td>0</td>\n",
              "      <td>0</td>\n",
              "      <td>0</td>\n",
              "      <td>0</td>\n",
              "      <td>0</td>\n",
              "      <td>...</td>\n",
              "      <td>0</td>\n",
              "      <td>0</td>\n",
              "      <td>0</td>\n",
              "      <td>0</td>\n",
              "      <td>0</td>\n",
              "      <td>0</td>\n",
              "      <td>0</td>\n",
              "      <td>0</td>\n",
              "      <td>0</td>\n",
              "      <td>2</td>\n",
              "    </tr>\n",
              "    <tr>\n",
              "      <th>1</th>\n",
              "      <td>0</td>\n",
              "      <td>0</td>\n",
              "      <td>0</td>\n",
              "      <td>0</td>\n",
              "      <td>0</td>\n",
              "      <td>0</td>\n",
              "      <td>0</td>\n",
              "      <td>0</td>\n",
              "      <td>0</td>\n",
              "      <td>0</td>\n",
              "      <td>...</td>\n",
              "      <td>0</td>\n",
              "      <td>0</td>\n",
              "      <td>0</td>\n",
              "      <td>0</td>\n",
              "      <td>0</td>\n",
              "      <td>0</td>\n",
              "      <td>0</td>\n",
              "      <td>0</td>\n",
              "      <td>1</td>\n",
              "      <td>1</td>\n",
              "    </tr>\n",
              "    <tr>\n",
              "      <th>2</th>\n",
              "      <td>0</td>\n",
              "      <td>0</td>\n",
              "      <td>0</td>\n",
              "      <td>0</td>\n",
              "      <td>0</td>\n",
              "      <td>0</td>\n",
              "      <td>0</td>\n",
              "      <td>0</td>\n",
              "      <td>0</td>\n",
              "      <td>0</td>\n",
              "      <td>...</td>\n",
              "      <td>0</td>\n",
              "      <td>0</td>\n",
              "      <td>0</td>\n",
              "      <td>0</td>\n",
              "      <td>0</td>\n",
              "      <td>0</td>\n",
              "      <td>0</td>\n",
              "      <td>0</td>\n",
              "      <td>0</td>\n",
              "      <td>2</td>\n",
              "    </tr>\n",
              "    <tr>\n",
              "      <th>3</th>\n",
              "      <td>0</td>\n",
              "      <td>0</td>\n",
              "      <td>0</td>\n",
              "      <td>0</td>\n",
              "      <td>0</td>\n",
              "      <td>0</td>\n",
              "      <td>0</td>\n",
              "      <td>0</td>\n",
              "      <td>0</td>\n",
              "      <td>0</td>\n",
              "      <td>...</td>\n",
              "      <td>0</td>\n",
              "      <td>0</td>\n",
              "      <td>0</td>\n",
              "      <td>0</td>\n",
              "      <td>0</td>\n",
              "      <td>0</td>\n",
              "      <td>0</td>\n",
              "      <td>0</td>\n",
              "      <td>1</td>\n",
              "      <td>1</td>\n",
              "    </tr>\n",
              "    <tr>\n",
              "      <th>4</th>\n",
              "      <td>0</td>\n",
              "      <td>0</td>\n",
              "      <td>0</td>\n",
              "      <td>0</td>\n",
              "      <td>0</td>\n",
              "      <td>0</td>\n",
              "      <td>0</td>\n",
              "      <td>0</td>\n",
              "      <td>0</td>\n",
              "      <td>0</td>\n",
              "      <td>...</td>\n",
              "      <td>0</td>\n",
              "      <td>0</td>\n",
              "      <td>0</td>\n",
              "      <td>0</td>\n",
              "      <td>0</td>\n",
              "      <td>0</td>\n",
              "      <td>0</td>\n",
              "      <td>0</td>\n",
              "      <td>0</td>\n",
              "      <td>1</td>\n",
              "    </tr>\n",
              "  </tbody>\n",
              "</table>\n",
              "<p>5 rows × 236 columns</p>\n",
              "</div>"
            ],
            "text/plain": [
              "   geothermal energy  low green house gas refrigeration  efficient lighting  \\\n",
              "0                  0                                  0                   0   \n",
              "1                  0                                  0                   0   \n",
              "2                  0                                  0                   0   \n",
              "3                  0                                  0                   0   \n",
              "4                  0                                  0                   0   \n",
              "\n",
              "   low GHG air conditioning  landfill biocover  soil management  \\\n",
              "0                         0                  0                0   \n",
              "1                         0                  0                0   \n",
              "2                         0                  0                0   \n",
              "3                         0                  0                0   \n",
              "4                         0                  0                0   \n",
              "\n",
              "   agro-sylviculture  geothermal power  Urban forestry  \\\n",
              "0                  0                 0               0   \n",
              "1                  0                 0               0   \n",
              "2                  0                 0               0   \n",
              "3                  0                 0               0   \n",
              "4                  0                 0               0   \n",
              "\n",
              "   low green house gas food-delivery chain  ...  compressed natural gas  \\\n",
              "0                                        0  ...                       0   \n",
              "1                                        0  ...                       0   \n",
              "2                                        0  ...                       0   \n",
              "3                                        0  ...                       0   \n",
              "4                                        0  ...                       0   \n",
              "\n",
              "   osmotic power  liquefied natural gas  mid-season drainage  \\\n",
              "0              0                      0                    0   \n",
              "1              0                      0                    0   \n",
              "2              0                      0                    0   \n",
              "3              0                      0                    0   \n",
              "4              0                      0                    0   \n",
              "\n",
              "   management of soil  blast furnace slag  DSM  food delivery chain  \\\n",
              "0                   0                   0    0                    0   \n",
              "1                   0                   0    0                    0   \n",
              "2                   0                   0    0                    0   \n",
              "3                   0                   0    0                    0   \n",
              "4                   0                   0    0                    0   \n",
              "\n",
              "   forest management  number_unique_terms  \n",
              "0                  0                    2  \n",
              "1                  1                    1  \n",
              "2                  0                    2  \n",
              "3                  1                    1  \n",
              "4                  0                    1  \n",
              "\n",
              "[5 rows x 236 columns]"
            ]
          },
          "metadata": {}
        }
      ],
      "execution_count": 38,
      "metadata": {}
    },
    {
      "cell_type": "code",
      "source": [
        "len(matches_table) == len(cordish2020matches)"
      ],
      "outputs": [
        {
          "output_type": "execute_result",
          "execution_count": 39,
          "data": {
            "text/plain": [
              "True"
            ]
          },
          "metadata": {}
        }
      ],
      "execution_count": 39,
      "metadata": {}
    },
    {
      "cell_type": "code",
      "source": [
        "full_table_tech_matches = pd.concat([cordish2020matches.reset_index(), matches_table], axis=1).sort_values(['count_matches','number_unique_terms'], ascending=False).reset_index()"
      ],
      "outputs": [],
      "execution_count": 40,
      "metadata": {}
    },
    {
      "cell_type": "code",
      "source": [
        "len(full_table_tech_matches)"
      ],
      "outputs": [
        {
          "output_type": "execute_result",
          "execution_count": 41,
          "data": {
            "text/plain": [
              "2052"
            ]
          },
          "metadata": {}
        }
      ],
      "execution_count": 41,
      "metadata": {}
    },
    {
      "cell_type": "code",
      "source": [
        "import seaborn as sns\n",
        "sns.distplot(full_table_tech_matches['number_unique_terms'])"
      ],
      "outputs": [
        {
          "output_type": "execute_result",
          "execution_count": 42,
          "data": {
            "text/plain": [
              "<matplotlib.axes._subplots.AxesSubplot at 0x114c62a58>"
            ]
          },
          "metadata": {}
        },
        {
          "output_type": "display_data",
          "data": {
            "image/png": "[encoded data removed]",
            "text/plain": [
              "<Figure size 432x288 with 1 Axes>"
            ]
          },
          "metadata": {
            "needs_background": "light"
          }
        }
      ],
      "execution_count": 42,
      "metadata": {}
    },
    {
      "cell_type": "code",
      "source": [
        "sns.distplot(full_table_tech_matches['count_matches'])"
      ],
      "outputs": [
        {
          "output_type": "execute_result",
          "execution_count": 43,
          "data": {
            "text/plain": [
              "<matplotlib.axes._subplots.AxesSubplot at 0x114dd1cf8>"
            ]
          },
          "metadata": {}
        },
        {
          "output_type": "display_data",
          "data": {
            "image/png": "[encoded data removed]",
            "text/plain": [
              "<Figure size 432x288 with 1 Axes>"
            ]
          },
          "metadata": {
            "needs_background": "light"
          }
        }
      ],
      "execution_count": 43,
      "metadata": {}
    },
    {
      "cell_type": "code",
      "source": [
        "full_table_tech_matches.groupby('count_matches').count()['number_unique_terms']"
      ],
      "outputs": [
        {
          "output_type": "execute_result",
          "execution_count": 44,
          "data": {
            "text/plain": [
              "count_matches\n",
              "1     693\n",
              "2     433\n",
              "3     259\n",
              "4     180\n",
              "5     111\n",
              "6      89\n",
              "7      67\n",
              "8      45\n",
              "9      45\n",
              "10     28\n",
              "11     27\n",
              "12     23\n",
              "13     15\n",
              "14     10\n",
              "15      7\n",
              "16      6\n",
              "17      3\n",
              "18      2\n",
              "19      3\n",
              "20      1\n",
              "22      2\n",
              "24      1\n",
              "27      1\n",
              "28      1\n",
              "Name: number_unique_terms, dtype: int64"
            ]
          },
          "metadata": {}
        }
      ],
      "execution_count": 44,
      "metadata": {}
    },
    {
      "cell_type": "code",
      "source": [
        "#for i, j in zip(full_table_tech_matches[full_table_tech_matches['count_matches'] ==2]['matches_technology'],full_table_tech_matches[full_table_tech_matches['count_matches'] ==2]['matches_group']):\n",
        "#    print(i, j)"
      ],
      "outputs": [],
      "execution_count": 45,
      "metadata": {}
    },
    {
      "cell_type": "code",
      "source": [
        "#full_table_tech_matches.columns[:35]#.head()"
      ],
      "outputs": [],
      "execution_count": 46,
      "metadata": {}
    },
    {
      "cell_type": "code",
      "source": [
        "#for i in full_table_tech_matches.columns:\n",
        "#    print(i)\n",
        "#count_matches: each time a term in the glossary of 225 terms appear\n",
        "#number_unique_terms: "
      ],
      "outputs": [],
      "execution_count": 47,
      "metadata": {}
    },
    {
      "cell_type": "code",
      "source": [
        "full_table_tech_matches[['id','acronym','title','objective','startDate','endDate','ecMaxContribution',\n",
        "                         'coordinator', 'coordinatorCountry','matches_group','matches_technology','number_unique_terms','count_matches']].to_csv('../data/tech.csv')"
      ],
      "outputs": [],
      "execution_count": 48,
      "metadata": {}
    },
    {
      "cell_type": "code",
      "source": [
        "termsT = full_table_tech_matches.iloc[:,33:-1].T\n",
        "termsT['sum'] = termsT.sum(axis=1)"
      ],
      "outputs": [],
      "execution_count": 49,
      "metadata": {}
    },
    {
      "cell_type": "code",
      "source": [
        "#termsT.sort_values('sum', ascending=False)"
      ],
      "outputs": [],
      "execution_count": 50,
      "metadata": {}
    },
    {
      "cell_type": "code",
      "source": [
        "len(termsT[termsT['sum']>0])/len(termsT)"
      ],
      "outputs": [
        {
          "output_type": "execute_result",
          "execution_count": 51,
          "data": {
            "text/plain": [
              "0.4827586206896552"
            ]
          },
          "metadata": {}
        }
      ],
      "execution_count": 51,
      "metadata": {}
    },
    {
      "cell_type": "code",
      "source": [
        "#all_terms"
      ],
      "outputs": [],
      "execution_count": 52,
      "metadata": {}
    },
    {
      "cell_type": "code",
      "source": [
        "data = pd.read_csv('../data/tech.csv')"
      ],
      "outputs": [],
      "execution_count": 56,
      "metadata": {}
    },
    {
      "cell_type": "code",
      "source": [
        "len(data)"
      ],
      "outputs": [
        {
          "output_type": "execute_result",
          "execution_count": 57,
          "data": {
            "text/plain": [
              "2052"
            ]
          },
          "metadata": {}
        }
      ],
      "execution_count": 57,
      "metadata": {}
    }
  ],
  "metadata": {
    "kernelspec": {
      "display_name": "Python 3",
      "language": "python",
      "name": "python3"
    },
    "language_info": {
      "codemirror_mode": {
        "name": "ipython",
        "version": 3
      },
      "file_extension": ".py",
      "mimetype": "text/x-python",
      "name": "python",
      "nbconvert_exporter": "python",
      "pygments_lexer": "ipython3",
      "version": "3.7.3"
    },
    "nteract": {
      "version": "0.15.0"
    }
  },
  "nbformat": 4,
  "nbformat_minor": 2
}