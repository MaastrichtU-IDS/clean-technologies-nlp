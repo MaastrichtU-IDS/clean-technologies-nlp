{
 "cells": [
  {
   "cell_type": "markdown",
   "metadata": {},
   "source": [
    "# Final Results File Generation - CleanTechTag "
   ]
  },
  {
   "cell_type": "markdown",
   "metadata": {},
   "source": [
    "------\n",
    "To get a complete idea of EU investment per technology and per year is necessary to include the catalogue of technologies described in the paper `extensive_catalogue`. In combination with `cleantechtag_joint_results.csv` that contains the same columns of the original [CORDIS data](https://data.europa.eu/euodp/en/data/dataset/cordisref-data), with the difference that it only contains the `1,732` projects identified by `CleanTechTag` that are related to Climate CHange mitigation technologies"
   ]
  },
  {
   "cell_type": "code",
   "execution_count": 1,
   "metadata": {},
   "outputs": [
    {
     "name": "stdout",
     "output_type": "stream",
     "text": [
      "Total number of projects filtered by CleanTechTag computational framework: 1732\n",
      "Total number of distinct technologies identified in the qualitative research: 66\n"
     ]
    }
   ],
   "source": [
    "import pandas as pd\n",
    "\n",
    "joint = pd.read_csv('../data/cleantechtag_joint_results.csv')\n",
    "catalogue = pd.read_csv('../data/extensive_catalogue.csv')\n",
    "\n",
    "data = pd.merge(catalogue, joint, on='id', how='inner')\n",
    "data['year'] = [i[:4] for i in data.startDate]\n",
    "data['ecMaxContribution'] = data['ecMaxContribution']/1000000\n",
    "\n",
    "print('Total number of projects filtered by CleanTechTag computational framework: {}'.format(len(joint)))\n",
    "print('Total number of distinct technologies identified in the qualitative research: {}'.format(len(catalogue.technology.unique())))"
   ]
  },
  {
   "cell_type": "markdown",
   "metadata": {},
   "source": [
    "#### EU investment per technology (preview)"
   ]
  },
  {
   "cell_type": "code",
   "execution_count": 2,
   "metadata": {},
   "outputs": [
    {
     "data": {
      "text/plain": [
       "priority  sector       technology                                     \n",
       "0.0       Agriculture  direct seeding                                       0.050000\n",
       "                       electron acceptor                                    0.411108\n",
       "                       soil management                                     65.186473\n",
       "          Energy       downdraft                                            0.050000\n",
       "                       onshore wind                                         1.754457\n",
       "                                                                             ...    \n",
       "1.0       Transport    low GHG public transport / rapid transit design      7.996591\n",
       "                       non-motorised transport design                       3.831696\n",
       "                       reduced need for travel                              1.217982\n",
       "                       regenerative braking                                11.082407\n",
       "                       traffic management                                 168.792545\n",
       "Name: ecMaxContribution, Length: 65, dtype: float64"
      ]
     },
     "execution_count": 2,
     "metadata": {},
     "output_type": "execute_result"
    }
   ],
   "source": [
    "data.groupby(['priority','sector','technology']).sum()['ecMaxContribution']"
   ]
  },
  {
   "cell_type": "markdown",
   "metadata": {},
   "source": [
    "#### EU investment per year"
   ]
  },
  {
   "cell_type": "code",
   "execution_count": 3,
   "metadata": {},
   "outputs": [
    {
     "data": {
      "text/plain": [
       "year\n",
       "2014       9.341321\n",
       "2015    1282.387519\n",
       "2016    1467.127426\n",
       "2017    1288.795665\n",
       "2018    1185.315361\n",
       "2019    1251.978334\n",
       "2020     357.927585\n",
       "Name: ecMaxContribution, dtype: float64"
      ]
     },
     "execution_count": 3,
     "metadata": {},
     "output_type": "execute_result"
    }
   ],
   "source": [
    "data.groupby('year').sum()['ecMaxContribution']"
   ]
  },
  {
   "cell_type": "markdown",
   "metadata": {},
   "source": [
    "---\n",
    "### Summary table generation"
   ]
  },
  {
   "cell_type": "code",
   "execution_count": 4,
   "metadata": {},
   "outputs": [],
   "source": [
    "data_pivoted = pd.pivot_table(data,  \n",
    "               index='technology', \n",
    "               columns='year', \n",
    "               aggfunc='sum', \n",
    "               fill_value=None, \n",
    "               margins=False, \n",
    "               dropna=True, \n",
    "               margins_name='All', \n",
    "               observed=False)['ecMaxContribution']\n",
    "data_pivoted.to_excel('../data/cordis-h2020projects-filtered-by-CleanTechTag-Final.xls')"
   ]
  }
 ],
 "metadata": {
  "kernelspec": {
   "display_name": "Python 3",
   "language": "python",
   "name": "python3"
  },
  "language_info": {
   "codemirror_mode": {
    "name": "ipython",
    "version": 3
   },
   "file_extension": ".py",
   "mimetype": "text/x-python",
   "name": "python",
   "nbconvert_exporter": "python",
   "pygments_lexer": "ipython3",
   "version": "3.7.6"
  }
 },
 "nbformat": 4,
 "nbformat_minor": 4
}
