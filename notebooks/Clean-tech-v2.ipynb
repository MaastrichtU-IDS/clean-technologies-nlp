{
 "cells": [
  {
   "cell_type": "markdown",
   "metadata": {},
   "source": [
    "## Clean Technologies "
   ]
  },
  {
   "cell_type": "code",
   "execution_count": 1,
   "metadata": {},
   "outputs": [],
   "source": [
    "import pandas as pd\n",
    "import matplotlib.pyplot as plt\n",
    "import warnings\n",
    "warnings.filterwarnings(\"ignore\")\n",
    "%matplotlib inline"
   ]
  },
  {
   "cell_type": "code",
   "execution_count": 2,
   "metadata": {},
   "outputs": [
    {
     "data": {
      "text/html": [
       "<div>\n",
       "<style scoped>\n",
       "    .dataframe tbody tr th:only-of-type {\n",
       "        vertical-align: middle;\n",
       "    }\n",
       "\n",
       "    .dataframe tbody tr th {\n",
       "        vertical-align: top;\n",
       "    }\n",
       "\n",
       "    .dataframe thead th {\n",
       "        text-align: right;\n",
       "    }\n",
       "</style>\n",
       "<table border=\"1\" class=\"dataframe\">\n",
       "  <thead>\n",
       "    <tr style=\"text-align: right;\">\n",
       "      <th></th>\n",
       "      <th>sector</th>\n",
       "      <th>technology_group</th>\n",
       "      <th>technology</th>\n",
       "      <th>description</th>\n",
       "      <th>technology_term</th>\n",
       "      <th>source</th>\n",
       "    </tr>\n",
       "  </thead>\n",
       "  <tbody>\n",
       "    <tr>\n",
       "      <th>0</th>\n",
       "      <td>Energy</td>\n",
       "      <td>Solar energy sources</td>\n",
       "      <td>solar PV</td>\n",
       "      <td>Also “solar photovoltaic”; technology of using...</td>\n",
       "      <td>photovoltaic, PV, “solar cell”</td>\n",
       "      <td>https://www.ctc-n.org/technologies/solar-pv</td>\n",
       "    </tr>\n",
       "    <tr>\n",
       "      <th>1</th>\n",
       "      <td>Energy</td>\n",
       "      <td>Solar energy sources</td>\n",
       "      <td>concentrated solar power (CSP)</td>\n",
       "      <td>Technology of producing electricity by concent...</td>\n",
       "      <td>“concentrated solar power”, CSP, “concentrated...</td>\n",
       "      <td>https://setis.ec.europa.eu/technologies/concen...</td>\n",
       "    </tr>\n",
       "    <tr>\n",
       "      <th>2</th>\n",
       "      <td>Energy</td>\n",
       "      <td>Solar energy sources</td>\n",
       "      <td>solar heating</td>\n",
       "      <td>Technology of capturing the sun's radiation an...</td>\n",
       "      <td>“solar heating”</td>\n",
       "      <td>https://www.ctc-n.org/technologies/solar-heating</td>\n",
       "    </tr>\n",
       "    <tr>\n",
       "      <th>3</th>\n",
       "      <td>Energy</td>\n",
       "      <td>Solar energy sources</td>\n",
       "      <td>solar dryer</td>\n",
       "      <td>Technology of drying substances, especially fo...</td>\n",
       "      <td>“solar dryer”</td>\n",
       "      <td>https://www.ctc-n.org/technologies/solar-dryer</td>\n",
       "    </tr>\n",
       "    <tr>\n",
       "      <th>4</th>\n",
       "      <td>Energy</td>\n",
       "      <td>Solar energy sources</td>\n",
       "      <td>solar water pump</td>\n",
       "      <td>Technology of powering electrical water pumps ...</td>\n",
       "      <td>“solar water pump”</td>\n",
       "      <td>https://www.ctc-n.org/technologies/solar-water...</td>\n",
       "    </tr>\n",
       "  </tbody>\n",
       "</table>\n",
       "</div>"
      ],
      "text/plain": [
       "   sector      technology_group                      technology  \\\n",
       "0  Energy  Solar energy sources                        solar PV   \n",
       "1  Energy  Solar energy sources  concentrated solar power (CSP)   \n",
       "2  Energy  Solar energy sources                   solar heating   \n",
       "3  Energy  Solar energy sources                     solar dryer   \n",
       "4  Energy  Solar energy sources                solar water pump   \n",
       "\n",
       "                                         description  \\\n",
       "0  Also “solar photovoltaic”; technology of using...   \n",
       "1  Technology of producing electricity by concent...   \n",
       "2  Technology of capturing the sun's radiation an...   \n",
       "3  Technology of drying substances, especially fo...   \n",
       "4  Technology of powering electrical water pumps ...   \n",
       "\n",
       "                                     technology_term  \\\n",
       "0                    photovoltaic, PV, “solar cell”    \n",
       "1  “concentrated solar power”, CSP, “concentrated...   \n",
       "2                                    “solar heating”   \n",
       "3                                      “solar dryer”   \n",
       "4                                 “solar water pump”   \n",
       "\n",
       "                                              source  \n",
       "0        https://www.ctc-n.org/technologies/solar-pv  \n",
       "1  https://setis.ec.europa.eu/technologies/concen...  \n",
       "2   https://www.ctc-n.org/technologies/solar-heating  \n",
       "3     https://www.ctc-n.org/technologies/solar-dryer  \n",
       "4  https://www.ctc-n.org/technologies/solar-water...  "
      ]
     },
     "execution_count": 2,
     "metadata": {},
     "output_type": "execute_result"
    }
   ],
   "source": [
    "categories = pd.read_excel('../data/categories.xls')\n",
    "categories = categories.fillna(method='ffill')\n",
    "categories.columns = ['sector','technology_group','technology','description','technology_term','source']\n",
    "categories.head()"
   ]
  },
  {
   "cell_type": "code",
   "execution_count": 3,
   "metadata": {},
   "outputs": [],
   "source": [
    "matrix = []\n",
    "for term in categories['technology_term']:\n",
    "    row = [x.strip() for x in term.split(',')]\n",
    "    row = [i.replace('“', '').replace('”', '') for i in row]\n",
    "    matrix.append(row)\n",
    "categories['technology_term'] = matrix"
   ]
  },
  {
   "cell_type": "markdown",
   "metadata": {},
   "source": [
    "---"
   ]
  },
  {
   "cell_type": "code",
   "execution_count": 4,
   "metadata": {},
   "outputs": [],
   "source": [
    "#https://data.europa.eu/euodp/en/data/dataset/cordisH2020projects"
   ]
  },
  {
   "cell_type": "code",
   "execution_count": 5,
   "metadata": {},
   "outputs": [],
   "source": [
    "cordish2020 = pd.read_excel('../data/cordis-h2020projects.xlsx')\n",
    "#cordish2020 = pd.read_csv('../data/cordis-h2020projects.csv', sep=\";\")"
   ]
  },
  {
   "cell_type": "code",
   "execution_count": 6,
   "metadata": {},
   "outputs": [
    {
     "data": {
      "text/plain": [
       "Index(['rcn', 'id', 'acronym', 'status', 'programme', 'topics',\n",
       "       'frameworkProgramme', 'title', 'startDate', 'endDate', 'projectUrl',\n",
       "       'objective', 'totalCost', 'ecMaxContribution', 'call', 'fundingScheme',\n",
       "       'coordinator', 'coordinatorCountry', 'participants',\n",
       "       'participantCountries', 'subjects'],\n",
       "      dtype='object')"
      ]
     },
     "execution_count": 6,
     "metadata": {},
     "output_type": "execute_result"
    }
   ],
   "source": [
    "cordish2020.columns"
   ]
  },
  {
   "cell_type": "code",
   "execution_count": 7,
   "metadata": {},
   "outputs": [],
   "source": [
    "cordish2020['totalCost'] = [float(str(i).replace(',', '.')) for i in cordish2020['totalCost']]\n",
    "cordish2020['ecMaxContribution'] = [float(str(i).replace(',', '.')) for i in cordish2020['ecMaxContribution']]"
   ]
  },
  {
   "cell_type": "code",
   "execution_count": 8,
   "metadata": {},
   "outputs": [],
   "source": [
    "cordish2020['startDate'] = cordish2020['startDate'].map(pd.Timestamp)\n",
    "cordish2020['endDate'] = cordish2020['endDate'].map(pd.Timestamp)"
   ]
  },
  {
   "cell_type": "code",
   "execution_count": 9,
   "metadata": {},
   "outputs": [
    {
     "data": {
      "text/plain": [
       "24554"
      ]
     },
     "execution_count": 9,
     "metadata": {},
     "output_type": "execute_result"
    }
   ],
   "source": [
    "# Total of proyects\n",
    "len(cordish2020)"
   ]
  },
  {
   "cell_type": "markdown",
   "metadata": {},
   "source": [
    "Objective example\n",
    "\n",
    "---"
   ]
  },
  {
   "cell_type": "code",
   "execution_count": 10,
   "metadata": {},
   "outputs": [
    {
     "data": {
      "text/plain": [
       "'Neurological diseases cause enormous suffering and a great economic burden. Almost 20 million Europeans are affected by the most frequently occurring and disabling disease entities, such as stroke, Alzheimerâ€™s disease (AD), or multiple sclerosis (MS), and these numbers do not include the large group of rare diseases that affect the CNS. Overall, the annual costs for patient care amount to 400 billion Euros. Common features of many neurological diseases are a vascular pathology with impaired blood-brain barrier (BBB) function or with reduced blood flow and inflammatory changes. As the two are often associated, disentangling their intricate and mutual relationship is a major task for translational neuroscience that could improve the treatment of many neurological diseases. At the cellular level, key players are brain endothelial cells as the building blocks of cerebral vessels and macrophages as the main inflammatory cells of the brain. Recent discoveries indicate that endothelial cells and brain macrophages are in intimate contact and closely interact. However, there is a huge gap of knowledge regarding the specific mode and the consequences of these interactions. Therefore, in-depth analyses of the molecular mechanisms involved are essential to identify and understand key features of macrophage-endothelial cross-talk, and exploitation of this information for the development of treatments of neurological diseases. ENTRAIN will undertake this task, using novel and emerging technologies, such as cutting-edge chemoproteomics, unique genetic and viral tools for targeting of defined cell populations, and high resolution intravital imaging. By characterising the pas de deux of endothelial cells and macrophages at the functional and morphological level, we will lay the foundation for better therapies for neurological diseases. The results will impact on the understanding of neuroinflammation, but also on the rarefaction of vessels.'"
      ]
     },
     "execution_count": 10,
     "metadata": {},
     "output_type": "execute_result"
    }
   ],
   "source": [
    "cordish2020.loc[13]['objective']"
   ]
  },
  {
   "cell_type": "markdown",
   "metadata": {},
   "source": [
    "---"
   ]
  },
  {
   "cell_type": "markdown",
   "metadata": {},
   "source": [
    "### Deterministic text labeling, Flashtext for easy regex"
   ]
  },
  {
   "cell_type": "code",
   "execution_count": 11,
   "metadata": {},
   "outputs": [],
   "source": [
    "from flashtext import KeywordProcessor"
   ]
  },
  {
   "cell_type": "code",
   "execution_count": 12,
   "metadata": {},
   "outputs": [],
   "source": [
    "def extract(vec, dictionary, info=False):\n",
    "    empty = []\n",
    "    for line in vec:\n",
    "        empty.append(dictionary.extract_keywords(line, span_info=info))\n",
    "    return empty"
   ]
  },
  {
   "cell_type": "code",
   "execution_count": 13,
   "metadata": {},
   "outputs": [
    {
     "data": {
      "text/plain": [
       "24"
      ]
     },
     "execution_count": 13,
     "metadata": {},
     "output_type": "execute_result"
    }
   ],
   "source": [
    "# unique list of technology group\n",
    "technology_group = list(categories['technology_group'].unique())\n",
    "len(technology_group)"
   ]
  },
  {
   "cell_type": "code",
   "execution_count": 14,
   "metadata": {},
   "outputs": [],
   "source": [
    "dictionary1 = KeywordProcessor()\n",
    "dictionary1.add_keywords_from_list(technology_group)\n",
    "extracted1 = extract(cordish2020['objective'], dictionary1)\n",
    "cordish2020['matches_group'] = [list(set(i)) if len(i)>0 else '' for i in extracted1]\n",
    "cordish2020['count_matches_group'] = [len(i) for i in extracted1]\n",
    "cordish2020['count_unique_matches_group'] = [len(set(i)) for i in extracted1]"
   ]
  },
  {
   "cell_type": "code",
   "execution_count": 15,
   "metadata": {},
   "outputs": [
    {
     "data": {
      "text/plain": [
       "223"
      ]
     },
     "execution_count": 15,
     "metadata": {},
     "output_type": "execute_result"
    }
   ],
   "source": [
    "# unique list of technology term\n",
    "technology_term = [y for x in categories['technology_term'] for y in x if y != '']\n",
    "len(technology_term)"
   ]
  },
  {
   "cell_type": "code",
   "execution_count": 16,
   "metadata": {},
   "outputs": [],
   "source": [
    "#adding the new list of terms\n",
    "dictionary2 = KeywordProcessor()\n",
    "dictionary2.add_keywords_from_list(technology_term)\n",
    "extracted2 = extract(cordish2020['objective'], dictionary2)\n",
    "cordish2020['matches_technology'] = [list(set(i)) if len(i)>0 else '' for i in extracted2]\n",
    "cordish2020['count_matches_technology'] = [len(i) for i in extracted2]\n",
    "cordish2020['count_unique_matches_technology'] = [len(set(i)) for i in extracted2]"
   ]
  },
  {
   "cell_type": "code",
   "execution_count": 17,
   "metadata": {},
   "outputs": [],
   "source": [
    "#cordish2020.head()"
   ]
  },
  {
   "cell_type": "code",
   "execution_count": 18,
   "metadata": {},
   "outputs": [],
   "source": [
    "# filter only the rows with at least one match\n",
    "cordish2020['count_matches'] = cordish2020['count_matches_group'] + cordish2020['count_matches_technology'] \n",
    "cordish2020matches = cordish2020[cordish2020['count_matches_technology'] > 0 ] #at least one match with technology term"
   ]
  },
  {
   "cell_type": "code",
   "execution_count": 19,
   "metadata": {},
   "outputs": [
    {
     "data": {
      "text/plain": [
       "Index(['rcn', 'id', 'acronym', 'status', 'programme', 'topics',\n",
       "       'frameworkProgramme', 'title', 'startDate', 'endDate', 'projectUrl',\n",
       "       'objective', 'totalCost', 'ecMaxContribution', 'call', 'fundingScheme',\n",
       "       'coordinator', 'coordinatorCountry', 'participants',\n",
       "       'participantCountries', 'subjects', 'matches_group',\n",
       "       'count_matches_group', 'count_unique_matches_group',\n",
       "       'matches_technology', 'count_matches_technology',\n",
       "       'count_unique_matches_technology', 'count_matches'],\n",
       "      dtype='object')"
      ]
     },
     "execution_count": 19,
     "metadata": {},
     "output_type": "execute_result"
    }
   ],
   "source": [
    "cordish2020matches.columns"
   ]
  },
  {
   "cell_type": "code",
   "execution_count": 20,
   "metadata": {},
   "outputs": [
    {
     "data": {
      "text/plain": [
       "2052"
      ]
     },
     "execution_count": 20,
     "metadata": {},
     "output_type": "execute_result"
    }
   ],
   "source": [
    "len(cordish2020matches)"
   ]
  },
  {
   "cell_type": "code",
   "execution_count": 21,
   "metadata": {},
   "outputs": [
    {
     "name": "stdout",
     "output_type": "stream",
     "text": [
      "0.0835709049442046\n"
     ]
    }
   ],
   "source": [
    "print(len(cordish2020matches)/len(cordish2020))"
   ]
  },
  {
   "cell_type": "code",
   "execution_count": 22,
   "metadata": {},
   "outputs": [
    {
     "data": {
      "text/plain": [
       "2      815147\n",
       "5      835398\n",
       "14     826097\n",
       "16     835541\n",
       "33     812602\n",
       "43     811592\n",
       "45     847641\n",
       "66     805344\n",
       "69     779606\n",
       "75     818470\n",
       "106    799408\n",
       "126    786483\n",
       "131    841910\n",
       "132    838686\n",
       "134    842633\n",
       "149    820892\n",
       "159    814400\n",
       "185    830036\n",
       "190    836317\n",
       "205    814106\n",
       "Name: id, dtype: int64"
      ]
     },
     "execution_count": 22,
     "metadata": {},
     "output_type": "execute_result"
    }
   ],
   "source": [
    "#this is the list we need to compare with the probabilistic\n",
    "cordish2020matches.id[:20]"
   ]
  },
  {
   "cell_type": "code",
   "execution_count": 23,
   "metadata": {},
   "outputs": [
    {
     "data": {
      "text/html": [
       "<div>\n",
       "<style scoped>\n",
       "    .dataframe tbody tr th:only-of-type {\n",
       "        vertical-align: middle;\n",
       "    }\n",
       "\n",
       "    .dataframe tbody tr th {\n",
       "        vertical-align: top;\n",
       "    }\n",
       "\n",
       "    .dataframe thead th {\n",
       "        text-align: right;\n",
       "    }\n",
       "</style>\n",
       "<table border=\"1\" class=\"dataframe\">\n",
       "  <thead>\n",
       "    <tr style=\"text-align: right;\">\n",
       "      <th></th>\n",
       "      <th>rcn</th>\n",
       "      <th>id</th>\n",
       "      <th>acronym</th>\n",
       "      <th>status</th>\n",
       "      <th>programme</th>\n",
       "      <th>topics</th>\n",
       "      <th>frameworkProgramme</th>\n",
       "      <th>title</th>\n",
       "      <th>startDate</th>\n",
       "      <th>endDate</th>\n",
       "      <th>...</th>\n",
       "      <th>participants</th>\n",
       "      <th>participantCountries</th>\n",
       "      <th>subjects</th>\n",
       "      <th>matches_group</th>\n",
       "      <th>count_matches_group</th>\n",
       "      <th>count_unique_matches_group</th>\n",
       "      <th>matches_technology</th>\n",
       "      <th>count_matches_technology</th>\n",
       "      <th>count_unique_matches_technology</th>\n",
       "      <th>count_matches</th>\n",
       "    </tr>\n",
       "  </thead>\n",
       "  <tbody>\n",
       "    <tr>\n",
       "      <th>3745</th>\n",
       "      <td>200472</td>\n",
       "      <td>654462</td>\n",
       "      <td>STEMM-CCS</td>\n",
       "      <td>SIGNED</td>\n",
       "      <td>H2020-EU.3.3.2.3.</td>\n",
       "      <td>LCE-15-2015</td>\n",
       "      <td>H2020</td>\n",
       "      <td>Strategies for Environmental Monitoring of Mar...</td>\n",
       "      <td>2016-03-01</td>\n",
       "      <td>2020-02-29</td>\n",
       "      <td>...</td>\n",
       "      <td>UNIVERSITETET I TROMSOE - NORGES ARKTISKE UNIV...</td>\n",
       "      <td>NO;UK;AT;DE;NL</td>\n",
       "      <td>NaN</td>\n",
       "      <td>[Storage, CCS]</td>\n",
       "      <td>15</td>\n",
       "      <td>2</td>\n",
       "      <td>[carbon capture and storage, CCS]</td>\n",
       "      <td>13</td>\n",
       "      <td>2</td>\n",
       "      <td>28</td>\n",
       "    </tr>\n",
       "    <tr>\n",
       "      <th>17201</th>\n",
       "      <td>199423</td>\n",
       "      <td>691712</td>\n",
       "      <td>ACT</td>\n",
       "      <td>SIGNED</td>\n",
       "      <td>H2020-EU.3.3.2.;H2020-EU.3.3.3.;H2020-EU.3.3.4.</td>\n",
       "      <td>LCE-18-2015</td>\n",
       "      <td>H2020</td>\n",
       "      <td>Accellerating CCS technologies as a new low-ca...</td>\n",
       "      <td>2016-02-01</td>\n",
       "      <td>2021-01-31</td>\n",
       "      <td>...</td>\n",
       "      <td>ETHNIKO KENTRO EREVNAS KAI TECHNOLOGIKIS ANAPT...</td>\n",
       "      <td>EL;UK;DE;RO;TR;NL;ES;NO;CH</td>\n",
       "      <td>NaN</td>\n",
       "      <td>[Storage, CCS]</td>\n",
       "      <td>14</td>\n",
       "      <td>2</td>\n",
       "      <td>[CCS]</td>\n",
       "      <td>13</td>\n",
       "      <td>1</td>\n",
       "      <td>27</td>\n",
       "    </tr>\n",
       "    <tr>\n",
       "      <th>2580</th>\n",
       "      <td>197010</td>\n",
       "      <td>673782</td>\n",
       "      <td>FLOATMAST</td>\n",
       "      <td>CLOSED</td>\n",
       "      <td>H2020-EU.3.3.;H2020-EU.2.3.1.</td>\n",
       "      <td>SIE-01-2014-1</td>\n",
       "      <td>H2020</td>\n",
       "      <td>An Innovative Wind Resource Assessment Tension...</td>\n",
       "      <td>2015-06-01</td>\n",
       "      <td>2015-11-30</td>\n",
       "      <td>...</td>\n",
       "      <td>STREAMLINED SYMVOULI MECHANIKI EPE</td>\n",
       "      <td>EL</td>\n",
       "      <td>NaN</td>\n",
       "      <td>[Wind]</td>\n",
       "      <td>15</td>\n",
       "      <td>1</td>\n",
       "      <td>[offshore wind, onshore wind]</td>\n",
       "      <td>9</td>\n",
       "      <td>2</td>\n",
       "      <td>24</td>\n",
       "    </tr>\n",
       "    <tr>\n",
       "      <th>1784</th>\n",
       "      <td>198559</td>\n",
       "      <td>698136</td>\n",
       "      <td>WITRO</td>\n",
       "      <td>CLOSED</td>\n",
       "      <td>H2020-EU.3.3.;H2020-EU.2.3.1.</td>\n",
       "      <td>SIE-01-2015-1</td>\n",
       "      <td>H2020</td>\n",
       "      <td>Wind and Turbulence Radar for Offshore wind en...</td>\n",
       "      <td>2015-09-01</td>\n",
       "      <td>2015-12-31</td>\n",
       "      <td>...</td>\n",
       "      <td>NaN</td>\n",
       "      <td>NaN</td>\n",
       "      <td>NaN</td>\n",
       "      <td>[Wind]</td>\n",
       "      <td>21</td>\n",
       "      <td>1</td>\n",
       "      <td>[offshore wind]</td>\n",
       "      <td>1</td>\n",
       "      <td>1</td>\n",
       "      <td>22</td>\n",
       "    </tr>\n",
       "    <tr>\n",
       "      <th>22707</th>\n",
       "      <td>215270</td>\n",
       "      <td>794562</td>\n",
       "      <td>Small-scale CSP</td>\n",
       "      <td>SIGNED</td>\n",
       "      <td>H2020-EU.1.3.2.</td>\n",
       "      <td>MSCA-IF-2017</td>\n",
       "      <td>H2020</td>\n",
       "      <td>Numerical and experimental analysis of a novel...</td>\n",
       "      <td>2018-06-01</td>\n",
       "      <td>2020-05-31</td>\n",
       "      <td>...</td>\n",
       "      <td>NaN</td>\n",
       "      <td>NaN</td>\n",
       "      <td>NaN</td>\n",
       "      <td>[Storage]</td>\n",
       "      <td>7</td>\n",
       "      <td>1</td>\n",
       "      <td>[renewable energy, concentrated solar power, t...</td>\n",
       "      <td>15</td>\n",
       "      <td>6</td>\n",
       "      <td>22</td>\n",
       "    </tr>\n",
       "    <tr>\n",
       "      <th>11216</th>\n",
       "      <td>194405</td>\n",
       "      <td>645963</td>\n",
       "      <td>SENSIBLE</td>\n",
       "      <td>SIGNED</td>\n",
       "      <td>H2020-EU.3.3.</td>\n",
       "      <td>LCE-08-2014</td>\n",
       "      <td>H2020</td>\n",
       "      <td>Storage-Enabled Sustainable Energy for Buildin...</td>\n",
       "      <td>2015-01-01</td>\n",
       "      <td>2018-12-31</td>\n",
       "      <td>...</td>\n",
       "      <td>SIEMENS SA;MEADOWS OZONE ENERGY SERVICES LTD.;...</td>\n",
       "      <td>PT;UK;ES;DE;FR;FI</td>\n",
       "      <td>NaN</td>\n",
       "      <td>[Storage, Energy management]</td>\n",
       "      <td>13</td>\n",
       "      <td>2</td>\n",
       "      <td>[renewable energy, thermal storage, energy sto...</td>\n",
       "      <td>7</td>\n",
       "      <td>5</td>\n",
       "      <td>20</td>\n",
       "    </tr>\n",
       "    <tr>\n",
       "      <th>18498</th>\n",
       "      <td>210955</td>\n",
       "      <td>739615</td>\n",
       "      <td>acteno</td>\n",
       "      <td>CLOSED</td>\n",
       "      <td>H2020-EU.2.3.2.2.</td>\n",
       "      <td>INNOSUP-02-2016</td>\n",
       "      <td>H2020</td>\n",
       "      <td>Industrial Energy Storage Integration - develo...</td>\n",
       "      <td>2017-09-01</td>\n",
       "      <td>2018-08-31</td>\n",
       "      <td>...</td>\n",
       "      <td>NaN</td>\n",
       "      <td>NaN</td>\n",
       "      <td>NaN</td>\n",
       "      <td>[Storage]</td>\n",
       "      <td>14</td>\n",
       "      <td>1</td>\n",
       "      <td>[energy storage, renewable energy]</td>\n",
       "      <td>5</td>\n",
       "      <td>2</td>\n",
       "      <td>19</td>\n",
       "    </tr>\n",
       "    <tr>\n",
       "      <th>19944</th>\n",
       "      <td>207129</td>\n",
       "      <td>744518</td>\n",
       "      <td>FLOWSPA</td>\n",
       "      <td>CLOSED</td>\n",
       "      <td>H2020-EU.3.3.;H2020-EU.2.1.1.;H2020-EU.2.3.1.</td>\n",
       "      <td>SMEInst-09-2016-2017</td>\n",
       "      <td>H2020</td>\n",
       "      <td>Floating Offshore Wind Support Platform and As...</td>\n",
       "      <td>2017-02-01</td>\n",
       "      <td>2017-09-30</td>\n",
       "      <td>...</td>\n",
       "      <td>NaN</td>\n",
       "      <td>NaN</td>\n",
       "      <td>NaN</td>\n",
       "      <td>[Wind]</td>\n",
       "      <td>11</td>\n",
       "      <td>1</td>\n",
       "      <td>[offshore wind]</td>\n",
       "      <td>8</td>\n",
       "      <td>1</td>\n",
       "      <td>19</td>\n",
       "    </tr>\n",
       "    <tr>\n",
       "      <th>6939</th>\n",
       "      <td>213067</td>\n",
       "      <td>779541</td>\n",
       "      <td>REMOTE</td>\n",
       "      <td>SIGNED</td>\n",
       "      <td>H2020-EU.3.3.8.2.;H2020-EU.3.3.8.3.</td>\n",
       "      <td>FCH-02-12-2017</td>\n",
       "      <td>H2020</td>\n",
       "      <td>Remote area Energy supply with Multiple Option...</td>\n",
       "      <td>2018-01-01</td>\n",
       "      <td>2021-12-31</td>\n",
       "      <td>...</td>\n",
       "      <td>IRIS SRL;ETHNIKO KENTRO EREVNAS KAI TECHNOLOGI...</td>\n",
       "      <td>IT;EL;DK;NO;BE;FR</td>\n",
       "      <td>NaN</td>\n",
       "      <td>[Storage, Fuel, Wind]</td>\n",
       "      <td>7</td>\n",
       "      <td>3</td>\n",
       "      <td>[micro-grid, energy storage, fuel cell, PV, CHP]</td>\n",
       "      <td>12</td>\n",
       "      <td>5</td>\n",
       "      <td>19</td>\n",
       "    </tr>\n",
       "    <tr>\n",
       "      <th>8750</th>\n",
       "      <td>197929</td>\n",
       "      <td>671396</td>\n",
       "      <td>AutoRE</td>\n",
       "      <td>SIGNED</td>\n",
       "      <td>H2020-EU.3.3.8.1.</td>\n",
       "      <td>FCH-02.5-2014</td>\n",
       "      <td>H2020</td>\n",
       "      <td>AUTomotive deRivative Energy system</td>\n",
       "      <td>2015-08-01</td>\n",
       "      <td>2018-07-31</td>\n",
       "      <td>...</td>\n",
       "      <td>SVEUCILISTE U SPLITU, FAKULTET ELEKTROTEHNIKE,...</td>\n",
       "      <td>HR;EL;NO;CH;DE;IT</td>\n",
       "      <td>NaN</td>\n",
       "      <td>[Fuel]</td>\n",
       "      <td>7</td>\n",
       "      <td>1</td>\n",
       "      <td>[combined heat and power, CHP, fuel cell]</td>\n",
       "      <td>11</td>\n",
       "      <td>3</td>\n",
       "      <td>18</td>\n",
       "    </tr>\n",
       "  </tbody>\n",
       "</table>\n",
       "<p>10 rows × 28 columns</p>\n",
       "</div>"
      ],
      "text/plain": [
       "          rcn      id          acronym  status  \\\n",
       "3745   200472  654462        STEMM-CCS  SIGNED   \n",
       "17201  199423  691712              ACT  SIGNED   \n",
       "2580   197010  673782        FLOATMAST  CLOSED   \n",
       "1784   198559  698136            WITRO  CLOSED   \n",
       "22707  215270  794562  Small-scale CSP  SIGNED   \n",
       "11216  194405  645963         SENSIBLE  SIGNED   \n",
       "18498  210955  739615           acteno  CLOSED   \n",
       "19944  207129  744518          FLOWSPA  CLOSED   \n",
       "6939   213067  779541           REMOTE  SIGNED   \n",
       "8750   197929  671396           AutoRE  SIGNED   \n",
       "\n",
       "                                             programme                topics  \\\n",
       "3745                                 H2020-EU.3.3.2.3.           LCE-15-2015   \n",
       "17201  H2020-EU.3.3.2.;H2020-EU.3.3.3.;H2020-EU.3.3.4.           LCE-18-2015   \n",
       "2580                     H2020-EU.3.3.;H2020-EU.2.3.1.         SIE-01-2014-1   \n",
       "1784                     H2020-EU.3.3.;H2020-EU.2.3.1.         SIE-01-2015-1   \n",
       "22707                                  H2020-EU.1.3.2.          MSCA-IF-2017   \n",
       "11216                                    H2020-EU.3.3.           LCE-08-2014   \n",
       "18498                                H2020-EU.2.3.2.2.       INNOSUP-02-2016   \n",
       "19944    H2020-EU.3.3.;H2020-EU.2.1.1.;H2020-EU.2.3.1.  SMEInst-09-2016-2017   \n",
       "6939               H2020-EU.3.3.8.2.;H2020-EU.3.3.8.3.        FCH-02-12-2017   \n",
       "8750                                 H2020-EU.3.3.8.1.         FCH-02.5-2014   \n",
       "\n",
       "      frameworkProgramme                                              title  \\\n",
       "3745               H2020  Strategies for Environmental Monitoring of Mar...   \n",
       "17201              H2020  Accellerating CCS technologies as a new low-ca...   \n",
       "2580               H2020  An Innovative Wind Resource Assessment Tension...   \n",
       "1784               H2020  Wind and Turbulence Radar for Offshore wind en...   \n",
       "22707              H2020  Numerical and experimental analysis of a novel...   \n",
       "11216              H2020  Storage-Enabled Sustainable Energy for Buildin...   \n",
       "18498              H2020  Industrial Energy Storage Integration - develo...   \n",
       "19944              H2020  Floating Offshore Wind Support Platform and As...   \n",
       "6939               H2020  Remote area Energy supply with Multiple Option...   \n",
       "8750               H2020                AUTomotive deRivative Energy system   \n",
       "\n",
       "       startDate    endDate  ...  \\\n",
       "3745  2016-03-01 2020-02-29  ...   \n",
       "17201 2016-02-01 2021-01-31  ...   \n",
       "2580  2015-06-01 2015-11-30  ...   \n",
       "1784  2015-09-01 2015-12-31  ...   \n",
       "22707 2018-06-01 2020-05-31  ...   \n",
       "11216 2015-01-01 2018-12-31  ...   \n",
       "18498 2017-09-01 2018-08-31  ...   \n",
       "19944 2017-02-01 2017-09-30  ...   \n",
       "6939  2018-01-01 2021-12-31  ...   \n",
       "8750  2015-08-01 2018-07-31  ...   \n",
       "\n",
       "                                            participants  \\\n",
       "3745   UNIVERSITETET I TROMSOE - NORGES ARKTISKE UNIV...   \n",
       "17201  ETHNIKO KENTRO EREVNAS KAI TECHNOLOGIKIS ANAPT...   \n",
       "2580                  STREAMLINED SYMVOULI MECHANIKI EPE   \n",
       "1784                                                 NaN   \n",
       "22707                                                NaN   \n",
       "11216  SIEMENS SA;MEADOWS OZONE ENERGY SERVICES LTD.;...   \n",
       "18498                                                NaN   \n",
       "19944                                                NaN   \n",
       "6939   IRIS SRL;ETHNIKO KENTRO EREVNAS KAI TECHNOLOGI...   \n",
       "8750   SVEUCILISTE U SPLITU, FAKULTET ELEKTROTEHNIKE,...   \n",
       "\n",
       "             participantCountries  subjects                 matches_group  \\\n",
       "3745               NO;UK;AT;DE;NL       NaN                [Storage, CCS]   \n",
       "17201  EL;UK;DE;RO;TR;NL;ES;NO;CH       NaN                [Storage, CCS]   \n",
       "2580                           EL       NaN                        [Wind]   \n",
       "1784                          NaN       NaN                        [Wind]   \n",
       "22707                         NaN       NaN                     [Storage]   \n",
       "11216           PT;UK;ES;DE;FR;FI       NaN  [Storage, Energy management]   \n",
       "18498                         NaN       NaN                     [Storage]   \n",
       "19944                         NaN       NaN                        [Wind]   \n",
       "6939            IT;EL;DK;NO;BE;FR       NaN         [Storage, Fuel, Wind]   \n",
       "8750            HR;EL;NO;CH;DE;IT       NaN                        [Fuel]   \n",
       "\n",
       "      count_matches_group count_unique_matches_group  \\\n",
       "3745                   15                          2   \n",
       "17201                  14                          2   \n",
       "2580                   15                          1   \n",
       "1784                   21                          1   \n",
       "22707                   7                          1   \n",
       "11216                  13                          2   \n",
       "18498                  14                          1   \n",
       "19944                  11                          1   \n",
       "6939                    7                          3   \n",
       "8750                    7                          1   \n",
       "\n",
       "                                      matches_technology  \\\n",
       "3745                   [carbon capture and storage, CCS]   \n",
       "17201                                              [CCS]   \n",
       "2580                       [offshore wind, onshore wind]   \n",
       "1784                                     [offshore wind]   \n",
       "22707  [renewable energy, concentrated solar power, t...   \n",
       "11216  [renewable energy, thermal storage, energy sto...   \n",
       "18498                 [energy storage, renewable energy]   \n",
       "19944                                    [offshore wind]   \n",
       "6939    [micro-grid, energy storage, fuel cell, PV, CHP]   \n",
       "8750           [combined heat and power, CHP, fuel cell]   \n",
       "\n",
       "      count_matches_technology count_unique_matches_technology count_matches  \n",
       "3745                        13                               2            28  \n",
       "17201                       13                               1            27  \n",
       "2580                         9                               2            24  \n",
       "1784                         1                               1            22  \n",
       "22707                       15                               6            22  \n",
       "11216                        7                               5            20  \n",
       "18498                        5                               2            19  \n",
       "19944                        8                               1            19  \n",
       "6939                        12                               5            19  \n",
       "8750                        11                               3            18  \n",
       "\n",
       "[10 rows x 28 columns]"
      ]
     },
     "execution_count": 23,
     "metadata": {},
     "output_type": "execute_result"
    }
   ],
   "source": [
    "cordish2020matches.sort_values('count_matches', ascending=False).head(10)"
   ]
  },
  {
   "cell_type": "markdown",
   "metadata": {},
   "source": [
    "There is one hypthesis here:  \n",
    "The more count matches you have the better the accuracy to detect technology terms in the objective text  \n",
    "Might be solved with statistical sampling. For each count match, select a sample check manually the accuracy  \n",
    "http://www.marknagelberg.com/using-python-to-figure-out-sample-sizes-for-your-study/"
   ]
  },
  {
   "cell_type": "markdown",
   "metadata": {},
   "source": [
    "EDA\n",
    "1. Group by month and count over the time\n",
    "2. Group by month and sum the total cost over the time\n",
    "3. Group by country coordinator and count"
   ]
  },
  {
   "cell_type": "code",
   "execution_count": 24,
   "metadata": {},
   "outputs": [],
   "source": [
    "dfy = cordish2020matches.groupby(cordish2020matches['startDate'].map(lambda x: x.year)).count()['id']"
   ]
  },
  {
   "cell_type": "code",
   "execution_count": 25,
   "metadata": {},
   "outputs": [
    {
     "data": {
      "text/plain": [
       "<matplotlib.axes._subplots.AxesSubplot at 0x1f7cfb74ba8>"
      ]
     },
     "execution_count": 25,
     "metadata": {},
     "output_type": "execute_result"
    },
    {
     "data": {
      "image/png": "[encoded data removed]",
      "text/plain": [
       "<Figure size 432x288 with 1 Axes>"
      ]
     },
     "metadata": {
      "needs_background": "light"
     },
     "output_type": "display_data"
    }
   ],
   "source": [
    "dfy.plot()"
   ]
  },
  {
   "cell_type": "code",
   "execution_count": 26,
   "metadata": {},
   "outputs": [],
   "source": [
    "dfc = cordish2020matches.groupby(cordish2020matches['startDate'].map(lambda x: x.year)).sum()['ecMaxContribution']"
   ]
  },
  {
   "cell_type": "code",
   "execution_count": 27,
   "metadata": {},
   "outputs": [
    {
     "data": {
      "text/plain": [
       "<matplotlib.axes._subplots.AxesSubplot at 0x1f7cfc426a0>"
      ]
     },
     "execution_count": 27,
     "metadata": {},
     "output_type": "execute_result"
    },
    {
     "data": {
      "image/png": "[encoded data removed]",
      "text/plain": [
       "<Figure size 432x288 with 1 Axes>"
      ]
     },
     "metadata": {
      "needs_background": "light"
     },
     "output_type": "display_data"
    }
   ],
   "source": [
    "dfc.plot()"
   ]
  },
  {
   "cell_type": "code",
   "execution_count": 28,
   "metadata": {},
   "outputs": [],
   "source": [
    "df_c = cordish2020matches.groupby(['coordinator','coordinatorCountry']).count()['id'].sort_values(ascending=False).reset_index()\n",
    "df_c.columns = ['coordinator','coordinatorCountry','count']"
   ]
  },
  {
   "cell_type": "code",
   "execution_count": 29,
   "metadata": {},
   "outputs": [
    {
     "data": {
      "text/html": [
       "<div>\n",
       "<style scoped>\n",
       "    .dataframe tbody tr th:only-of-type {\n",
       "        vertical-align: middle;\n",
       "    }\n",
       "\n",
       "    .dataframe tbody tr th {\n",
       "        vertical-align: top;\n",
       "    }\n",
       "\n",
       "    .dataframe thead th {\n",
       "        text-align: right;\n",
       "    }\n",
       "</style>\n",
       "<table border=\"1\" class=\"dataframe\">\n",
       "  <thead>\n",
       "    <tr style=\"text-align: right;\">\n",
       "      <th></th>\n",
       "      <th>coordinator</th>\n",
       "      <th>coordinatorCountry</th>\n",
       "      <th>count</th>\n",
       "    </tr>\n",
       "  </thead>\n",
       "  <tbody>\n",
       "    <tr>\n",
       "      <th>0</th>\n",
       "      <td>COMMISSARIAT A L ENERGIE ATOMIQUE ET AUX ENERG...</td>\n",
       "      <td>FR</td>\n",
       "      <td>29</td>\n",
       "    </tr>\n",
       "    <tr>\n",
       "      <th>1</th>\n",
       "      <td>CENTRE NATIONAL DE LA RECHERCHE SCIENTIFIQUE CNRS</td>\n",
       "      <td>FR</td>\n",
       "      <td>29</td>\n",
       "    </tr>\n",
       "    <tr>\n",
       "      <th>2</th>\n",
       "      <td>THE CHANCELLOR MASTERS AND SCHOLARS OF THE UNI...</td>\n",
       "      <td>UK</td>\n",
       "      <td>24</td>\n",
       "    </tr>\n",
       "    <tr>\n",
       "      <th>3</th>\n",
       "      <td>FRAUNHOFER GESELLSCHAFT ZUR FOERDERUNG DER ANG...</td>\n",
       "      <td>DE</td>\n",
       "      <td>23</td>\n",
       "    </tr>\n",
       "    <tr>\n",
       "      <th>4</th>\n",
       "      <td>Teknologian tutkimuskeskus VTT Oy</td>\n",
       "      <td>FI</td>\n",
       "      <td>18</td>\n",
       "    </tr>\n",
       "    <tr>\n",
       "      <th>5</th>\n",
       "      <td>AGENCIA ESTATAL CONSEJO SUPERIOR DEINVESTIGACI...</td>\n",
       "      <td>ES</td>\n",
       "      <td>16</td>\n",
       "    </tr>\n",
       "    <tr>\n",
       "      <th>6</th>\n",
       "      <td>ECOLE POLYTECHNIQUE FEDERALE DE LAUSANNE</td>\n",
       "      <td>CH</td>\n",
       "      <td>15</td>\n",
       "    </tr>\n",
       "    <tr>\n",
       "      <th>7</th>\n",
       "      <td>DANMARKS TEKNISKE UNIVERSITET</td>\n",
       "      <td>DK</td>\n",
       "      <td>14</td>\n",
       "    </tr>\n",
       "    <tr>\n",
       "      <th>8</th>\n",
       "      <td>DEUTSCHES ZENTRUM FUER LUFT - UND RAUMFAHRT EV</td>\n",
       "      <td>DE</td>\n",
       "      <td>13</td>\n",
       "    </tr>\n",
       "    <tr>\n",
       "      <th>9</th>\n",
       "      <td>FUNDACION TECNALIA RESEARCH &amp; INNOVATION</td>\n",
       "      <td>ES</td>\n",
       "      <td>13</td>\n",
       "    </tr>\n",
       "    <tr>\n",
       "      <th>10</th>\n",
       "      <td>THE UNIVERSITY OF BIRMINGHAM</td>\n",
       "      <td>UK</td>\n",
       "      <td>13</td>\n",
       "    </tr>\n",
       "    <tr>\n",
       "      <th>11</th>\n",
       "      <td>IMPERIAL COLLEGE OF SCIENCE TECHNOLOGY AND MED...</td>\n",
       "      <td>UK</td>\n",
       "      <td>12</td>\n",
       "    </tr>\n",
       "    <tr>\n",
       "      <th>12</th>\n",
       "      <td>THE CHANCELLOR, MASTERS AND SCHOLARS OF THE UN...</td>\n",
       "      <td>UK</td>\n",
       "      <td>12</td>\n",
       "    </tr>\n",
       "    <tr>\n",
       "      <th>13</th>\n",
       "      <td>TECHNISCHE UNIVERSITEIT DELFT</td>\n",
       "      <td>NL</td>\n",
       "      <td>12</td>\n",
       "    </tr>\n",
       "    <tr>\n",
       "      <th>14</th>\n",
       "      <td>KATHOLIEKE UNIVERSITEIT LEUVEN</td>\n",
       "      <td>BE</td>\n",
       "      <td>11</td>\n",
       "    </tr>\n",
       "    <tr>\n",
       "      <th>15</th>\n",
       "      <td>WIRTSCHAFT UND INFRASTRUKTUR GMBH &amp; CO PLANUNG...</td>\n",
       "      <td>DE</td>\n",
       "      <td>11</td>\n",
       "    </tr>\n",
       "    <tr>\n",
       "      <th>16</th>\n",
       "      <td>SINTEF AS</td>\n",
       "      <td>NO</td>\n",
       "      <td>11</td>\n",
       "    </tr>\n",
       "    <tr>\n",
       "      <th>17</th>\n",
       "      <td>THE UNIVERSITY OF MANCHESTER</td>\n",
       "      <td>UK</td>\n",
       "      <td>10</td>\n",
       "    </tr>\n",
       "    <tr>\n",
       "      <th>18</th>\n",
       "      <td>POLITECNICO DI TORINO</td>\n",
       "      <td>IT</td>\n",
       "      <td>10</td>\n",
       "    </tr>\n",
       "    <tr>\n",
       "      <th>19</th>\n",
       "      <td>THE UNIVERSITY OF NOTTINGHAM</td>\n",
       "      <td>UK</td>\n",
       "      <td>10</td>\n",
       "    </tr>\n",
       "  </tbody>\n",
       "</table>\n",
       "</div>"
      ],
      "text/plain": [
       "                                          coordinator coordinatorCountry  \\\n",
       "0   COMMISSARIAT A L ENERGIE ATOMIQUE ET AUX ENERG...                 FR   \n",
       "1   CENTRE NATIONAL DE LA RECHERCHE SCIENTIFIQUE CNRS                 FR   \n",
       "2   THE CHANCELLOR MASTERS AND SCHOLARS OF THE UNI...                 UK   \n",
       "3   FRAUNHOFER GESELLSCHAFT ZUR FOERDERUNG DER ANG...                 DE   \n",
       "4                   Teknologian tutkimuskeskus VTT Oy                 FI   \n",
       "5   AGENCIA ESTATAL CONSEJO SUPERIOR DEINVESTIGACI...                 ES   \n",
       "6            ECOLE POLYTECHNIQUE FEDERALE DE LAUSANNE                 CH   \n",
       "7                       DANMARKS TEKNISKE UNIVERSITET                 DK   \n",
       "8      DEUTSCHES ZENTRUM FUER LUFT - UND RAUMFAHRT EV                 DE   \n",
       "9            FUNDACION TECNALIA RESEARCH & INNOVATION                 ES   \n",
       "10                       THE UNIVERSITY OF BIRMINGHAM                 UK   \n",
       "11  IMPERIAL COLLEGE OF SCIENCE TECHNOLOGY AND MED...                 UK   \n",
       "12  THE CHANCELLOR, MASTERS AND SCHOLARS OF THE UN...                 UK   \n",
       "13                      TECHNISCHE UNIVERSITEIT DELFT                 NL   \n",
       "14                     KATHOLIEKE UNIVERSITEIT LEUVEN                 BE   \n",
       "15  WIRTSCHAFT UND INFRASTRUKTUR GMBH & CO PLANUNG...                 DE   \n",
       "16                                          SINTEF AS                 NO   \n",
       "17                       THE UNIVERSITY OF MANCHESTER                 UK   \n",
       "18                              POLITECNICO DI TORINO                 IT   \n",
       "19                       THE UNIVERSITY OF NOTTINGHAM                 UK   \n",
       "\n",
       "    count  \n",
       "0      29  \n",
       "1      29  \n",
       "2      24  \n",
       "3      23  \n",
       "4      18  \n",
       "5      16  \n",
       "6      15  \n",
       "7      14  \n",
       "8      13  \n",
       "9      13  \n",
       "10     13  \n",
       "11     12  \n",
       "12     12  \n",
       "13     12  \n",
       "14     11  \n",
       "15     11  \n",
       "16     11  \n",
       "17     10  \n",
       "18     10  \n",
       "19     10  "
      ]
     },
     "execution_count": 29,
     "metadata": {},
     "output_type": "execute_result"
    }
   ],
   "source": [
    "df_c.head(20)"
   ]
  },
  {
   "cell_type": "code",
   "execution_count": 30,
   "metadata": {},
   "outputs": [],
   "source": [
    "df_c = cordish2020matches.groupby(['coordinator','coordinatorCountry']).sum()['ecMaxContribution'].sort_values(ascending=False).reset_index()\n",
    "df_c.columns = ['coordinator','coordinatorCountry','sum']"
   ]
  },
  {
   "cell_type": "code",
   "execution_count": 31,
   "metadata": {},
   "outputs": [
    {
     "data": {
      "text/html": [
       "<div>\n",
       "<style scoped>\n",
       "    .dataframe tbody tr th:only-of-type {\n",
       "        vertical-align: middle;\n",
       "    }\n",
       "\n",
       "    .dataframe tbody tr th {\n",
       "        vertical-align: top;\n",
       "    }\n",
       "\n",
       "    .dataframe thead th {\n",
       "        text-align: right;\n",
       "    }\n",
       "</style>\n",
       "<table border=\"1\" class=\"dataframe\">\n",
       "  <thead>\n",
       "    <tr style=\"text-align: right;\">\n",
       "      <th></th>\n",
       "      <th>coordinator</th>\n",
       "      <th>coordinatorCountry</th>\n",
       "      <th>sum</th>\n",
       "    </tr>\n",
       "  </thead>\n",
       "  <tbody>\n",
       "    <tr>\n",
       "      <th>0</th>\n",
       "      <td>ELEMENT ENERGY LIMITED</td>\n",
       "      <td>UK</td>\n",
       "      <td>1.314373e+08</td>\n",
       "    </tr>\n",
       "    <tr>\n",
       "      <th>1</th>\n",
       "      <td>COMMISSARIAT A L ENERGIE ATOMIQUE ET AUX ENERG...</td>\n",
       "      <td>FR</td>\n",
       "      <td>1.215225e+08</td>\n",
       "    </tr>\n",
       "    <tr>\n",
       "      <th>2</th>\n",
       "      <td>FRAUNHOFER GESELLSCHAFT ZUR FOERDERUNG DER ANG...</td>\n",
       "      <td>DE</td>\n",
       "      <td>1.035966e+08</td>\n",
       "    </tr>\n",
       "    <tr>\n",
       "      <th>3</th>\n",
       "      <td>FUNDACION TECNALIA RESEARCH &amp; INNOVATION</td>\n",
       "      <td>ES</td>\n",
       "      <td>1.017493e+08</td>\n",
       "    </tr>\n",
       "    <tr>\n",
       "      <th>4</th>\n",
       "      <td>CENTRE NATIONAL DE LA RECHERCHE SCIENTIFIQUE CNRS</td>\n",
       "      <td>FR</td>\n",
       "      <td>8.242696e+07</td>\n",
       "    </tr>\n",
       "    <tr>\n",
       "      <th>5</th>\n",
       "      <td>Teknologian tutkimuskeskus VTT Oy</td>\n",
       "      <td>FI</td>\n",
       "      <td>7.255569e+07</td>\n",
       "    </tr>\n",
       "    <tr>\n",
       "      <th>6</th>\n",
       "      <td>SINTEF AS</td>\n",
       "      <td>NO</td>\n",
       "      <td>6.152278e+07</td>\n",
       "    </tr>\n",
       "    <tr>\n",
       "      <th>7</th>\n",
       "      <td>RINA CONSULTING SPA</td>\n",
       "      <td>IT</td>\n",
       "      <td>5.151408e+07</td>\n",
       "    </tr>\n",
       "    <tr>\n",
       "      <th>8</th>\n",
       "      <td>DEUTSCHES ZENTRUM FUER LUFT - UND RAUMFAHRT EV</td>\n",
       "      <td>DE</td>\n",
       "      <td>4.993476e+07</td>\n",
       "    </tr>\n",
       "    <tr>\n",
       "      <th>9</th>\n",
       "      <td>ACONDICIONAMIENTO TARRASENSE ASSOCIACION</td>\n",
       "      <td>ES</td>\n",
       "      <td>4.880792e+07</td>\n",
       "    </tr>\n",
       "    <tr>\n",
       "      <th>10</th>\n",
       "      <td>NORGES TEKNISK-NATURVITENSKAPELIGE UNIVERSITET...</td>\n",
       "      <td>NO</td>\n",
       "      <td>3.653370e+07</td>\n",
       "    </tr>\n",
       "    <tr>\n",
       "      <th>11</th>\n",
       "      <td>SIEMENS AKTIENGESELLSCHAFT</td>\n",
       "      <td>DE</td>\n",
       "      <td>3.578775e+07</td>\n",
       "    </tr>\n",
       "    <tr>\n",
       "      <th>12</th>\n",
       "      <td>DNV GL NETHERLANDS B.V.</td>\n",
       "      <td>NL</td>\n",
       "      <td>3.448093e+07</td>\n",
       "    </tr>\n",
       "    <tr>\n",
       "      <th>13</th>\n",
       "      <td>POLITECNICO DI MILANO</td>\n",
       "      <td>IT</td>\n",
       "      <td>3.423871e+07</td>\n",
       "    </tr>\n",
       "    <tr>\n",
       "      <th>14</th>\n",
       "      <td>THE EUROPEAN ASSOCIATION FOR THE PROMOTION OF ...</td>\n",
       "      <td>BE</td>\n",
       "      <td>3.393275e+07</td>\n",
       "    </tr>\n",
       "    <tr>\n",
       "      <th>15</th>\n",
       "      <td>AGENCE NATIONALE POUR LA GESTION DES DECHETS R...</td>\n",
       "      <td>FR</td>\n",
       "      <td>3.360000e+07</td>\n",
       "    </tr>\n",
       "    <tr>\n",
       "      <th>16</th>\n",
       "      <td>TWI LIMITED</td>\n",
       "      <td>UK</td>\n",
       "      <td>3.339858e+07</td>\n",
       "    </tr>\n",
       "    <tr>\n",
       "      <th>17</th>\n",
       "      <td>NATIONAL TECHNICAL UNIVERSITY OF ATHENS - NTUA</td>\n",
       "      <td>EL</td>\n",
       "      <td>3.187547e+07</td>\n",
       "    </tr>\n",
       "    <tr>\n",
       "      <th>18</th>\n",
       "      <td>INSTITUT NATIONAL DE LA RECHERCHE AGRONOMIQUE</td>\n",
       "      <td>FR</td>\n",
       "      <td>3.052906e+07</td>\n",
       "    </tr>\n",
       "    <tr>\n",
       "      <th>19</th>\n",
       "      <td>AVL LIST GMBH</td>\n",
       "      <td>AT</td>\n",
       "      <td>2.998804e+07</td>\n",
       "    </tr>\n",
       "  </tbody>\n",
       "</table>\n",
       "</div>"
      ],
      "text/plain": [
       "                                          coordinator coordinatorCountry  \\\n",
       "0                              ELEMENT ENERGY LIMITED                 UK   \n",
       "1   COMMISSARIAT A L ENERGIE ATOMIQUE ET AUX ENERG...                 FR   \n",
       "2   FRAUNHOFER GESELLSCHAFT ZUR FOERDERUNG DER ANG...                 DE   \n",
       "3            FUNDACION TECNALIA RESEARCH & INNOVATION                 ES   \n",
       "4   CENTRE NATIONAL DE LA RECHERCHE SCIENTIFIQUE CNRS                 FR   \n",
       "5                   Teknologian tutkimuskeskus VTT Oy                 FI   \n",
       "6                                           SINTEF AS                 NO   \n",
       "7                                 RINA CONSULTING SPA                 IT   \n",
       "8      DEUTSCHES ZENTRUM FUER LUFT - UND RAUMFAHRT EV                 DE   \n",
       "9            ACONDICIONAMIENTO TARRASENSE ASSOCIACION                 ES   \n",
       "10  NORGES TEKNISK-NATURVITENSKAPELIGE UNIVERSITET...                 NO   \n",
       "11                         SIEMENS AKTIENGESELLSCHAFT                 DE   \n",
       "12                            DNV GL NETHERLANDS B.V.                 NL   \n",
       "13                              POLITECNICO DI MILANO                 IT   \n",
       "14  THE EUROPEAN ASSOCIATION FOR THE PROMOTION OF ...                 BE   \n",
       "15  AGENCE NATIONALE POUR LA GESTION DES DECHETS R...                 FR   \n",
       "16                                        TWI LIMITED                 UK   \n",
       "17     NATIONAL TECHNICAL UNIVERSITY OF ATHENS - NTUA                 EL   \n",
       "18      INSTITUT NATIONAL DE LA RECHERCHE AGRONOMIQUE                 FR   \n",
       "19                                      AVL LIST GMBH                 AT   \n",
       "\n",
       "             sum  \n",
       "0   1.314373e+08  \n",
       "1   1.215225e+08  \n",
       "2   1.035966e+08  \n",
       "3   1.017493e+08  \n",
       "4   8.242696e+07  \n",
       "5   7.255569e+07  \n",
       "6   6.152278e+07  \n",
       "7   5.151408e+07  \n",
       "8   4.993476e+07  \n",
       "9   4.880792e+07  \n",
       "10  3.653370e+07  \n",
       "11  3.578775e+07  \n",
       "12  3.448093e+07  \n",
       "13  3.423871e+07  \n",
       "14  3.393275e+07  \n",
       "15  3.360000e+07  \n",
       "16  3.339858e+07  \n",
       "17  3.187547e+07  \n",
       "18  3.052906e+07  \n",
       "19  2.998804e+07  "
      ]
     },
     "execution_count": 31,
     "metadata": {},
     "output_type": "execute_result"
    }
   ],
   "source": [
    "df_c.head(20)"
   ]
  },
  {
   "cell_type": "code",
   "execution_count": 32,
   "metadata": {},
   "outputs": [],
   "source": [
    "def get_terms_matrix(vector_of_terms, all_terms):\n",
    "    matrix = []\n",
    "    for vector in vector_of_terms:\n",
    "        ind_vector = [0] * len(all_terms)\n",
    "        for v in vector:\n",
    "            for idx, i in enumerate(all_terms):\n",
    "                if v == i:\n",
    "                    ind_vector[idx] = 1\n",
    "        matrix.append(ind_vector)\n",
    "    table = pd.DataFrame(matrix)\n",
    "    return table"
   ]
  },
  {
   "cell_type": "code",
   "execution_count": 33,
   "metadata": {},
   "outputs": [],
   "source": [
    "all_technology_terms = [i for i in set([*list(categories['technology_group']),*list(technology_term)])]"
   ]
  },
  {
   "cell_type": "code",
   "execution_count": 34,
   "metadata": {},
   "outputs": [
    {
     "data": {
      "text/plain": [
       "235"
      ]
     },
     "execution_count": 34,
     "metadata": {},
     "output_type": "execute_result"
    }
   ],
   "source": [
    "len(all_technology_terms)"
   ]
  },
  {
   "cell_type": "code",
   "execution_count": 35,
   "metadata": {},
   "outputs": [
    {
     "data": {
      "text/plain": [
       "['compressed gas',\n",
       " 'efficient lighting',\n",
       " 'demand-side energy management',\n",
       " 'pulp and paper drying',\n",
       " 'low GHG steel',\n",
       " 'remote area power supply',\n",
       " 'alternative to meat',\n",
       " 'thermal storage',\n",
       " 'landfill aerobic biological treatment',\n",
       " 'soil protection']"
      ]
     },
     "execution_count": 35,
     "metadata": {},
     "output_type": "execute_result"
    }
   ],
   "source": [
    "all_technology_terms[:10]"
   ]
  },
  {
   "cell_type": "code",
   "execution_count": 36,
   "metadata": {},
   "outputs": [],
   "source": [
    "#expected to have 225 columns\n",
    "matches_technology_table = get_terms_matrix(list(cordish2020matches['matches_technology']), all_technology_terms)\n",
    "matches_group_table = get_terms_matrix(list(cordish2020matches['matches_group']), all_technology_terms)"
   ]
  },
  {
   "cell_type": "code",
   "execution_count": 37,
   "metadata": {},
   "outputs": [],
   "source": [
    "matches_table = matches_group_table + matches_technology_table\n",
    "matches_table.columns = all_technology_terms\n",
    "matches_table['number_unique_terms'] = matches_table.sum(axis=1)"
   ]
  },
  {
   "cell_type": "code",
   "execution_count": 38,
   "metadata": {},
   "outputs": [
    {
     "data": {
      "text/html": [
       "<div>\n",
       "<style scoped>\n",
       "    .dataframe tbody tr th:only-of-type {\n",
       "        vertical-align: middle;\n",
       "    }\n",
       "\n",
       "    .dataframe tbody tr th {\n",
       "        vertical-align: top;\n",
       "    }\n",
       "\n",
       "    .dataframe thead th {\n",
       "        text-align: right;\n",
       "    }\n",
       "</style>\n",
       "<table border=\"1\" class=\"dataframe\">\n",
       "  <thead>\n",
       "    <tr style=\"text-align: right;\">\n",
       "      <th></th>\n",
       "      <th>compressed gas</th>\n",
       "      <th>efficient lighting</th>\n",
       "      <th>demand-side energy management</th>\n",
       "      <th>pulp and paper drying</th>\n",
       "      <th>low GHG steel</th>\n",
       "      <th>remote area power supply</th>\n",
       "      <th>alternative to meat</th>\n",
       "      <th>thermal storage</th>\n",
       "      <th>landfill aerobic biological treatment</th>\n",
       "      <th>soil protection</th>\n",
       "      <th>...</th>\n",
       "      <th>solar cell</th>\n",
       "      <th>energy storage</th>\n",
       "      <th>gasification of waste</th>\n",
       "      <th>management of forest</th>\n",
       "      <th>lightweight transport</th>\n",
       "      <th>gasification of MSW</th>\n",
       "      <th>Forest protection</th>\n",
       "      <th>soil treatment</th>\n",
       "      <th>solar dryer</th>\n",
       "      <th>number_unique_terms</th>\n",
       "    </tr>\n",
       "  </thead>\n",
       "  <tbody>\n",
       "    <tr>\n",
       "      <th>0</th>\n",
       "      <td>0</td>\n",
       "      <td>0</td>\n",
       "      <td>0</td>\n",
       "      <td>0</td>\n",
       "      <td>0</td>\n",
       "      <td>0</td>\n",
       "      <td>0</td>\n",
       "      <td>0</td>\n",
       "      <td>0</td>\n",
       "      <td>0</td>\n",
       "      <td>...</td>\n",
       "      <td>0</td>\n",
       "      <td>0</td>\n",
       "      <td>0</td>\n",
       "      <td>0</td>\n",
       "      <td>0</td>\n",
       "      <td>0</td>\n",
       "      <td>0</td>\n",
       "      <td>0</td>\n",
       "      <td>0</td>\n",
       "      <td>2</td>\n",
       "    </tr>\n",
       "    <tr>\n",
       "      <th>1</th>\n",
       "      <td>0</td>\n",
       "      <td>0</td>\n",
       "      <td>0</td>\n",
       "      <td>0</td>\n",
       "      <td>0</td>\n",
       "      <td>0</td>\n",
       "      <td>0</td>\n",
       "      <td>0</td>\n",
       "      <td>0</td>\n",
       "      <td>0</td>\n",
       "      <td>...</td>\n",
       "      <td>0</td>\n",
       "      <td>0</td>\n",
       "      <td>0</td>\n",
       "      <td>0</td>\n",
       "      <td>0</td>\n",
       "      <td>0</td>\n",
       "      <td>0</td>\n",
       "      <td>0</td>\n",
       "      <td>0</td>\n",
       "      <td>1</td>\n",
       "    </tr>\n",
       "    <tr>\n",
       "      <th>2</th>\n",
       "      <td>0</td>\n",
       "      <td>0</td>\n",
       "      <td>0</td>\n",
       "      <td>0</td>\n",
       "      <td>0</td>\n",
       "      <td>0</td>\n",
       "      <td>0</td>\n",
       "      <td>0</td>\n",
       "      <td>0</td>\n",
       "      <td>0</td>\n",
       "      <td>...</td>\n",
       "      <td>0</td>\n",
       "      <td>0</td>\n",
       "      <td>0</td>\n",
       "      <td>0</td>\n",
       "      <td>0</td>\n",
       "      <td>0</td>\n",
       "      <td>0</td>\n",
       "      <td>0</td>\n",
       "      <td>0</td>\n",
       "      <td>2</td>\n",
       "    </tr>\n",
       "    <tr>\n",
       "      <th>3</th>\n",
       "      <td>0</td>\n",
       "      <td>0</td>\n",
       "      <td>0</td>\n",
       "      <td>0</td>\n",
       "      <td>0</td>\n",
       "      <td>0</td>\n",
       "      <td>0</td>\n",
       "      <td>0</td>\n",
       "      <td>0</td>\n",
       "      <td>0</td>\n",
       "      <td>...</td>\n",
       "      <td>0</td>\n",
       "      <td>0</td>\n",
       "      <td>0</td>\n",
       "      <td>0</td>\n",
       "      <td>0</td>\n",
       "      <td>0</td>\n",
       "      <td>0</td>\n",
       "      <td>0</td>\n",
       "      <td>0</td>\n",
       "      <td>1</td>\n",
       "    </tr>\n",
       "    <tr>\n",
       "      <th>4</th>\n",
       "      <td>0</td>\n",
       "      <td>0</td>\n",
       "      <td>0</td>\n",
       "      <td>0</td>\n",
       "      <td>0</td>\n",
       "      <td>0</td>\n",
       "      <td>0</td>\n",
       "      <td>0</td>\n",
       "      <td>0</td>\n",
       "      <td>0</td>\n",
       "      <td>...</td>\n",
       "      <td>0</td>\n",
       "      <td>0</td>\n",
       "      <td>0</td>\n",
       "      <td>0</td>\n",
       "      <td>0</td>\n",
       "      <td>0</td>\n",
       "      <td>0</td>\n",
       "      <td>0</td>\n",
       "      <td>0</td>\n",
       "      <td>1</td>\n",
       "    </tr>\n",
       "  </tbody>\n",
       "</table>\n",
       "<p>5 rows × 236 columns</p>\n",
       "</div>"
      ],
      "text/plain": [
       "   compressed gas  efficient lighting  demand-side energy management  \\\n",
       "0               0                   0                              0   \n",
       "1               0                   0                              0   \n",
       "2               0                   0                              0   \n",
       "3               0                   0                              0   \n",
       "4               0                   0                              0   \n",
       "\n",
       "   pulp and paper drying  low GHG steel  remote area power supply  \\\n",
       "0                      0              0                         0   \n",
       "1                      0              0                         0   \n",
       "2                      0              0                         0   \n",
       "3                      0              0                         0   \n",
       "4                      0              0                         0   \n",
       "\n",
       "   alternative to meat  thermal storage  \\\n",
       "0                    0                0   \n",
       "1                    0                0   \n",
       "2                    0                0   \n",
       "3                    0                0   \n",
       "4                    0                0   \n",
       "\n",
       "   landfill aerobic biological treatment  soil protection  ...  solar cell  \\\n",
       "0                                      0                0  ...           0   \n",
       "1                                      0                0  ...           0   \n",
       "2                                      0                0  ...           0   \n",
       "3                                      0                0  ...           0   \n",
       "4                                      0                0  ...           0   \n",
       "\n",
       "   energy storage  gasification of waste  management of forest  \\\n",
       "0               0                      0                     0   \n",
       "1               0                      0                     0   \n",
       "2               0                      0                     0   \n",
       "3               0                      0                     0   \n",
       "4               0                      0                     0   \n",
       "\n",
       "   lightweight transport  gasification of MSW  Forest protection  \\\n",
       "0                      0                    0                  0   \n",
       "1                      0                    0                  0   \n",
       "2                      0                    0                  0   \n",
       "3                      0                    0                  0   \n",
       "4                      0                    0                  0   \n",
       "\n",
       "   soil treatment  solar dryer  number_unique_terms  \n",
       "0               0            0                    2  \n",
       "1               0            0                    1  \n",
       "2               0            0                    2  \n",
       "3               0            0                    1  \n",
       "4               0            0                    1  \n",
       "\n",
       "[5 rows x 236 columns]"
      ]
     },
     "execution_count": 38,
     "metadata": {},
     "output_type": "execute_result"
    }
   ],
   "source": [
    "matches_table.head()"
   ]
  },
  {
   "cell_type": "code",
   "execution_count": 39,
   "metadata": {},
   "outputs": [
    {
     "data": {
      "text/plain": [
       "True"
      ]
     },
     "execution_count": 39,
     "metadata": {},
     "output_type": "execute_result"
    }
   ],
   "source": [
    "len(matches_table) == len(cordish2020matches)"
   ]
  },
  {
   "cell_type": "code",
   "execution_count": 40,
   "metadata": {},
   "outputs": [],
   "source": [
    "full_table_tech_matches = pd.concat([cordish2020matches.reset_index(), matches_table], axis=1).sort_values(['count_matches','number_unique_terms'], ascending=False).reset_index()"
   ]
  },
  {
   "cell_type": "code",
   "execution_count": 41,
   "metadata": {},
   "outputs": [
    {
     "data": {
      "text/plain": [
       "2052"
      ]
     },
     "execution_count": 41,
     "metadata": {},
     "output_type": "execute_result"
    }
   ],
   "source": [
    "len(full_table_tech_matches)"
   ]
  },
  {
   "cell_type": "code",
   "execution_count": 42,
   "metadata": {},
   "outputs": [
    {
     "data": {
      "text/plain": [
       "<matplotlib.axes._subplots.AxesSubplot at 0x1f7d4b92128>"
      ]
     },
     "execution_count": 42,
     "metadata": {},
     "output_type": "execute_result"
    },
    {
     "data": {
      "image/png": "[encoded data removed]",
      "text/plain": [
       "<Figure size 432x288 with 1 Axes>"
      ]
     },
     "metadata": {
      "needs_background": "light"
     },
     "output_type": "display_data"
    }
   ],
   "source": [
    "import seaborn as sns\n",
    "sns.distplot(full_table_tech_matches['number_unique_terms'])"
   ]
  },
  {
   "cell_type": "code",
   "execution_count": 43,
   "metadata": {},
   "outputs": [
    {
     "data": {
      "text/plain": [
       "<matplotlib.axes._subplots.AxesSubplot at 0x1f7d4c2e358>"
      ]
     },
     "execution_count": 43,
     "metadata": {},
     "output_type": "execute_result"
    },
    {
     "data": {
      "image/png": "[encoded data removed]",
      "text/plain": [
       "<Figure size 432x288 with 1 Axes>"
      ]
     },
     "metadata": {
      "needs_background": "light"
     },
     "output_type": "display_data"
    }
   ],
   "source": [
    "sns.distplot(full_table_tech_matches['count_matches'])"
   ]
  },
  {
   "cell_type": "code",
   "execution_count": 44,
   "metadata": {},
   "outputs": [
    {
     "data": {
      "text/plain": [
       "count_matches\n",
       "1     693\n",
       "2     433\n",
       "3     259\n",
       "4     180\n",
       "5     111\n",
       "6      89\n",
       "7      67\n",
       "8      45\n",
       "9      45\n",
       "10     28\n",
       "11     27\n",
       "12     23\n",
       "13     15\n",
       "14     10\n",
       "15      7\n",
       "16      6\n",
       "17      3\n",
       "18      2\n",
       "19      3\n",
       "20      1\n",
       "22      2\n",
       "24      1\n",
       "27      1\n",
       "28      1\n",
       "Name: number_unique_terms, dtype: int64"
      ]
     },
     "execution_count": 44,
     "metadata": {},
     "output_type": "execute_result"
    }
   ],
   "source": [
    "full_table_tech_matches.groupby('count_matches').count()['number_unique_terms']"
   ]
  },
  {
   "cell_type": "code",
   "execution_count": 45,
   "metadata": {},
   "outputs": [],
   "source": [
    "#for i, j in zip(full_table_tech_matches[full_table_tech_matches['count_matches'] ==2]['matches_technology'],full_table_tech_matches[full_table_tech_matches['count_matches'] ==2]['matches_group']):\n",
    "#    print(i, j)"
   ]
  },
  {
   "cell_type": "code",
   "execution_count": 46,
   "metadata": {},
   "outputs": [],
   "source": [
    "#full_table_tech_matches.columns[:35]#.head()"
   ]
  },
  {
   "cell_type": "code",
   "execution_count": 47,
   "metadata": {},
   "outputs": [],
   "source": [
    "#for i in full_table_tech_matches.columns:\n",
    "#    print(i)\n",
    "#count_matches: each time a term in the glossary of 225 terms appear\n",
    "#number_unique_terms: "
   ]
  },
  {
   "cell_type": "code",
   "execution_count": 48,
   "metadata": {},
   "outputs": [],
   "source": [
    "full_table_tech_matches[['id','acronym','title','objective','startDate','endDate','ecMaxContribution','matches_group','matches_technology','number_unique_terms','count_matches']].to_csv('../data/tech.csv')"
   ]
  },
  {
   "cell_type": "code",
   "execution_count": 49,
   "metadata": {},
   "outputs": [],
   "source": [
    "termsT = full_table_tech_matches.iloc[:,33:-1].T\n",
    "termsT['sum'] = termsT.sum(axis=1)"
   ]
  },
  {
   "cell_type": "code",
   "execution_count": 50,
   "metadata": {},
   "outputs": [],
   "source": [
    "#termsT.sort_values('sum', ascending=False)"
   ]
  },
  {
   "cell_type": "code",
   "execution_count": 51,
   "metadata": {},
   "outputs": [
    {
     "data": {
      "text/plain": [
       "0.4827586206896552"
      ]
     },
     "execution_count": 51,
     "metadata": {},
     "output_type": "execute_result"
    }
   ],
   "source": [
    "len(termsT[termsT['sum']>0])/len(termsT)"
   ]
  },
  {
   "cell_type": "code",
   "execution_count": 52,
   "metadata": {},
   "outputs": [],
   "source": [
    "#all_terms"
   ]
  },
  {
   "cell_type": "code",
   "execution_count": 53,
   "metadata": {},
   "outputs": [],
   "source": [
    "#data = pd.read_csv('../data/tech.csv')"
   ]
  },
  {
   "cell_type": "code",
   "execution_count": 54,
   "metadata": {},
   "outputs": [],
   "source": [
    "#len(data)"
   ]
  },
  {
   "cell_type": "code",
   "execution_count": 55,
   "metadata": {},
   "outputs": [],
   "source": [
    "#data.tail(30)"
   ]
  },
  {
   "cell_type": "markdown",
   "metadata": {},
   "source": [
    "---\n",
    "### Syntactic probabilistic classification using spacy and fuzzywuzzy"
   ]
  },
  {
   "cell_type": "code",
   "execution_count": 56,
   "metadata": {},
   "outputs": [],
   "source": [
    "import spacy\n",
    "import numpy as np\n",
    "from spacy import displacy\n",
    "from collections import Counter\n",
    "import en_core_web_sm\n",
    "from fuzzywuzzy import process, fuzz\n",
    "import re\n",
    "nlp = en_core_web_sm.load()\n",
    "import textdistance as tx\n",
    "import unicodedata\n",
    "from textdistance.algorithms import vector_based"
   ]
  },
  {
   "cell_type": "code",
   "execution_count": 57,
   "metadata": {},
   "outputs": [],
   "source": [
    "def clean(string):\n",
    "    return re.sub(r'[-\\s]+', '-',\n",
    "                str(\n",
    "                    re.sub(r'[^\\w\\s-]', '',\n",
    "                        unicodedata.normalize('NFKD', string)\n",
    "                    .strip()\n",
    "                   )))"
   ]
  },
  {
   "cell_type": "markdown",
   "metadata": {},
   "source": [
    "Objective example\n",
    "\n",
    "---"
   ]
  },
  {
   "cell_type": "code",
   "execution_count": 58,
   "metadata": {},
   "outputs": [
    {
     "data": {
      "text/plain": [
       "'Neurological diseases cause enormous suffering and a great economic burden. Almost 20 million Europeans are affected by the most frequently occurring and disabling disease entities, such as stroke, Alzheimerâ€™s disease (AD), or multiple sclerosis (MS), and these numbers do not include the large group of rare diseases that affect the CNS. Overall, the annual costs for patient care amount to 400 billion Euros. Common features of many neurological diseases are a vascular pathology with impaired blood-brain barrier (BBB) function or with reduced blood flow and inflammatory changes. As the two are often associated, disentangling their intricate and mutual relationship is a major task for translational neuroscience that could improve the treatment of many neurological diseases. At the cellular level, key players are brain endothelial cells as the building blocks of cerebral vessels and macrophages as the main inflammatory cells of the brain. Recent discoveries indicate that endothelial cells and brain macrophages are in intimate contact and closely interact. However, there is a huge gap of knowledge regarding the specific mode and the consequences of these interactions. Therefore, in-depth analyses of the molecular mechanisms involved are essential to identify and understand key features of macrophage-endothelial cross-talk, and exploitation of this information for the development of treatments of neurological diseases. ENTRAIN will undertake this task, using novel and emerging technologies, such as cutting-edge chemoproteomics, unique genetic and viral tools for targeting of defined cell populations, and high resolution intravital imaging. By characterising the pas de deux of endothelial cells and macrophages at the functional and morphological level, we will lay the foundation for better therapies for neurological diseases. The results will impact on the understanding of neuroinflammation, but also on the rarefaction of vessels.'"
      ]
     },
     "execution_count": 58,
     "metadata": {},
     "output_type": "execute_result"
    }
   ],
   "source": [
    "cordish2020.loc[13]['objective']"
   ]
  },
  {
   "cell_type": "code",
   "execution_count": 59,
   "metadata": {},
   "outputs": [
    {
     "data": {
      "text/plain": [
       "['Neurological diseases',\n",
       " 'enormous suffering',\n",
       " 'a great economic burden',\n",
       " 'Almost 20 million Europeans',\n",
       " 'disease entities',\n",
       " 'stroke']"
      ]
     },
     "execution_count": 59,
     "metadata": {},
     "output_type": "execute_result"
    }
   ],
   "source": [
    "text = cordish2020['objective'][13]\n",
    "doc = nlp(text)\n",
    "docs = list(map(str, doc.noun_chunks))\n",
    "docs[:6]"
   ]
  },
  {
   "cell_type": "markdown",
   "metadata": {},
   "source": [
    "---"
   ]
  },
  {
   "cell_type": "markdown",
   "metadata": {},
   "source": [
    "**Get all the synonyms from the short descriptions**"
   ]
  },
  {
   "cell_type": "code",
   "execution_count": 60,
   "metadata": {},
   "outputs": [],
   "source": [
    "technologies = all_technology_terms"
   ]
  },
  {
   "cell_type": "code",
   "execution_count": 61,
   "metadata": {},
   "outputs": [
    {
     "data": {
      "text/plain": [
       "235"
      ]
     },
     "execution_count": 61,
     "metadata": {},
     "output_type": "execute_result"
    }
   ],
   "source": [
    "len(technologies)"
   ]
  },
  {
   "cell_type": "code",
   "execution_count": 62,
   "metadata": {},
   "outputs": [],
   "source": [
    "def find_best_matching_tech(techs, doc):\n",
    "    best_matches = []\n",
    "    best1 = [(\"\", 0)]\n",
    "    best2 = [(\"\", 0)]\n",
    "    val2=\"\"\n",
    "    best_tech = []\n",
    "    for val in techs:\n",
    "        best_curs = process.extract(val, doc, limit=1, scorer=fuzz.ratio)\n",
    "        terms = \"\"\n",
    "        for cat in best_curs:\n",
    "            terms = terms + cat[0] + \",\" \n",
    "        terms = terms[:-1]\n",
    "        if len(best_curs)==0:\n",
    "            avg = 0\n",
    "        else:\n",
    "            avg = sum(i for _, i in best_curs)/float(len(best_curs))\n",
    "        best_cur = [(terms, avg)]\n",
    "        best_matches.extend(best_cur)\n",
    "        if best_cur[0][1] > best1[0][1]:\n",
    "            best1 = best_cur\n",
    "            best_tech = [val]\n",
    "        elif best_cur[0][1] == best1[0][1]:\n",
    "            best1.extend(best_cur)\n",
    "            best_tech.append(val)\n",
    "        else:\n",
    "            if best_cur[0][1] > best2[0][1] and len(best1)<3:\n",
    "                best2 = best_cur\n",
    "                val2 = val\n",
    "    if len(best1)<3:            \n",
    "        best1.extend(best2)\n",
    "        best_tech.append(val2)\n",
    "    return best_matches, best_tech, best1"
   ]
  },
  {
   "cell_type": "code",
   "execution_count": 63,
   "metadata": {},
   "outputs": [],
   "source": [
    "#process.extract(each tech term, each noun chunk in each objective)"
   ]
  },
  {
   "cell_type": "code",
   "execution_count": 64,
   "metadata": {},
   "outputs": [],
   "source": [
    "cordish2020['category'] = pd.Series(np.random.randn(len(cordish2020)), index=cordish2020.index)\n",
    "for idx in range(len(cordish2020['objective'])):\n",
    "    text = cordish2020['objective'][idx]\n",
    "    doc = nlp(text)\n",
    "   # doc = \" \".join([token.lemma_ for token in doc])\n",
    "    #doc = nlp(doc)\n",
    "    docs = list(map(str, doc.noun_chunks))\n",
    "    #docs = [clean(str(txt)) for txt in docs]\n",
    "    _, best_tech, best_match = find_best_matching_tech(technologies, docs)\n",
    "    #print(best_tech, best_match)\n",
    "    if round(best_match[0][1]) > 77:\n",
    "        cordish2020['category'][idx] = \" \".join(best_tech)\n",
    "    else:\n",
    "        cordish2020['category'][idx] = 'None'"
   ]
  },
  {
   "cell_type": "code",
   "execution_count": 65,
   "metadata": {},
   "outputs": [],
   "source": [
    "#category is the column to store the best matches with technology"
   ]
  },
  {
   "cell_type": "code",
   "execution_count": 66,
   "metadata": {},
   "outputs": [
    {
     "data": {
      "text/plain": [
       "17024"
      ]
     },
     "execution_count": 66,
     "metadata": {},
     "output_type": "execute_result"
    }
   ],
   "source": [
    "cordish2020['category'].value_counts()['None']"
   ]
  },
  {
   "cell_type": "code",
   "execution_count": 67,
   "metadata": {},
   "outputs": [],
   "source": [
    "cordish2020matches2 = cordish2020[cordish2020['category'] != \"None\" ]"
   ]
  },
  {
   "cell_type": "code",
   "execution_count": 68,
   "metadata": {},
   "outputs": [
    {
     "name": "stdout",
     "output_type": "stream",
     "text": [
      "0.3066710108332655\n"
     ]
    }
   ],
   "source": [
    "print(len(cordish2020matches2)/len(cordish2020))"
   ]
  },
  {
   "cell_type": "code",
   "execution_count": 69,
   "metadata": {},
   "outputs": [
    {
     "data": {
      "text/plain": [
       "0     837750\n",
       "5     835398\n",
       "6     838845\n",
       "9     827561\n",
       "10    823782\n",
       "12    825435\n",
       "16    835541\n",
       "17    833088\n",
       "22    835051\n",
       "27    815279\n",
       "29    810812\n",
       "32    827826\n",
       "33    812602\n",
       "37    822897\n",
       "40    828666\n",
       "41    827565\n",
       "43    811592\n",
       "45    847641\n",
       "48    817240\n",
       "49    826588\n",
       "Name: id, dtype: int64"
      ]
     },
     "execution_count": 69,
     "metadata": {},
     "output_type": "execute_result"
    }
   ],
   "source": [
    "cordish2020matches2.id[:20]"
   ]
  },
  {
   "cell_type": "code",
   "execution_count": 70,
   "metadata": {},
   "outputs": [
    {
     "data": {
      "text/html": [
       "<div>\n",
       "<style scoped>\n",
       "    .dataframe tbody tr th:only-of-type {\n",
       "        vertical-align: middle;\n",
       "    }\n",
       "\n",
       "    .dataframe tbody tr th {\n",
       "        vertical-align: top;\n",
       "    }\n",
       "\n",
       "    .dataframe thead th {\n",
       "        text-align: right;\n",
       "    }\n",
       "</style>\n",
       "<table border=\"1\" class=\"dataframe\">\n",
       "  <thead>\n",
       "    <tr style=\"text-align: right;\">\n",
       "      <th></th>\n",
       "      <th>rcn</th>\n",
       "      <th>id</th>\n",
       "      <th>acronym</th>\n",
       "      <th>status</th>\n",
       "      <th>programme</th>\n",
       "      <th>topics</th>\n",
       "      <th>frameworkProgramme</th>\n",
       "      <th>title</th>\n",
       "      <th>startDate</th>\n",
       "      <th>endDate</th>\n",
       "      <th>...</th>\n",
       "      <th>participantCountries</th>\n",
       "      <th>subjects</th>\n",
       "      <th>matches_group</th>\n",
       "      <th>count_matches_group</th>\n",
       "      <th>count_unique_matches_group</th>\n",
       "      <th>matches_technology</th>\n",
       "      <th>count_matches_technology</th>\n",
       "      <th>count_unique_matches_technology</th>\n",
       "      <th>count_matches</th>\n",
       "      <th>category</th>\n",
       "    </tr>\n",
       "  </thead>\n",
       "  <tbody>\n",
       "    <tr>\n",
       "      <th>0</th>\n",
       "      <td>222681</td>\n",
       "      <td>837750</td>\n",
       "      <td>FARMYNG</td>\n",
       "      <td>SIGNED</td>\n",
       "      <td>H2020-EU.2.1.4.;H2020-EU.3.2.6.</td>\n",
       "      <td>BBI.2018.SO3.F2</td>\n",
       "      <td>H2020</td>\n",
       "      <td>FlAgship demonstration of industrial scale pro...</td>\n",
       "      <td>2019-06-01</td>\n",
       "      <td>2022-06-30</td>\n",
       "      <td>...</td>\n",
       "      <td>FR;NO;BE;ES;PL;CH;DE;NL</td>\n",
       "      <td>NaN</td>\n",
       "      <td></td>\n",
       "      <td>0</td>\n",
       "      <td>0</td>\n",
       "      <td></td>\n",
       "      <td>0</td>\n",
       "      <td>0</td>\n",
       "      <td>0</td>\n",
       "      <td>agrosylviculture agro-sylviculture</td>\n",
       "    </tr>\n",
       "    <tr>\n",
       "      <th>5</th>\n",
       "      <td>221673</td>\n",
       "      <td>835398</td>\n",
       "      <td>3D-FOGROD</td>\n",
       "      <td>SIGNED</td>\n",
       "      <td>H2020-EU.1.3.2.</td>\n",
       "      <td>MSCA-IF-2018</td>\n",
       "      <td>H2020</td>\n",
       "      <td>Understanding forest growth dynamics using nov...</td>\n",
       "      <td>2019-10-01</td>\n",
       "      <td>2021-09-30</td>\n",
       "      <td>...</td>\n",
       "      <td>NaN</td>\n",
       "      <td>NaN</td>\n",
       "      <td></td>\n",
       "      <td>0</td>\n",
       "      <td>0</td>\n",
       "      <td>[forest management]</td>\n",
       "      <td>1</td>\n",
       "      <td>1</td>\n",
       "      <td>1</td>\n",
       "      <td>reforestation distributed production</td>\n",
       "    </tr>\n",
       "    <tr>\n",
       "      <th>6</th>\n",
       "      <td>222088</td>\n",
       "      <td>838845</td>\n",
       "      <td>SPIR</td>\n",
       "      <td>SIGNED</td>\n",
       "      <td>H2020-EU.1.3.2.</td>\n",
       "      <td>MSCA-IF-2018</td>\n",
       "      <td>H2020</td>\n",
       "      <td>Spasers in the infrared range</td>\n",
       "      <td>2020-03-01</td>\n",
       "      <td>2022-02-28</td>\n",
       "      <td>...</td>\n",
       "      <td>NaN</td>\n",
       "      <td>NaN</td>\n",
       "      <td></td>\n",
       "      <td>0</td>\n",
       "      <td>0</td>\n",
       "      <td></td>\n",
       "      <td>0</td>\n",
       "      <td>0</td>\n",
       "      <td>0</td>\n",
       "      <td>nanomaterial reforestation</td>\n",
       "    </tr>\n",
       "    <tr>\n",
       "      <th>9</th>\n",
       "      <td>217264</td>\n",
       "      <td>827561</td>\n",
       "      <td>UFine</td>\n",
       "      <td>CLOSED</td>\n",
       "      <td>H2020-EU.3.;H2020-EU.2.3.;H2020-EU.2.1.</td>\n",
       "      <td>EIC-SMEInst-2018-2020</td>\n",
       "      <td>H2020</td>\n",
       "      <td>An innovative ultra-fine bubble engineered noz...</td>\n",
       "      <td>2018-09-01</td>\n",
       "      <td>2018-12-31</td>\n",
       "      <td>...</td>\n",
       "      <td>NaN</td>\n",
       "      <td>NaN</td>\n",
       "      <td></td>\n",
       "      <td>0</td>\n",
       "      <td>0</td>\n",
       "      <td></td>\n",
       "      <td>0</td>\n",
       "      <td>0</td>\n",
       "      <td>0</td>\n",
       "      <td>smelt reduction electric battery</td>\n",
       "    </tr>\n",
       "    <tr>\n",
       "      <th>10</th>\n",
       "      <td>220938</td>\n",
       "      <td>823782</td>\n",
       "      <td>SSHOC</td>\n",
       "      <td>SIGNED</td>\n",
       "      <td>H2020-EU.1.4.1.1.</td>\n",
       "      <td>INFRAEOSC-04-2018</td>\n",
       "      <td>H2020</td>\n",
       "      <td>Social Sciences &amp; Humanities Open Cloud</td>\n",
       "      <td>2019-01-01</td>\n",
       "      <td>2022-04-30</td>\n",
       "      <td>...</td>\n",
       "      <td>UK;NL;FR;EL;AT;IT;DE</td>\n",
       "      <td>NaN</td>\n",
       "      <td></td>\n",
       "      <td>0</td>\n",
       "      <td>0</td>\n",
       "      <td></td>\n",
       "      <td>0</td>\n",
       "      <td>0</td>\n",
       "      <td>0</td>\n",
       "      <td>System innovation Energy use innovation</td>\n",
       "    </tr>\n",
       "    <tr>\n",
       "      <th>12</th>\n",
       "      <td>221878</td>\n",
       "      <td>825435</td>\n",
       "      <td>DECOMPACT</td>\n",
       "      <td>SIGNED</td>\n",
       "      <td>H2020-EU.1.1.</td>\n",
       "      <td>ERC-2018-PoC</td>\n",
       "      <td>H2020</td>\n",
       "      <td>Development of Collagenase Polymeric nanocapsu...</td>\n",
       "      <td>2019-05-01</td>\n",
       "      <td>2020-10-31</td>\n",
       "      <td>...</td>\n",
       "      <td>NaN</td>\n",
       "      <td>NaN</td>\n",
       "      <td></td>\n",
       "      <td>0</td>\n",
       "      <td>0</td>\n",
       "      <td></td>\n",
       "      <td>0</td>\n",
       "      <td>0</td>\n",
       "      <td>0</td>\n",
       "      <td>soil treatment pump system</td>\n",
       "    </tr>\n",
       "    <tr>\n",
       "      <th>16</th>\n",
       "      <td>221633</td>\n",
       "      <td>835541</td>\n",
       "      <td>MOVES</td>\n",
       "      <td>SIGNED</td>\n",
       "      <td>H2020-EU.1.3.2.</td>\n",
       "      <td>MSCA-IF-2018</td>\n",
       "      <td>H2020</td>\n",
       "      <td>MOnitoring VEgetation status and functioning a...</td>\n",
       "      <td>2019-10-01</td>\n",
       "      <td>2021-09-30</td>\n",
       "      <td>...</td>\n",
       "      <td>NaN</td>\n",
       "      <td>NaN</td>\n",
       "      <td></td>\n",
       "      <td>0</td>\n",
       "      <td>0</td>\n",
       "      <td>[forest management]</td>\n",
       "      <td>1</td>\n",
       "      <td>1</td>\n",
       "      <td>1</td>\n",
       "      <td>forest management Waste management</td>\n",
       "    </tr>\n",
       "    <tr>\n",
       "      <th>17</th>\n",
       "      <td>222602</td>\n",
       "      <td>833088</td>\n",
       "      <td>InfraStress</td>\n",
       "      <td>SIGNED</td>\n",
       "      <td>H2020-EU.3.7.4.;H2020-EU.3.7.2.</td>\n",
       "      <td>SU-INFRA01-2018-2019-2020</td>\n",
       "      <td>H2020</td>\n",
       "      <td>Improving resilience of sensitive industrial p...</td>\n",
       "      <td>2019-06-01</td>\n",
       "      <td>2021-05-31</td>\n",
       "      <td>...</td>\n",
       "      <td>SI;CY;PT;EL;DE;IE;IT;FR;IL;PL;BE</td>\n",
       "      <td>NaN</td>\n",
       "      <td></td>\n",
       "      <td>0</td>\n",
       "      <td>0</td>\n",
       "      <td></td>\n",
       "      <td>0</td>\n",
       "      <td>0</td>\n",
       "      <td>0</td>\n",
       "      <td>SPS Wind</td>\n",
       "    </tr>\n",
       "    <tr>\n",
       "      <th>22</th>\n",
       "      <td>221963</td>\n",
       "      <td>835051</td>\n",
       "      <td>NucSat</td>\n",
       "      <td>SIGNED</td>\n",
       "      <td>H2020-EU.1.3.2.</td>\n",
       "      <td>MSCA-IF-2018</td>\n",
       "      <td>H2020</td>\n",
       "      <td>Satellites and nuclear information. Production...</td>\n",
       "      <td>2019-07-01</td>\n",
       "      <td>2021-06-30</td>\n",
       "      <td>...</td>\n",
       "      <td>NaN</td>\n",
       "      <td>NaN</td>\n",
       "      <td></td>\n",
       "      <td>0</td>\n",
       "      <td>0</td>\n",
       "      <td></td>\n",
       "      <td>0</td>\n",
       "      <td>0</td>\n",
       "      <td>0</td>\n",
       "      <td>soil management grid management waste management</td>\n",
       "    </tr>\n",
       "    <tr>\n",
       "      <th>27</th>\n",
       "      <td>218529</td>\n",
       "      <td>815279</td>\n",
       "      <td>5G-VINNI</td>\n",
       "      <td>SIGNED</td>\n",
       "      <td>H2020-EU.2.1.1.</td>\n",
       "      <td>ICT-17-2018</td>\n",
       "      <td>H2020</td>\n",
       "      <td>5G Verticals INNovation Infrastructure</td>\n",
       "      <td>2018-07-01</td>\n",
       "      <td>2021-06-30</td>\n",
       "      <td>...</td>\n",
       "      <td>LU;DE;NO;EL;PT;IE;ES;DK;FI;UK;IT</td>\n",
       "      <td>NaN</td>\n",
       "      <td></td>\n",
       "      <td>0</td>\n",
       "      <td>0</td>\n",
       "      <td></td>\n",
       "      <td>0</td>\n",
       "      <td>0</td>\n",
       "      <td>0</td>\n",
       "      <td>soil management grid management waste management</td>\n",
       "    </tr>\n",
       "    <tr>\n",
       "      <th>29</th>\n",
       "      <td>216990</td>\n",
       "      <td>810812</td>\n",
       "      <td>FASTER</td>\n",
       "      <td>SIGNED</td>\n",
       "      <td>H2020-EU.4.b.</td>\n",
       "      <td>WIDESPREAD-05-2017</td>\n",
       "      <td>H2020</td>\n",
       "      <td>Farmersâ€™ Adaptation  Sustainability in Tunis...</td>\n",
       "      <td>2018-11-01</td>\n",
       "      <td>2021-10-31</td>\n",
       "      <td>...</td>\n",
       "      <td>UK;SE;ES;TN</td>\n",
       "      <td>NaN</td>\n",
       "      <td></td>\n",
       "      <td>0</td>\n",
       "      <td>0</td>\n",
       "      <td></td>\n",
       "      <td>0</td>\n",
       "      <td>0</td>\n",
       "      <td>0</td>\n",
       "      <td>Waste management waste management straw manage...</td>\n",
       "    </tr>\n",
       "    <tr>\n",
       "      <th>32</th>\n",
       "      <td>217204</td>\n",
       "      <td>827826</td>\n",
       "      <td>CreamOlive</td>\n",
       "      <td>SIGNED</td>\n",
       "      <td>H2020-EU.3.;H2020-EU.2.3.;H2020-EU.2.1.</td>\n",
       "      <td>EIC-SMEInst-2018-2020</td>\n",
       "      <td>H2020</td>\n",
       "      <td>Industrial scale-up of the first all-natural s...</td>\n",
       "      <td>2018-07-01</td>\n",
       "      <td>2018-12-31</td>\n",
       "      <td>...</td>\n",
       "      <td>NaN</td>\n",
       "      <td>NaN</td>\n",
       "      <td></td>\n",
       "      <td>0</td>\n",
       "      <td>0</td>\n",
       "      <td></td>\n",
       "      <td>0</td>\n",
       "      <td>0</td>\n",
       "      <td>0</td>\n",
       "      <td>meat alternative alternatives to meat</td>\n",
       "    </tr>\n",
       "    <tr>\n",
       "      <th>33</th>\n",
       "      <td>217649</td>\n",
       "      <td>812602</td>\n",
       "      <td>POLIPO</td>\n",
       "      <td>CLOSED</td>\n",
       "      <td>H2020-EU.3.;H2020-EU.2.3.;H2020-EU.2.1.</td>\n",
       "      <td>EIC-SMEInst-2018-2020</td>\n",
       "      <td>H2020</td>\n",
       "      <td>The first non-fermentative production process ...</td>\n",
       "      <td>2018-06-01</td>\n",
       "      <td>2018-11-30</td>\n",
       "      <td>...</td>\n",
       "      <td>NaN</td>\n",
       "      <td>NaN</td>\n",
       "      <td></td>\n",
       "      <td>0</td>\n",
       "      <td>0</td>\n",
       "      <td>[bioplastic]</td>\n",
       "      <td>4</td>\n",
       "      <td>1</td>\n",
       "      <td>4</td>\n",
       "      <td>bioplastic protection of soil</td>\n",
       "    </tr>\n",
       "    <tr>\n",
       "      <th>37</th>\n",
       "      <td>217413</td>\n",
       "      <td>822897</td>\n",
       "      <td>BEATIK</td>\n",
       "      <td>SIGNED</td>\n",
       "      <td>H2020-EU.3.;H2020-EU.2.3.;H2020-EU.2.1.</td>\n",
       "      <td>EIC-SMEInst-2018-2020</td>\n",
       "      <td>H2020</td>\n",
       "      <td>Beatik- Collaborative Digital Scores Platform ...</td>\n",
       "      <td>2018-09-01</td>\n",
       "      <td>2020-03-31</td>\n",
       "      <td>...</td>\n",
       "      <td>NaN</td>\n",
       "      <td>NaN</td>\n",
       "      <td>[Storage]</td>\n",
       "      <td>1</td>\n",
       "      <td>1</td>\n",
       "      <td></td>\n",
       "      <td>0</td>\n",
       "      <td>0</td>\n",
       "      <td>1</td>\n",
       "      <td>Storage conservation tillage</td>\n",
       "    </tr>\n",
       "    <tr>\n",
       "      <th>40</th>\n",
       "      <td>217195</td>\n",
       "      <td>828666</td>\n",
       "      <td>KERMA</td>\n",
       "      <td>CLOSED</td>\n",
       "      <td>H2020-EU.3.;H2020-EU.2.3.;H2020-EU.2.1.</td>\n",
       "      <td>EIC-SMEInst-2018-2020</td>\n",
       "      <td>H2020</td>\n",
       "      <td>A NEW VERIFICATION SYSTEM FOR COMPLEX RADIOTHE...</td>\n",
       "      <td>2018-09-01</td>\n",
       "      <td>2018-12-31</td>\n",
       "      <td>...</td>\n",
       "      <td>NaN</td>\n",
       "      <td>NaN</td>\n",
       "      <td>[Storage]</td>\n",
       "      <td>1</td>\n",
       "      <td>1</td>\n",
       "      <td></td>\n",
       "      <td>0</td>\n",
       "      <td>0</td>\n",
       "      <td>1</td>\n",
       "      <td>Storage soil treatment</td>\n",
       "    </tr>\n",
       "    <tr>\n",
       "      <th>41</th>\n",
       "      <td>217265</td>\n",
       "      <td>827565</td>\n",
       "      <td>PTC</td>\n",
       "      <td>CLOSED</td>\n",
       "      <td>H2020-EU.3.;H2020-EU.2.3.;H2020-EU.2.1.</td>\n",
       "      <td>EIC-SMEInst-2018-2020</td>\n",
       "      <td>H2020</td>\n",
       "      <td>Machine-Learning Technology for Digital Marketing</td>\n",
       "      <td>2018-09-01</td>\n",
       "      <td>2019-01-31</td>\n",
       "      <td>...</td>\n",
       "      <td>NaN</td>\n",
       "      <td>NaN</td>\n",
       "      <td></td>\n",
       "      <td>0</td>\n",
       "      <td>0</td>\n",
       "      <td></td>\n",
       "      <td>0</td>\n",
       "      <td>0</td>\n",
       "      <td>0</td>\n",
       "      <td>grid management soil management</td>\n",
       "    </tr>\n",
       "    <tr>\n",
       "      <th>43</th>\n",
       "      <td>217808</td>\n",
       "      <td>811592</td>\n",
       "      <td>NUTRI-NEED</td>\n",
       "      <td>SIGNED</td>\n",
       "      <td>H2020-EU.3.;H2020-EU.2.3.;H2020-EU.2.1.</td>\n",
       "      <td>EIC-SMEInst-2018-2020</td>\n",
       "      <td>H2020</td>\n",
       "      <td>Final development, clinical validation and lau...</td>\n",
       "      <td>2018-06-01</td>\n",
       "      <td>2020-05-31</td>\n",
       "      <td>...</td>\n",
       "      <td>NaN</td>\n",
       "      <td>NaN</td>\n",
       "      <td></td>\n",
       "      <td>0</td>\n",
       "      <td>0</td>\n",
       "      <td>[DSM]</td>\n",
       "      <td>1</td>\n",
       "      <td>1</td>\n",
       "      <td>1</td>\n",
       "      <td>DSM Cleaner product</td>\n",
       "    </tr>\n",
       "    <tr>\n",
       "      <th>45</th>\n",
       "      <td>223666</td>\n",
       "      <td>847641</td>\n",
       "      <td>MICADO</td>\n",
       "      <td>SIGNED</td>\n",
       "      <td>H2020-Euratom-1.7.;H2020-Euratom-1.1.</td>\n",
       "      <td>NFRP-2018-10</td>\n",
       "      <td>H2020</td>\n",
       "      <td>Measurement and Instrumentation for Cleaning A...</td>\n",
       "      <td>2019-06-01</td>\n",
       "      <td>2022-05-31</td>\n",
       "      <td>...</td>\n",
       "      <td>FR;DE;IT;BE;CZ</td>\n",
       "      <td>NaN</td>\n",
       "      <td>[Waste management]</td>\n",
       "      <td>2</td>\n",
       "      <td>1</td>\n",
       "      <td>[waste management]</td>\n",
       "      <td>2</td>\n",
       "      <td>1</td>\n",
       "      <td>4</td>\n",
       "      <td>Waste management waste management nutrient man...</td>\n",
       "    </tr>\n",
       "    <tr>\n",
       "      <th>48</th>\n",
       "      <td>216834</td>\n",
       "      <td>817240</td>\n",
       "      <td>POC</td>\n",
       "      <td>CLOSED</td>\n",
       "      <td>H2020-EU.3.;H2020-EU.2.3.;H2020-EU.2.1.</td>\n",
       "      <td>EIC-SMEInst-2018-2020</td>\n",
       "      <td>H2020</td>\n",
       "      <td>PieceOfCake: an AI-driven chatbot to manage co...</td>\n",
       "      <td>2018-06-01</td>\n",
       "      <td>2018-11-30</td>\n",
       "      <td>...</td>\n",
       "      <td>NaN</td>\n",
       "      <td>NaN</td>\n",
       "      <td></td>\n",
       "      <td>0</td>\n",
       "      <td>0</td>\n",
       "      <td></td>\n",
       "      <td>0</td>\n",
       "      <td>0</td>\n",
       "      <td>0</td>\n",
       "      <td>RAPS Cleaner product</td>\n",
       "    </tr>\n",
       "    <tr>\n",
       "      <th>49</th>\n",
       "      <td>223648</td>\n",
       "      <td>826588</td>\n",
       "      <td>APPLAUSE</td>\n",
       "      <td>SIGNED</td>\n",
       "      <td>H2020-EU.2.1.1.7.</td>\n",
       "      <td>ECSEL-2018-1-IA</td>\n",
       "      <td>H2020</td>\n",
       "      <td>Advanced packaging for photonics, optics and e...</td>\n",
       "      <td>2019-05-01</td>\n",
       "      <td>2022-04-30</td>\n",
       "      <td>...</td>\n",
       "      <td>DE;NO;NL;CH;AT;HU;FI;BE;FR;LV;IL</td>\n",
       "      <td>NaN</td>\n",
       "      <td></td>\n",
       "      <td>0</td>\n",
       "      <td>0</td>\n",
       "      <td></td>\n",
       "      <td>0</td>\n",
       "      <td>0</td>\n",
       "      <td>0</td>\n",
       "      <td>local manufacturing distributed manufacturing</td>\n",
       "    </tr>\n",
       "  </tbody>\n",
       "</table>\n",
       "<p>20 rows × 29 columns</p>\n",
       "</div>"
      ],
      "text/plain": [
       "       rcn      id      acronym  status  \\\n",
       "0   222681  837750      FARMYNG  SIGNED   \n",
       "5   221673  835398    3D-FOGROD  SIGNED   \n",
       "6   222088  838845         SPIR  SIGNED   \n",
       "9   217264  827561        UFine  CLOSED   \n",
       "10  220938  823782        SSHOC  SIGNED   \n",
       "12  221878  825435    DECOMPACT  SIGNED   \n",
       "16  221633  835541        MOVES  SIGNED   \n",
       "17  222602  833088  InfraStress  SIGNED   \n",
       "22  221963  835051       NucSat  SIGNED   \n",
       "27  218529  815279     5G-VINNI  SIGNED   \n",
       "29  216990  810812       FASTER  SIGNED   \n",
       "32  217204  827826   CreamOlive  SIGNED   \n",
       "33  217649  812602       POLIPO  CLOSED   \n",
       "37  217413  822897       BEATIK  SIGNED   \n",
       "40  217195  828666        KERMA  CLOSED   \n",
       "41  217265  827565          PTC  CLOSED   \n",
       "43  217808  811592   NUTRI-NEED  SIGNED   \n",
       "45  223666  847641       MICADO  SIGNED   \n",
       "48  216834  817240          POC  CLOSED   \n",
       "49  223648  826588     APPLAUSE  SIGNED   \n",
       "\n",
       "                                  programme                     topics  \\\n",
       "0           H2020-EU.2.1.4.;H2020-EU.3.2.6.            BBI.2018.SO3.F2   \n",
       "5                           H2020-EU.1.3.2.               MSCA-IF-2018   \n",
       "6                           H2020-EU.1.3.2.               MSCA-IF-2018   \n",
       "9   H2020-EU.3.;H2020-EU.2.3.;H2020-EU.2.1.      EIC-SMEInst-2018-2020   \n",
       "10                        H2020-EU.1.4.1.1.          INFRAEOSC-04-2018   \n",
       "12                            H2020-EU.1.1.               ERC-2018-PoC   \n",
       "16                          H2020-EU.1.3.2.               MSCA-IF-2018   \n",
       "17          H2020-EU.3.7.4.;H2020-EU.3.7.2.  SU-INFRA01-2018-2019-2020   \n",
       "22                          H2020-EU.1.3.2.               MSCA-IF-2018   \n",
       "27                          H2020-EU.2.1.1.                ICT-17-2018   \n",
       "29                            H2020-EU.4.b.         WIDESPREAD-05-2017   \n",
       "32  H2020-EU.3.;H2020-EU.2.3.;H2020-EU.2.1.      EIC-SMEInst-2018-2020   \n",
       "33  H2020-EU.3.;H2020-EU.2.3.;H2020-EU.2.1.      EIC-SMEInst-2018-2020   \n",
       "37  H2020-EU.3.;H2020-EU.2.3.;H2020-EU.2.1.      EIC-SMEInst-2018-2020   \n",
       "40  H2020-EU.3.;H2020-EU.2.3.;H2020-EU.2.1.      EIC-SMEInst-2018-2020   \n",
       "41  H2020-EU.3.;H2020-EU.2.3.;H2020-EU.2.1.      EIC-SMEInst-2018-2020   \n",
       "43  H2020-EU.3.;H2020-EU.2.3.;H2020-EU.2.1.      EIC-SMEInst-2018-2020   \n",
       "45    H2020-Euratom-1.7.;H2020-Euratom-1.1.               NFRP-2018-10   \n",
       "48  H2020-EU.3.;H2020-EU.2.3.;H2020-EU.2.1.      EIC-SMEInst-2018-2020   \n",
       "49                        H2020-EU.2.1.1.7.            ECSEL-2018-1-IA   \n",
       "\n",
       "   frameworkProgramme                                              title  \\\n",
       "0               H2020  FlAgship demonstration of industrial scale pro...   \n",
       "5               H2020  Understanding forest growth dynamics using nov...   \n",
       "6               H2020                      Spasers in the infrared range   \n",
       "9               H2020  An innovative ultra-fine bubble engineered noz...   \n",
       "10              H2020            Social Sciences & Humanities Open Cloud   \n",
       "12              H2020  Development of Collagenase Polymeric nanocapsu...   \n",
       "16              H2020  MOnitoring VEgetation status and functioning a...   \n",
       "17              H2020  Improving resilience of sensitive industrial p...   \n",
       "22              H2020  Satellites and nuclear information. Production...   \n",
       "27              H2020             5G Verticals INNovation Infrastructure   \n",
       "29              H2020  Farmersâ€™ Adaptation  Sustainability in Tunis...   \n",
       "32              H2020  Industrial scale-up of the first all-natural s...   \n",
       "33              H2020  The first non-fermentative production process ...   \n",
       "37              H2020  Beatik- Collaborative Digital Scores Platform ...   \n",
       "40              H2020  A NEW VERIFICATION SYSTEM FOR COMPLEX RADIOTHE...   \n",
       "41              H2020  Machine-Learning Technology for Digital Marketing   \n",
       "43              H2020  Final development, clinical validation and lau...   \n",
       "45              H2020  Measurement and Instrumentation for Cleaning A...   \n",
       "48              H2020  PieceOfCake: an AI-driven chatbot to manage co...   \n",
       "49              H2020  Advanced packaging for photonics, optics and e...   \n",
       "\n",
       "    startDate    endDate  ...              participantCountries subjects  \\\n",
       "0  2019-06-01 2022-06-30  ...           FR;NO;BE;ES;PL;CH;DE;NL      NaN   \n",
       "5  2019-10-01 2021-09-30  ...                               NaN      NaN   \n",
       "6  2020-03-01 2022-02-28  ...                               NaN      NaN   \n",
       "9  2018-09-01 2018-12-31  ...                               NaN      NaN   \n",
       "10 2019-01-01 2022-04-30  ...              UK;NL;FR;EL;AT;IT;DE      NaN   \n",
       "12 2019-05-01 2020-10-31  ...                               NaN      NaN   \n",
       "16 2019-10-01 2021-09-30  ...                               NaN      NaN   \n",
       "17 2019-06-01 2021-05-31  ...  SI;CY;PT;EL;DE;IE;IT;FR;IL;PL;BE      NaN   \n",
       "22 2019-07-01 2021-06-30  ...                               NaN      NaN   \n",
       "27 2018-07-01 2021-06-30  ...  LU;DE;NO;EL;PT;IE;ES;DK;FI;UK;IT      NaN   \n",
       "29 2018-11-01 2021-10-31  ...                       UK;SE;ES;TN      NaN   \n",
       "32 2018-07-01 2018-12-31  ...                               NaN      NaN   \n",
       "33 2018-06-01 2018-11-30  ...                               NaN      NaN   \n",
       "37 2018-09-01 2020-03-31  ...                               NaN      NaN   \n",
       "40 2018-09-01 2018-12-31  ...                               NaN      NaN   \n",
       "41 2018-09-01 2019-01-31  ...                               NaN      NaN   \n",
       "43 2018-06-01 2020-05-31  ...                               NaN      NaN   \n",
       "45 2019-06-01 2022-05-31  ...                    FR;DE;IT;BE;CZ      NaN   \n",
       "48 2018-06-01 2018-11-30  ...                               NaN      NaN   \n",
       "49 2019-05-01 2022-04-30  ...  DE;NO;NL;CH;AT;HU;FI;BE;FR;LV;IL      NaN   \n",
       "\n",
       "         matches_group  count_matches_group count_unique_matches_group  \\\n",
       "0                                         0                          0   \n",
       "5                                         0                          0   \n",
       "6                                         0                          0   \n",
       "9                                         0                          0   \n",
       "10                                        0                          0   \n",
       "12                                        0                          0   \n",
       "16                                        0                          0   \n",
       "17                                        0                          0   \n",
       "22                                        0                          0   \n",
       "27                                        0                          0   \n",
       "29                                        0                          0   \n",
       "32                                        0                          0   \n",
       "33                                        0                          0   \n",
       "37           [Storage]                    1                          1   \n",
       "40           [Storage]                    1                          1   \n",
       "41                                        0                          0   \n",
       "43                                        0                          0   \n",
       "45  [Waste management]                    2                          1   \n",
       "48                                        0                          0   \n",
       "49                                        0                          0   \n",
       "\n",
       "     matches_technology count_matches_technology  \\\n",
       "0                                              0   \n",
       "5   [forest management]                        1   \n",
       "6                                              0   \n",
       "9                                              0   \n",
       "10                                             0   \n",
       "12                                             0   \n",
       "16  [forest management]                        1   \n",
       "17                                             0   \n",
       "22                                             0   \n",
       "27                                             0   \n",
       "29                                             0   \n",
       "32                                             0   \n",
       "33         [bioplastic]                        4   \n",
       "37                                             0   \n",
       "40                                             0   \n",
       "41                                             0   \n",
       "43                [DSM]                        1   \n",
       "45   [waste management]                        2   \n",
       "48                                             0   \n",
       "49                                             0   \n",
       "\n",
       "   count_unique_matches_technology count_matches  \\\n",
       "0                                0             0   \n",
       "5                                1             1   \n",
       "6                                0             0   \n",
       "9                                0             0   \n",
       "10                               0             0   \n",
       "12                               0             0   \n",
       "16                               1             1   \n",
       "17                               0             0   \n",
       "22                               0             0   \n",
       "27                               0             0   \n",
       "29                               0             0   \n",
       "32                               0             0   \n",
       "33                               1             4   \n",
       "37                               0             1   \n",
       "40                               0             1   \n",
       "41                               0             0   \n",
       "43                               1             1   \n",
       "45                               1             4   \n",
       "48                               0             0   \n",
       "49                               0             0   \n",
       "\n",
       "                                             category  \n",
       "0                  agrosylviculture agro-sylviculture  \n",
       "5                reforestation distributed production  \n",
       "6                          nanomaterial reforestation  \n",
       "9                    smelt reduction electric battery  \n",
       "10            System innovation Energy use innovation  \n",
       "12                         soil treatment pump system  \n",
       "16                 forest management Waste management  \n",
       "17                                           SPS Wind  \n",
       "22   soil management grid management waste management  \n",
       "27   soil management grid management waste management  \n",
       "29  Waste management waste management straw manage...  \n",
       "32              meat alternative alternatives to meat  \n",
       "33                      bioplastic protection of soil  \n",
       "37                       Storage conservation tillage  \n",
       "40                             Storage soil treatment  \n",
       "41                    grid management soil management  \n",
       "43                                DSM Cleaner product  \n",
       "45  Waste management waste management nutrient man...  \n",
       "48                               RAPS Cleaner product  \n",
       "49      local manufacturing distributed manufacturing  \n",
       "\n",
       "[20 rows x 29 columns]"
      ]
     },
     "execution_count": 70,
     "metadata": {},
     "output_type": "execute_result"
    }
   ],
   "source": [
    "cordish2020matches2.head(20)"
   ]
  },
  {
   "cell_type": "code",
   "execution_count": null,
   "metadata": {},
   "outputs": [],
   "source": [
    "text = cordish2020['objective'][13]\n",
    "doc = nlp(text)\n",
    "#doc = \" \".join([token.lemma_ for token in doc])\n",
    "#doc = nlp(doc)\n",
    "docs = list(map(str, doc.noun_chunks))\n",
    "_, best_tech, best_match = find_best_matching_tech(technologies, docs)\n",
    "print(best_tech,best_match)"
   ]
  },
  {
   "cell_type": "code",
   "execution_count": 72,
   "metadata": {},
   "outputs": [],
   "source": [
    "cordish2020matches2[['id','acronym','title','objective','startDate','endDate','ecMaxContribution','matches_group','matches_technology','count_matches','category']].to_csv('../data/tech2.csv')"
   ]
  },
  {
   "cell_type": "code",
   "execution_count": null,
   "metadata": {},
   "outputs": [],
   "source": []
  }
 ],
 "metadata": {
  "kernelspec": {
   "display_name": "Python 3",
   "language": "python",
   "name": "python3"
  },
  "language_info": {
   "codemirror_mode": {
    "name": "ipython",
    "version": 3
   },
   "file_extension": ".py",
   "mimetype": "text/x-python",
   "name": "python",
   "nbconvert_exporter": "python",
   "pygments_lexer": "ipython3",
   "version": "3.6.7"
  }
 },
 "nbformat": 4,
 "nbformat_minor": 2
}
