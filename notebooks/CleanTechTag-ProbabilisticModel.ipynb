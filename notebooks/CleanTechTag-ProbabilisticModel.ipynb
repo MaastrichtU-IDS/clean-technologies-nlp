{
 "cells": [
  {
   "cell_type": "markdown",
   "metadata": {},
   "source": [
    "# CleanTechTag \n",
    "## (Clean Technologies Tagging) - Probabilistic Model\n",
    "---"
   ]
  },
  {
   "cell_type": "markdown",
   "metadata": {},
   "source": [
    "### 1. Gathering the mitigation technology catalogue"
   ]
  },
  {
   "cell_type": "code",
   "execution_count": 1,
   "metadata": {},
   "outputs": [],
   "source": [
    "import pandas as pd\n",
    "import matplotlib.pyplot as plt\n",
    "import warnings\n",
    "warnings.filterwarnings(\"ignore\")\n",
    "%matplotlib inline"
   ]
  },
  {
   "cell_type": "code",
   "execution_count": 2,
   "metadata": {},
   "outputs": [
    {
     "data": {
      "text/html": [
       "<div>\n",
       "<style scoped>\n",
       "    .dataframe tbody tr th:only-of-type {\n",
       "        vertical-align: middle;\n",
       "    }\n",
       "\n",
       "    .dataframe tbody tr th {\n",
       "        vertical-align: top;\n",
       "    }\n",
       "\n",
       "    .dataframe thead th {\n",
       "        text-align: right;\n",
       "    }\n",
       "</style>\n",
       "<table border=\"1\" class=\"dataframe\">\n",
       "  <thead>\n",
       "    <tr style=\"text-align: right;\">\n",
       "      <th></th>\n",
       "      <th>sector</th>\n",
       "      <th>technology_group</th>\n",
       "      <th>technology</th>\n",
       "      <th>description</th>\n",
       "      <th>technology_term</th>\n",
       "      <th>source</th>\n",
       "      <th>priority</th>\n",
       "    </tr>\n",
       "  </thead>\n",
       "  <tbody>\n",
       "    <tr>\n",
       "      <td>0</td>\n",
       "      <td>Energy</td>\n",
       "      <td>Solar energy sources</td>\n",
       "      <td>solar PV</td>\n",
       "      <td>Also “solar photovoltaic”; technology of using...</td>\n",
       "      <td>photovoltaic, PV, “solar cell”</td>\n",
       "      <td>https://www.ctc-n.org/technologies/solar-pv</td>\n",
       "      <td>1</td>\n",
       "    </tr>\n",
       "    <tr>\n",
       "      <td>1</td>\n",
       "      <td>Energy</td>\n",
       "      <td>Solar energy sources</td>\n",
       "      <td>concentrated solar power (CSP)</td>\n",
       "      <td>Technology of producing electricity by concent...</td>\n",
       "      <td>“concentrated solar power”, CSP, “concentrated...</td>\n",
       "      <td>https://setis.ec.europa.eu/technologies/concen...</td>\n",
       "      <td>1</td>\n",
       "    </tr>\n",
       "    <tr>\n",
       "      <td>2</td>\n",
       "      <td>Energy</td>\n",
       "      <td>Solar energy sources</td>\n",
       "      <td>solar heating</td>\n",
       "      <td>Technology of capturing the sun's radiation an...</td>\n",
       "      <td>“solar heating”</td>\n",
       "      <td>https://www.ctc-n.org/technologies/solar-heating</td>\n",
       "      <td>1</td>\n",
       "    </tr>\n",
       "    <tr>\n",
       "      <td>3</td>\n",
       "      <td>Energy</td>\n",
       "      <td>Solar energy sources</td>\n",
       "      <td>solar dryer</td>\n",
       "      <td>Technology of drying substances, especially fo...</td>\n",
       "      <td>“solar dryer”</td>\n",
       "      <td>https://www.ctc-n.org/technologies/solar-dryer</td>\n",
       "      <td>0</td>\n",
       "    </tr>\n",
       "    <tr>\n",
       "      <td>4</td>\n",
       "      <td>Energy</td>\n",
       "      <td>Solar energy sources</td>\n",
       "      <td>solar water pump</td>\n",
       "      <td>Technology of powering electrical water pumps ...</td>\n",
       "      <td>“solar water pump”</td>\n",
       "      <td>https://www.ctc-n.org/technologies/solar-water...</td>\n",
       "      <td>0</td>\n",
       "    </tr>\n",
       "  </tbody>\n",
       "</table>\n",
       "</div>"
      ],
      "text/plain": [
       "   sector      technology_group                      technology  \\\n",
       "0  Energy  Solar energy sources                        solar PV   \n",
       "1  Energy  Solar energy sources  concentrated solar power (CSP)   \n",
       "2  Energy  Solar energy sources                   solar heating   \n",
       "3  Energy  Solar energy sources                     solar dryer   \n",
       "4  Energy  Solar energy sources                solar water pump   \n",
       "\n",
       "                                         description  \\\n",
       "0  Also “solar photovoltaic”; technology of using...   \n",
       "1  Technology of producing electricity by concent...   \n",
       "2  Technology of capturing the sun's radiation an...   \n",
       "3  Technology of drying substances, especially fo...   \n",
       "4  Technology of powering electrical water pumps ...   \n",
       "\n",
       "                                     technology_term  \\\n",
       "0                    photovoltaic, PV, “solar cell”    \n",
       "1  “concentrated solar power”, CSP, “concentrated...   \n",
       "2                                    “solar heating”   \n",
       "3                                      “solar dryer”   \n",
       "4                                 “solar water pump”   \n",
       "\n",
       "                                              source  priority  \n",
       "0        https://www.ctc-n.org/technologies/solar-pv         1  \n",
       "1  https://setis.ec.europa.eu/technologies/concen...         1  \n",
       "2   https://www.ctc-n.org/technologies/solar-heating         1  \n",
       "3     https://www.ctc-n.org/technologies/solar-dryer         0  \n",
       "4  https://www.ctc-n.org/technologies/solar-water...         0  "
      ]
     },
     "execution_count": 2,
     "metadata": {},
     "output_type": "execute_result"
    }
   ],
   "source": [
    "categories = pd.read_excel('../data/mitigation-technology-catalogue.xls')\n",
    "categories = categories.fillna(method='ffill')\n",
    "categories.columns = ['sector','technology_group','technology','description','technology_term','source','priority']\n",
    "categories.head()"
   ]
  },
  {
   "cell_type": "code",
   "execution_count": 3,
   "metadata": {},
   "outputs": [],
   "source": [
    "matrix = []\n",
    "for term in categories['technology_term']:\n",
    "    row = [x.strip() for x in term.split(',')]\n",
    "    row = [i.replace('“', '').replace('”', '') for i in row]\n",
    "    matrix.append(row)\n",
    "categories['technology_term'] = matrix"
   ]
  },
  {
   "cell_type": "markdown",
   "metadata": {},
   "source": [
    "---\n",
    "\n",
    "### 2. Reading up cordis H2020 projects data source\n",
    "https://data.europa.eu/euodp/en/data/dataset/cordisH2020projects"
   ]
  },
  {
   "cell_type": "markdown",
   "metadata": {},
   "source": [
    "*To replicate the results use the copy made*"
   ]
  },
  {
   "cell_type": "code",
   "execution_count": null,
   "metadata": {},
   "outputs": [],
   "source": [
    "cordish2020 = pd.read_excel('../data/cordis-h2020projects.xlsx')"
   ]
  },
  {
   "cell_type": "markdown",
   "metadata": {},
   "source": [
    "*To get the latest data go to the source endpoint*"
   ]
  },
  {
   "cell_type": "code",
   "execution_count": 4,
   "metadata": {},
   "outputs": [],
   "source": [
    "#cordish2020 = pd.read_csv('https://cordis.europa.eu/data/cordis-h2020projects.csv', sep=';',error_bad_lines=False)"
   ]
  },
  {
   "cell_type": "code",
   "execution_count": 5,
   "metadata": {},
   "outputs": [],
   "source": [
    "cordish2020['totalCost'] = [float(str(i).replace(',', '.')) for i in cordish2020['totalCost']]\n",
    "cordish2020['ecMaxContribution'] = [float(str(i).replace(',', '.')) for i in cordish2020['ecMaxContribution']]\n",
    "cordish2020['objective'] = [str(i) for i in cordish2020['objective']]\n",
    "cordish2020['startDate'] = cordish2020['startDate'].map(pd.Timestamp)\n",
    "cordish2020['endDate'] = cordish2020['endDate'].map(pd.Timestamp)"
   ]
  },
  {
   "cell_type": "code",
   "execution_count": 6,
   "metadata": {},
   "outputs": [
    {
     "data": {
      "text/plain": [
       "Index(['rcn', 'id', 'acronym', 'status', 'programme', 'topics',\n",
       "       'frameworkProgramme', 'title', 'startDate', 'endDate', 'projectUrl',\n",
       "       'objective', 'totalCost', 'ecMaxContribution', 'call', 'fundingScheme',\n",
       "       'coordinator', 'coordinatorCountry', 'participants',\n",
       "       'participantCountries', 'subjects'],\n",
       "      dtype='object')"
      ]
     },
     "execution_count": 6,
     "metadata": {},
     "output_type": "execute_result"
    }
   ],
   "source": [
    "cordish2020.columns"
   ]
  },
  {
   "cell_type": "code",
   "execution_count": 7,
   "metadata": {},
   "outputs": [
    {
     "data": {
      "text/plain": [
       "27370"
      ]
     },
     "execution_count": 7,
     "metadata": {},
     "output_type": "execute_result"
    }
   ],
   "source": [
    "# Total of proyects\n",
    "len(cordish2020)"
   ]
  },
  {
   "cell_type": "code",
   "execution_count": 8,
   "metadata": {},
   "outputs": [
    {
     "data": {
      "text/plain": [
       "237"
      ]
     },
     "execution_count": 8,
     "metadata": {},
     "output_type": "execute_result"
    }
   ],
   "source": [
    "# unique list of technology term\n",
    "technology_term = [y for x in categories['technology_term'] for y in x if y != '']\n",
    "len(technology_term)"
   ]
  },
  {
   "cell_type": "markdown",
   "metadata": {},
   "source": [
    "#### Technology terms example"
   ]
  },
  {
   "cell_type": "code",
   "execution_count": 9,
   "metadata": {},
   "outputs": [
    {
     "data": {
      "text/plain": [
       "['PV',\n",
       " 'traffic management',\n",
       " 'management of livestock',\n",
       " 'recycling',\n",
       " 'straw management',\n",
       " 'conservation tillage',\n",
       " 'alternate wetting and drying',\n",
       " 'treatment of soil',\n",
       " 'blast furnace slag',\n",
       " 'Cleaner product']"
      ]
     },
     "execution_count": 9,
     "metadata": {},
     "output_type": "execute_result"
    }
   ],
   "source": [
    "all_technology_terms = [i for i in set([*list(categories['technology_group']),*list(technology_term)])]\n",
    "all_technology_terms[:10]"
   ]
  },
  {
   "cell_type": "markdown",
   "metadata": {},
   "source": [
    "---\n",
    "\n",
    "### 3. Syntactic probabilistic text labeling\n",
    "#### Using [SpaCy](http://spacy.io/) and [FuzzyWuzzy](https://chairnerd.seatgeek.com/fuzzywuzzy-fuzzy-string-matching-in-python/ ) string matching algorithm."
   ]
  },
  {
   "cell_type": "code",
   "execution_count": 10,
   "metadata": {},
   "outputs": [],
   "source": [
    "import spacy\n",
    "import numpy as np\n",
    "from spacy import displacy\n",
    "from collections import Counter\n",
    "import en_core_web_sm\n",
    "from fuzzywuzzy import process, fuzz\n",
    "import re\n",
    "import textdistance as tx\n",
    "import unicodedata\n",
    "from textdistance.algorithms import vector_based\n",
    "nlp = en_core_web_sm.load()"
   ]
  },
  {
   "cell_type": "code",
   "execution_count": 11,
   "metadata": {},
   "outputs": [],
   "source": [
    "def clean(string):\n",
    "    return re.sub(r'[-\\s]+', '-',\n",
    "                str(\n",
    "                    re.sub(r'[^\\w\\s-]', '',\n",
    "                        unicodedata.normalize('NFKD', string)\n",
    "                    .strip()\n",
    "                   )))"
   ]
  },
  {
   "cell_type": "markdown",
   "metadata": {},
   "source": [
    "#### Get all the synonyms from the short descriptions"
   ]
  },
  {
   "cell_type": "code",
   "execution_count": 12,
   "metadata": {},
   "outputs": [
    {
     "data": {
      "text/plain": [
       "249"
      ]
     },
     "execution_count": 12,
     "metadata": {},
     "output_type": "execute_result"
    }
   ],
   "source": [
    "technologies = all_technology_terms\n",
    "len(technologies)"
   ]
  },
  {
   "cell_type": "code",
   "execution_count": 13,
   "metadata": {},
   "outputs": [],
   "source": [
    "def find_best_matching_tech(techs, doc):\n",
    "    best_matches = []\n",
    "    best1 = [(\"\", 0)]\n",
    "    best2 = [(\"\", 0)]\n",
    "    val2=\"\"\n",
    "    best_tech = []\n",
    "    for val in techs:\n",
    "        best_curs = process.extract(val, doc, limit=1, scorer=fuzz.ratio)\n",
    "        terms = \"\"\n",
    "        for cat in best_curs:\n",
    "            terms = terms + cat[0] + \",\" \n",
    "        terms = terms[:-1]\n",
    "        if len(best_curs)==0:\n",
    "            avg = 0\n",
    "        else:\n",
    "            avg = sum(i for _, i in best_curs)/float(len(best_curs))\n",
    "        best_cur = [(terms, avg)]\n",
    "        best_matches.extend(best_cur)\n",
    "        if best_cur[0][1] > best1[0][1]:\n",
    "            best1 = best_cur\n",
    "            best_tech = [val]\n",
    "        elif best_cur[0][1] == best1[0][1]:\n",
    "            best1.extend(best_cur)\n",
    "            best_tech.append(val)\n",
    "        else:\n",
    "            if best_cur[0][1] > best2[0][1] and len(best1)<3:\n",
    "                best2 = best_cur\n",
    "                val2 = val\n",
    "    if len(best1)<3:            \n",
    "        best1.extend(best2)\n",
    "        best_tech.append(val2)\n",
    "    return best_matches, best_tech, best1"
   ]
  },
  {
   "cell_type": "code",
   "execution_count": 14,
   "metadata": {},
   "outputs": [],
   "source": [
    "#process.extract(each tech term, each noun chunk in each objective)"
   ]
  },
  {
   "cell_type": "code",
   "execution_count": 15,
   "metadata": {},
   "outputs": [],
   "source": [
    "cordish2020['category'] = pd.Series(np.random.randn(len(cordish2020)), index=cordish2020.index)\n",
    "for idx in range(len(cordish2020['objective'])):\n",
    "    text = cordish2020['objective'][idx]\n",
    "    doc = nlp(text)\n",
    "   # doc = \" \".join([token.lemma_ for token in doc])\n",
    "    #doc = nlp(doc)\n",
    "    docs = list(map(str, doc.noun_chunks))\n",
    "    #docs = [clean(str(txt)) for txt in docs]\n",
    "    _, best_tech, best_match = find_best_matching_tech(technologies, docs)\n",
    "    #print(best_tech, best_match)\n",
    "    if round(best_match[0][1]) > 77:\n",
    "        cordish2020['category'][idx] = \" \".join(best_tech)\n",
    "    else:\n",
    "        cordish2020['category'][idx] = 'None'"
   ]
  },
  {
   "cell_type": "code",
   "execution_count": 16,
   "metadata": {},
   "outputs": [],
   "source": [
    "#category is the column to store the best matches with technology"
   ]
  },
  {
   "cell_type": "markdown",
   "metadata": {},
   "source": [
    "---\n",
    "\n",
    "### 4. Matches analysis"
   ]
  },
  {
   "cell_type": "code",
   "execution_count": 18,
   "metadata": {},
   "outputs": [],
   "source": [
    "#cordish2020['category'].value_counts()['None']\n",
    "cordish2020matches2 = cordish2020[cordish2020['category'] != \"None\" ]"
   ]
  },
  {
   "cell_type": "markdown",
   "metadata": {},
   "source": [
    "#### Percentage of Matches"
   ]
  },
  {
   "cell_type": "code",
   "execution_count": 19,
   "metadata": {},
   "outputs": [
    {
     "name": "stdout",
     "output_type": "stream",
     "text": [
      "0.31114358786993057\n"
     ]
    }
   ],
   "source": [
    "print(100*len(cordish2020matches2)/len(cordish2020))"
   ]
  },
  {
   "cell_type": "code",
   "execution_count": 20,
   "metadata": {},
   "outputs": [
    {
     "data": {
      "text/plain": [
       "2     801338\n",
       "6     875629\n",
       "9     766466\n",
       "18    866510\n",
       "19    863664\n",
       "25    854796\n",
       "27    871869\n",
       "30    871518\n",
       "32    870245\n",
       "34    885214\n",
       "35    886231\n",
       "38    882623\n",
       "39    887865\n",
       "40    889249\n",
       "46    871403\n",
       "47    851374\n",
       "50    888926\n",
       "53    888396\n",
       "54    889000\n",
       "56    889258\n",
       "Name: id, dtype: int64"
      ]
     },
     "execution_count": 20,
     "metadata": {},
     "output_type": "execute_result"
    }
   ],
   "source": [
    "cordish2020matches2.id[:20]"
   ]
  },
  {
   "cell_type": "code",
   "execution_count": 23,
   "metadata": {},
   "outputs": [
    {
     "data": {
      "text/html": [
       "<div>\n",
       "<style scoped>\n",
       "    .dataframe tbody tr th:only-of-type {\n",
       "        vertical-align: middle;\n",
       "    }\n",
       "\n",
       "    .dataframe tbody tr th {\n",
       "        vertical-align: top;\n",
       "    }\n",
       "\n",
       "    .dataframe thead th {\n",
       "        text-align: right;\n",
       "    }\n",
       "</style>\n",
       "<table border=\"1\" class=\"dataframe\">\n",
       "  <thead>\n",
       "    <tr style=\"text-align: right;\">\n",
       "      <th></th>\n",
       "      <th>rcn</th>\n",
       "      <th>id</th>\n",
       "      <th>acronym</th>\n",
       "      <th>status</th>\n",
       "      <th>programme</th>\n",
       "      <th>topics</th>\n",
       "      <th>frameworkProgramme</th>\n",
       "      <th>title</th>\n",
       "      <th>startDate</th>\n",
       "      <th>endDate</th>\n",
       "      <th>...</th>\n",
       "      <th>totalCost</th>\n",
       "      <th>ecMaxContribution</th>\n",
       "      <th>call</th>\n",
       "      <th>fundingScheme</th>\n",
       "      <th>coordinator</th>\n",
       "      <th>coordinatorCountry</th>\n",
       "      <th>participants</th>\n",
       "      <th>participantCountries</th>\n",
       "      <th>subjects</th>\n",
       "      <th>category</th>\n",
       "    </tr>\n",
       "  </thead>\n",
       "  <tbody>\n",
       "    <tr>\n",
       "      <td>2</td>\n",
       "      <td>216332</td>\n",
       "      <td>801338</td>\n",
       "      <td>VES4US</td>\n",
       "      <td>SIGNED</td>\n",
       "      <td>H2020-EU.1.2.1.</td>\n",
       "      <td>FETOPEN-01-2016-2017</td>\n",
       "      <td>H2020</td>\n",
       "      <td>Extracellular vesicles from a natural source f...</td>\n",
       "      <td>2018-09-01</td>\n",
       "      <td>2021-08-31</td>\n",
       "      <td>...</td>\n",
       "      <td>2946303.75</td>\n",
       "      <td>2946303.75</td>\n",
       "      <td>H2020-FETOPEN-1-2016-2017</td>\n",
       "      <td>RIA</td>\n",
       "      <td>CONSIGLIO NAZIONALE DELLE RICERCHE</td>\n",
       "      <td>IT</td>\n",
       "      <td>ZABALA INNOVATION CONSULTING, S.A.;INSTITUTE O...</td>\n",
       "      <td>ES;IE;CH;DE;SI</td>\n",
       "      <td>NaN</td>\n",
       "      <td>LNG RAPS</td>\n",
       "    </tr>\n",
       "    <tr>\n",
       "      <td>6</td>\n",
       "      <td>225983</td>\n",
       "      <td>875629</td>\n",
       "      <td>NAIMA</td>\n",
       "      <td>SIGNED</td>\n",
       "      <td>H2020-EU.2.1.3.;H2020-EU.2.1.2.</td>\n",
       "      <td>LC-BAT-2-2019</td>\n",
       "      <td>H2020</td>\n",
       "      <td>NA ION MATERIALS AS ESSENTIAL COMPONENTS TO MA...</td>\n",
       "      <td>2019-12-01</td>\n",
       "      <td>2022-11-30</td>\n",
       "      <td>...</td>\n",
       "      <td>7999897.03</td>\n",
       "      <td>7999897.03</td>\n",
       "      <td>H2020-LC-BAT-2019</td>\n",
       "      <td>RIA</td>\n",
       "      <td>TIAMAT</td>\n",
       "      <td>FR</td>\n",
       "      <td>BIOKOL SVERIGE AB;VLAAMSE INSTELLING VOOR TECH...</td>\n",
       "      <td>SE;BE;BG;ES;FR;NL;DE;SI</td>\n",
       "      <td>NaN</td>\n",
       "      <td>Other renewable energy sources tidal energy</td>\n",
       "    </tr>\n",
       "    <tr>\n",
       "      <td>9</td>\n",
       "      <td>211662</td>\n",
       "      <td>766466</td>\n",
       "      <td>INDEX</td>\n",
       "      <td>SIGNED</td>\n",
       "      <td>H2020-EU.1.2.1.</td>\n",
       "      <td>FETOPEN-01-2016-2017</td>\n",
       "      <td>H2020</td>\n",
       "      <td>Integrated nanoparticle isolation and detectio...</td>\n",
       "      <td>2017-10-01</td>\n",
       "      <td>2020-09-30</td>\n",
       "      <td>...</td>\n",
       "      <td>2983525.00</td>\n",
       "      <td>2982275.00</td>\n",
       "      <td>H2020-FETOPEN-1-2016-2017</td>\n",
       "      <td>RIA</td>\n",
       "      <td>CONSIGLIO NAZIONALE DELLE RICERCHE</td>\n",
       "      <td>IT</td>\n",
       "      <td>FLUIGENT SA;THE TRUSTEES OF BOSTON UNIVERSITY;...</td>\n",
       "      <td>FR;US;DK;EE</td>\n",
       "      <td>NaN</td>\n",
       "      <td>CHP smelt reduction</td>\n",
       "    </tr>\n",
       "    <tr>\n",
       "      <td>18</td>\n",
       "      <td>227213</td>\n",
       "      <td>866510</td>\n",
       "      <td>TRANSLATIONAL</td>\n",
       "      <td>SIGNED</td>\n",
       "      <td>H2020-EU.1.1.</td>\n",
       "      <td>ERC-2019-COG</td>\n",
       "      <td>H2020</td>\n",
       "      <td>A new translational strategy for tailored trea...</td>\n",
       "      <td>2020-10-01</td>\n",
       "      <td>2025-09-30</td>\n",
       "      <td>...</td>\n",
       "      <td>1957230.00</td>\n",
       "      <td>1957230.00</td>\n",
       "      <td>ERC-2019-COG</td>\n",
       "      <td>ERC-COG</td>\n",
       "      <td>GOETEBORGS UNIVERSITET</td>\n",
       "      <td>SE</td>\n",
       "      <td>NaN</td>\n",
       "      <td>NaN</td>\n",
       "      <td>NaN</td>\n",
       "      <td>soil management grid management Waste management</td>\n",
       "    </tr>\n",
       "    <tr>\n",
       "      <td>19</td>\n",
       "      <td>227212</td>\n",
       "      <td>863664</td>\n",
       "      <td>ExpoBiome</td>\n",
       "      <td>SIGNED</td>\n",
       "      <td>H2020-EU.1.1.</td>\n",
       "      <td>ERC-2019-COG</td>\n",
       "      <td>H2020</td>\n",
       "      <td>Deciphering the impact of exposures from the g...</td>\n",
       "      <td>2020-05-01</td>\n",
       "      <td>2025-04-30</td>\n",
       "      <td>...</td>\n",
       "      <td>1998620.00</td>\n",
       "      <td>1998620.00</td>\n",
       "      <td>ERC-2019-COG</td>\n",
       "      <td>ERC-COG</td>\n",
       "      <td>UNIVERSITE DU LUXEMBOURG</td>\n",
       "      <td>LU</td>\n",
       "      <td>NaN</td>\n",
       "      <td>NaN</td>\n",
       "      <td>NaN</td>\n",
       "      <td>CHP CAES</td>\n",
       "    </tr>\n",
       "    <tr>\n",
       "      <td>25</td>\n",
       "      <td>227210</td>\n",
       "      <td>854796</td>\n",
       "      <td>SURE</td>\n",
       "      <td>SIGNED</td>\n",
       "      <td>H2020-EU.1.1.</td>\n",
       "      <td>ERC-2019-SyG</td>\n",
       "      <td>H2020</td>\n",
       "      <td>3-D Super resolution Ultrasound Real time imag...</td>\n",
       "      <td>2020-03-01</td>\n",
       "      <td>2026-02-28</td>\n",
       "      <td>...</td>\n",
       "      <td>9980899.00</td>\n",
       "      <td>9980899.00</td>\n",
       "      <td>ERC-2019-SyG</td>\n",
       "      <td>ERC-SyG</td>\n",
       "      <td>DANMARKS TEKNISKE UNIVERSITET</td>\n",
       "      <td>DK</td>\n",
       "      <td>REGION HOVEDSTADEN;KOBENHAVNS UNIVERSITET</td>\n",
       "      <td>DK</td>\n",
       "      <td>NaN</td>\n",
       "      <td>soil treatment CAES</td>\n",
       "    </tr>\n",
       "    <tr>\n",
       "      <td>27</td>\n",
       "      <td>227218</td>\n",
       "      <td>871869</td>\n",
       "      <td>B-HUB FOR EUROPE</td>\n",
       "      <td>SIGNED</td>\n",
       "      <td>H2020-EU.2.1.1.</td>\n",
       "      <td>ICT-33-2019</td>\n",
       "      <td>H2020</td>\n",
       "      <td>Blockchain HUB FOR EUROPEan startups accelerat...</td>\n",
       "      <td>2020-01-01</td>\n",
       "      <td>2021-12-31</td>\n",
       "      <td>...</td>\n",
       "      <td>1898375.00</td>\n",
       "      <td>1642995.13</td>\n",
       "      <td>H2020-ICT-2019-2</td>\n",
       "      <td>IA</td>\n",
       "      <td>INNOVA SRL</td>\n",
       "      <td>IT</td>\n",
       "      <td>ASOCIATA SPHERIK;SYSTEM@TIC PARIS REGION;VSI S...</td>\n",
       "      <td>RO;FR;LT;DE</td>\n",
       "      <td>NaN</td>\n",
       "      <td>CAES virtual collaboration platform</td>\n",
       "    </tr>\n",
       "    <tr>\n",
       "      <td>30</td>\n",
       "      <td>226886</td>\n",
       "      <td>871518</td>\n",
       "      <td>COLLABS</td>\n",
       "      <td>SIGNED</td>\n",
       "      <td>H2020-EU.2.1.1.</td>\n",
       "      <td>ICT-08-2019</td>\n",
       "      <td>H2020</td>\n",
       "      <td>A COmprehensive cyber-intelligence framework f...</td>\n",
       "      <td>2020-01-01</td>\n",
       "      <td>2022-12-31</td>\n",
       "      <td>...</td>\n",
       "      <td>5999643.75</td>\n",
       "      <td>5999643.75</td>\n",
       "      <td>H2020-ICT-2019-2</td>\n",
       "      <td>RIA</td>\n",
       "      <td>COMMISSARIAT A L ENERGIE ATOMIQUE ET AUX ENERG...</td>\n",
       "      <td>FR</td>\n",
       "      <td>RENAULT SAS;CHAROKOPEIO PANEPISTIMIO;INFORMATI...</td>\n",
       "      <td>FR;EL;RS;DE;NL;IT;CH</td>\n",
       "      <td>NaN</td>\n",
       "      <td>robotics manufacturing System innovation</td>\n",
       "    </tr>\n",
       "    <tr>\n",
       "      <td>32</td>\n",
       "      <td>226246</td>\n",
       "      <td>870245</td>\n",
       "      <td>GEOCEP</td>\n",
       "      <td>SIGNED</td>\n",
       "      <td>H2020-EU.1.3.3.</td>\n",
       "      <td>MSCA-RISE-2019</td>\n",
       "      <td>H2020</td>\n",
       "      <td>Global Excellence in Modeling Climate and Ener...</td>\n",
       "      <td>2020-10-01</td>\n",
       "      <td>2024-09-30</td>\n",
       "      <td>...</td>\n",
       "      <td>3036000.00</td>\n",
       "      <td>2254000.00</td>\n",
       "      <td>H2020-MSCA-RISE-2019</td>\n",
       "      <td>MSCA-RISE</td>\n",
       "      <td>UNIVERZITA KARLOVA</td>\n",
       "      <td>CZ</td>\n",
       "      <td>LONDON SCHOOL OF ECONOMICS AND POLITICAL SCIEN...</td>\n",
       "      <td>UK;CH;IT;FR</td>\n",
       "      <td>NaN</td>\n",
       "      <td>renewable energy efficient energy transmission</td>\n",
       "    </tr>\n",
       "    <tr>\n",
       "      <td>34</td>\n",
       "      <td>226354</td>\n",
       "      <td>885214</td>\n",
       "      <td>XpeFundus</td>\n",
       "      <td>SIGNED</td>\n",
       "      <td>H2020-EU.3.;H2020-EU.2.3.;H2020-EU.2.1.</td>\n",
       "      <td>EIC-SMEInst-2018-2020</td>\n",
       "      <td>H2020</td>\n",
       "      <td>A smart hyperspectral system for early, non-in...</td>\n",
       "      <td>2020-01-01</td>\n",
       "      <td>2020-04-30</td>\n",
       "      <td>...</td>\n",
       "      <td>71429.00</td>\n",
       "      <td>50000.00</td>\n",
       "      <td>H2020-SMEInst-2018-2020-1</td>\n",
       "      <td>SME-1</td>\n",
       "      <td>XPECTRALTEK, LDA</td>\n",
       "      <td>PT</td>\n",
       "      <td>NaN</td>\n",
       "      <td>NaN</td>\n",
       "      <td>NaN</td>\n",
       "      <td>agrosylviculture soil treatment</td>\n",
       "    </tr>\n",
       "  </tbody>\n",
       "</table>\n",
       "<p>10 rows × 22 columns</p>\n",
       "</div>"
      ],
      "text/plain": [
       "       rcn      id           acronym  status  \\\n",
       "2   216332  801338            VES4US  SIGNED   \n",
       "6   225983  875629             NAIMA  SIGNED   \n",
       "9   211662  766466             INDEX  SIGNED   \n",
       "18  227213  866510     TRANSLATIONAL  SIGNED   \n",
       "19  227212  863664         ExpoBiome  SIGNED   \n",
       "25  227210  854796              SURE  SIGNED   \n",
       "27  227218  871869  B-HUB FOR EUROPE  SIGNED   \n",
       "30  226886  871518           COLLABS  SIGNED   \n",
       "32  226246  870245            GEOCEP  SIGNED   \n",
       "34  226354  885214         XpeFundus  SIGNED   \n",
       "\n",
       "                                  programme                 topics  \\\n",
       "2                           H2020-EU.1.2.1.   FETOPEN-01-2016-2017   \n",
       "6           H2020-EU.2.1.3.;H2020-EU.2.1.2.          LC-BAT-2-2019   \n",
       "9                           H2020-EU.1.2.1.   FETOPEN-01-2016-2017   \n",
       "18                            H2020-EU.1.1.           ERC-2019-COG   \n",
       "19                            H2020-EU.1.1.           ERC-2019-COG   \n",
       "25                            H2020-EU.1.1.           ERC-2019-SyG   \n",
       "27                          H2020-EU.2.1.1.            ICT-33-2019   \n",
       "30                          H2020-EU.2.1.1.            ICT-08-2019   \n",
       "32                          H2020-EU.1.3.3.         MSCA-RISE-2019   \n",
       "34  H2020-EU.3.;H2020-EU.2.3.;H2020-EU.2.1.  EIC-SMEInst-2018-2020   \n",
       "\n",
       "   frameworkProgramme                                              title  \\\n",
       "2               H2020  Extracellular vesicles from a natural source f...   \n",
       "6               H2020  NA ION MATERIALS AS ESSENTIAL COMPONENTS TO MA...   \n",
       "9               H2020  Integrated nanoparticle isolation and detectio...   \n",
       "18              H2020  A new translational strategy for tailored trea...   \n",
       "19              H2020  Deciphering the impact of exposures from the g...   \n",
       "25              H2020  3-D Super resolution Ultrasound Real time imag...   \n",
       "27              H2020  Blockchain HUB FOR EUROPEan startups accelerat...   \n",
       "30              H2020  A COmprehensive cyber-intelligence framework f...   \n",
       "32              H2020  Global Excellence in Modeling Climate and Ener...   \n",
       "34              H2020  A smart hyperspectral system for early, non-in...   \n",
       "\n",
       "    startDate    endDate  ...   totalCost ecMaxContribution  \\\n",
       "2  2018-09-01 2021-08-31  ...  2946303.75        2946303.75   \n",
       "6  2019-12-01 2022-11-30  ...  7999897.03        7999897.03   \n",
       "9  2017-10-01 2020-09-30  ...  2983525.00        2982275.00   \n",
       "18 2020-10-01 2025-09-30  ...  1957230.00        1957230.00   \n",
       "19 2020-05-01 2025-04-30  ...  1998620.00        1998620.00   \n",
       "25 2020-03-01 2026-02-28  ...  9980899.00        9980899.00   \n",
       "27 2020-01-01 2021-12-31  ...  1898375.00        1642995.13   \n",
       "30 2020-01-01 2022-12-31  ...  5999643.75        5999643.75   \n",
       "32 2020-10-01 2024-09-30  ...  3036000.00        2254000.00   \n",
       "34 2020-01-01 2020-04-30  ...    71429.00          50000.00   \n",
       "\n",
       "                         call  fundingScheme  \\\n",
       "2   H2020-FETOPEN-1-2016-2017            RIA   \n",
       "6           H2020-LC-BAT-2019            RIA   \n",
       "9   H2020-FETOPEN-1-2016-2017            RIA   \n",
       "18               ERC-2019-COG        ERC-COG   \n",
       "19               ERC-2019-COG        ERC-COG   \n",
       "25               ERC-2019-SyG        ERC-SyG   \n",
       "27           H2020-ICT-2019-2             IA   \n",
       "30           H2020-ICT-2019-2            RIA   \n",
       "32       H2020-MSCA-RISE-2019      MSCA-RISE   \n",
       "34  H2020-SMEInst-2018-2020-1          SME-1   \n",
       "\n",
       "                                          coordinator coordinatorCountry  \\\n",
       "2                  CONSIGLIO NAZIONALE DELLE RICERCHE                 IT   \n",
       "6                                              TIAMAT                 FR   \n",
       "9                  CONSIGLIO NAZIONALE DELLE RICERCHE                 IT   \n",
       "18                             GOETEBORGS UNIVERSITET                 SE   \n",
       "19                           UNIVERSITE DU LUXEMBOURG                 LU   \n",
       "25                      DANMARKS TEKNISKE UNIVERSITET                 DK   \n",
       "27                                         INNOVA SRL                 IT   \n",
       "30  COMMISSARIAT A L ENERGIE ATOMIQUE ET AUX ENERG...                 FR   \n",
       "32                                 UNIVERZITA KARLOVA                 CZ   \n",
       "34                                   XPECTRALTEK, LDA                 PT   \n",
       "\n",
       "                                         participants  \\\n",
       "2   ZABALA INNOVATION CONSULTING, S.A.;INSTITUTE O...   \n",
       "6   BIOKOL SVERIGE AB;VLAAMSE INSTELLING VOOR TECH...   \n",
       "9   FLUIGENT SA;THE TRUSTEES OF BOSTON UNIVERSITY;...   \n",
       "18                                                NaN   \n",
       "19                                                NaN   \n",
       "25          REGION HOVEDSTADEN;KOBENHAVNS UNIVERSITET   \n",
       "27  ASOCIATA SPHERIK;SYSTEM@TIC PARIS REGION;VSI S...   \n",
       "30  RENAULT SAS;CHAROKOPEIO PANEPISTIMIO;INFORMATI...   \n",
       "32  LONDON SCHOOL OF ECONOMICS AND POLITICAL SCIEN...   \n",
       "34                                                NaN   \n",
       "\n",
       "       participantCountries subjects  \\\n",
       "2            ES;IE;CH;DE;SI      NaN   \n",
       "6   SE;BE;BG;ES;FR;NL;DE;SI      NaN   \n",
       "9               FR;US;DK;EE      NaN   \n",
       "18                      NaN      NaN   \n",
       "19                      NaN      NaN   \n",
       "25                       DK      NaN   \n",
       "27              RO;FR;LT;DE      NaN   \n",
       "30     FR;EL;RS;DE;NL;IT;CH      NaN   \n",
       "32              UK;CH;IT;FR      NaN   \n",
       "34                      NaN      NaN   \n",
       "\n",
       "                                            category  \n",
       "2                                           LNG RAPS  \n",
       "6        Other renewable energy sources tidal energy  \n",
       "9                                CHP smelt reduction  \n",
       "18  soil management grid management Waste management  \n",
       "19                                          CHP CAES  \n",
       "25                               soil treatment CAES  \n",
       "27               CAES virtual collaboration platform  \n",
       "30          robotics manufacturing System innovation  \n",
       "32    renewable energy efficient energy transmission  \n",
       "34                   agrosylviculture soil treatment  \n",
       "\n",
       "[10 rows x 22 columns]"
      ]
     },
     "execution_count": 23,
     "metadata": {},
     "output_type": "execute_result"
    }
   ],
   "source": [
    "cordish2020matches2.head(10)"
   ]
  },
  {
   "cell_type": "code",
   "execution_count": 25,
   "metadata": {},
   "outputs": [
    {
     "data": {
      "text/plain": [
       "Index(['rcn', 'id', 'acronym', 'status', 'programme', 'topics',\n",
       "       'frameworkProgramme', 'title', 'startDate', 'endDate', 'projectUrl',\n",
       "       'objective', 'totalCost', 'ecMaxContribution', 'call', 'fundingScheme',\n",
       "       'coordinator', 'coordinatorCountry', 'participants',\n",
       "       'participantCountries', 'subjects', 'category'],\n",
       "      dtype='object')"
      ]
     },
     "execution_count": 25,
     "metadata": {},
     "output_type": "execute_result"
    }
   ],
   "source": [
    "cordish2020matches2.columns"
   ]
  },
  {
   "cell_type": "code",
   "execution_count": 27,
   "metadata": {},
   "outputs": [],
   "source": [
    "cordish2020matches2[['id','acronym','title',\n",
    "                     'objective','startDate',\n",
    "                     'endDate','ecMaxContribution','category']]\\\n",
    "    .to_csv('../data/cleantechtag_probabilistic_results.csv')"
   ]
  },
  {
   "cell_type": "markdown",
   "metadata": {},
   "source": [
    "#### Noun chunks split from project's objective example"
   ]
  },
  {
   "cell_type": "code",
   "execution_count": 28,
   "metadata": {},
   "outputs": [
    {
     "data": {
      "text/plain": [
       "'LASERLAB-EUROPE is the European consortium of major national laser research infrastructures, covering advanced laser science and applications in most domains of research and technology, with particular emphasis on areas with high industrial and social impact, such as bio- and nanophotonics, material analyses, biology and medicine. \\nRecently the field of advanced lasers has experienced remarkable advances and breakthroughs in laser technologies and novel applications. Laser technology is a key innovation driver for highly varied applications and products in many areas of modern society, thereby substantially contributing to economic growth. Through its strategic approach, LASERLAB-EUROPE aims to strengthen Europe’s leading position and competitiveness in this key area. It facilitates the coordination of laser research activities within the European Research Area by integrating major facilities in most European member states with a long-term perspective and providing concerted and efficient services to researchers in science and industry.\\nThe main objectives of LASERLAB-EUROPE are to:\\n•\\tpromote, in a coordinated way and on a European scale, the use of advanced lasers and laser-based technologies for research and innovation, \\n•\\tserve a cross-disciplinary user community, from academia as well as from industry, by providing access to a comprehensive set of advanced key laser research installations,\\n•\\tincrease the European basis of human resources in the field of lasers by training new users, including users in new domains of science and technology and from geographical regions of Europe where laser user communities are still less developed,  \\n•\\timprove human and technical resources through technology exchange and sharing of expertise among laser experts and operators across Europe, and through coordinated Joint Research Activities enabling world-class research, innovations and applications beyond the present state-of-the-art.'"
      ]
     },
     "execution_count": 28,
     "metadata": {},
     "output_type": "execute_result"
    }
   ],
   "source": [
    "cordish2020.loc[14]['objective']"
   ]
  },
  {
   "cell_type": "code",
   "execution_count": 32,
   "metadata": {},
   "outputs": [
    {
     "data": {
      "text/plain": [
       "['Type',\n",
       " '2 diabetes',\n",
       " 'T2D',\n",
       " 'an escalating health problem',\n",
       " 'enormous proportions',\n",
       " 'Current treatment strategies',\n",
       " 'disease progression',\n",
       " 'the devastating complications',\n",
       " 'Clinical guidelines',\n",
       " 'the need',\n",
       " 'personalized treatment',\n",
       " 'trial-and-error fashion',\n",
       " 'We',\n",
       " 'T2D patients',\n",
       " 'four clusters',\n",
       " 'different characteristics',\n",
       " 'a major step',\n",
       " 'the high variability',\n",
       " 'the pathophysiology',\n",
       " 'us']"
      ]
     },
     "execution_count": 32,
     "metadata": {},
     "output_type": "execute_result"
    }
   ],
   "source": [
    "text = cordish2020.loc[18]['objective']\n",
    "doc = nlp(text)\n",
    "docs = list(map(str, doc.noun_chunks))\n",
    "docs[:20]"
   ]
  },
  {
   "cell_type": "code",
   "execution_count": 33,
   "metadata": {},
   "outputs": [
    {
     "name": "stdout",
     "output_type": "stream",
     "text": [
      "['soil management', 'grid management', 'Waste management'] [('management', 80.0), ('management', 80.0), ('management', 77.0)]\n"
     ]
    }
   ],
   "source": [
    "_, best_tech, best_match = find_best_matching_tech(technologies, docs)\n",
    "print(best_tech,best_match)"
   ]
  }
 ],
 "metadata": {
  "kernelspec": {
   "display_name": "Python 3",
   "language": "python",
   "name": "python3"
  },
  "language_info": {
   "codemirror_mode": {
    "name": "ipython",
    "version": 3
   },
   "file_extension": ".py",
   "mimetype": "text/x-python",
   "name": "python",
   "nbconvert_exporter": "python",
   "pygments_lexer": "ipython3",
   "version": "3.7.4"
  },
  "nteract": {
   "version": "0.15.0"
  }
 },
 "nbformat": 4,
 "nbformat_minor": 4
}
