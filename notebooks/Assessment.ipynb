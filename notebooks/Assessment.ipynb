{
 "cells": [
  {
   "cell_type": "code",
   "execution_count": null,
   "metadata": {},
   "outputs": [],
   "source": []
  },
  {
   "cell_type": "markdown",
   "metadata": {},
   "source": [
    "### Overlap and assessment"
   ]
  },
  {
   "cell_type": "code",
   "execution_count": 76,
   "metadata": {},
   "outputs": [],
   "source": [
    "import pandas as pd\n",
    "import numpy as np"
   ]
  },
  {
   "cell_type": "code",
   "execution_count": 3,
   "metadata": {},
   "outputs": [],
   "source": [
    "data_d = pd.read_csv('../data/tech.csv')\n",
    "data_p = pd.read_csv('../data/tech2.csv')"
   ]
  },
  {
   "cell_type": "code",
   "execution_count": 4,
   "metadata": {},
   "outputs": [
    {
     "data": {
      "text/plain": [
       "7530"
      ]
     },
     "execution_count": 4,
     "metadata": {},
     "output_type": "execute_result"
    }
   ],
   "source": [
    "len(data_p)"
   ]
  },
  {
   "cell_type": "code",
   "execution_count": 5,
   "metadata": {},
   "outputs": [
    {
     "data": {
      "text/plain": [
       "2052"
      ]
     },
     "execution_count": 5,
     "metadata": {},
     "output_type": "execute_result"
    }
   ],
   "source": [
    "len(data_d)"
   ]
  },
  {
   "cell_type": "markdown",
   "metadata": {},
   "source": [
    "---"
   ]
  },
  {
   "cell_type": "code",
   "execution_count": 6,
   "metadata": {},
   "outputs": [],
   "source": [
    "data_outer = pd.merge(\n",
    "    data_p,\n",
    "    data_d,\n",
    "    how='outer',\n",
    "    on='id',\n",
    "    suffixes=('_prob', '_det')\n",
    ")"
   ]
  },
  {
   "cell_type": "code",
   "execution_count": 7,
   "metadata": {},
   "outputs": [
    {
     "data": {
      "text/plain": [
       "8048"
      ]
     },
     "execution_count": 7,
     "metadata": {},
     "output_type": "execute_result"
    }
   ],
   "source": [
    "len(data_outer)"
   ]
  },
  {
   "cell_type": "code",
   "execution_count": 44,
   "metadata": {},
   "outputs": [],
   "source": [
    "data_inner = pd.merge(\n",
    "    data_p,\n",
    "    data_d,\n",
    "    how='inner',\n",
    "    on='id',\n",
    "    suffixes=('_prob', '_det')\n",
    ")"
   ]
  },
  {
   "cell_type": "code",
   "execution_count": 45,
   "metadata": {},
   "outputs": [
    {
     "data": {
      "text/plain": [
       "1534"
      ]
     },
     "execution_count": 45,
     "metadata": {},
     "output_type": "execute_result"
    }
   ],
   "source": [
    "len(data_inner)"
   ]
  },
  {
   "cell_type": "markdown",
   "metadata": {},
   "source": [
    "---"
   ]
  },
  {
   "cell_type": "code",
   "execution_count": 25,
   "metadata": {},
   "outputs": [
    {
     "data": {
      "text/plain": [
       "518"
      ]
     },
     "execution_count": 25,
     "metadata": {},
     "output_type": "execute_result"
    }
   ],
   "source": [
    "len(\n",
    "    list(\n",
    "        set(list(data_d.id)) - set(list(data_p.id))))"
   ]
  },
  {
   "cell_type": "code",
   "execution_count": 26,
   "metadata": {},
   "outputs": [
    {
     "data": {
      "text/plain": [
       "5996"
      ]
     },
     "execution_count": 26,
     "metadata": {},
     "output_type": "execute_result"
    }
   ],
   "source": [
    "len(\n",
    "    list(\n",
    "        set(list(data_p.id)) - set(list(data_d.id))))"
   ]
  },
  {
   "cell_type": "markdown",
   "metadata": {},
   "source": [
    "---"
   ]
  },
  {
   "cell_type": "markdown",
   "metadata": {},
   "source": [
    "How does it look the ones that match on deterministic but not probabilistic?  \n",
    "How does it look all the way around?"
   ]
  },
  {
   "cell_type": "code",
   "execution_count": 47,
   "metadata": {},
   "outputs": [
    {
     "data": {
      "text/plain": [
       "Index(['Unnamed: 0_prob', 'id', 'acronym_prob', 'title_prob', 'objective_prob',\n",
       "       'startDate_prob', 'endDate_prob', 'ecMaxContribution_prob',\n",
       "       'matches_group_prob', 'matches_technology_prob', 'count_matches_prob',\n",
       "       'category', 'Unnamed: 0_det', 'acronym_det', 'title_det',\n",
       "       'objective_det', 'startDate_det', 'endDate_det',\n",
       "       'ecMaxContribution_det', 'coordinator', 'coordinatorCountry',\n",
       "       'matches_group_det', 'matches_technology_det', 'number_unique_terms',\n",
       "       'count_matches_det'],\n",
       "      dtype='object')"
      ]
     },
     "execution_count": 47,
     "metadata": {},
     "output_type": "execute_result"
    }
   ],
   "source": [
    "data_inner.columns"
   ]
  },
  {
   "cell_type": "code",
   "execution_count": 61,
   "metadata": {},
   "outputs": [],
   "source": [
    "#data_inner[data_inner['matches_group_det'] != data_inner['matches_group_det']]"
   ]
  },
  {
   "cell_type": "code",
   "execution_count": 69,
   "metadata": {},
   "outputs": [],
   "source": [
    "inner_table = data_inner[['id','category']]"
   ]
  },
  {
   "cell_type": "code",
   "execution_count": 70,
   "metadata": {},
   "outputs": [
    {
     "data": {
      "text/plain": [
       "category\n",
       "Building design nanomaterial                           1\n",
       "heat pump Vehicle design                               1\n",
       "heat pump energy storage                               1\n",
       "heat pump energy tower                                 1\n",
       "heat pump renewable energy                             1\n",
       "heat pump renewable energy Building design             1\n",
       "heat pump smelt reduction                              1\n",
       "inert anode local manufacturing                        1\n",
       "lightweight transport solar cell                       1\n",
       "livestock management Waste management                  1\n",
       "livestock management management of waste               1\n",
       "heat pump Use of innovative materials                  1\n",
       "local manufacturing CAES                               1\n",
       "local manufacturing OTEC                               1\n",
       "local manufacturing Other renewable energy sources     1\n",
       "local manufacturing Resource saving                    1\n",
       "local manufacturing SAPS                               1\n",
       "local manufacturing Waste management                   1\n",
       "local manufacturing afforestation                      1\n",
       "local manufacturing direct casting                     1\n",
       "local manufacturing distributed production             1\n",
       "local manufacturing electric vehicle                   1\n",
       "local manufacturing fuel cell                          1\n",
       "local manufacturing Cleaner product                    1\n",
       "local manufacturing gasification of waste              1\n",
       "heat pump System innovation                            1\n",
       "heat pump PV local manufacturing                       1\n",
       "geothermal energy Building design                      1\n",
       "geothermal energy CAES livestock management            1\n",
       "geothermal energy Energy use innovation                1\n",
       "                                                      ..\n",
       "bioplastic distributed production                      5\n",
       "Fuel distributed production                            5\n",
       "Other renewable energy sources nanomaterial            5\n",
       "biopolymer nanomaterial                                5\n",
       "biofuel Fuel                                           6\n",
       "geothermal energy geothermal power                     6\n",
       "recycling System innovation                            6\n",
       "recycling electric vehicle                             6\n",
       "biorefinery biorefinery design                         6\n",
       "recycling Waste management                             7\n",
       "renewable energy solar cell                            7\n",
       "recycling CAES                                         7\n",
       "recycling bioplastic                                   8\n",
       "energy storage Storage                                 8\n",
       "forest management Waste management                     9\n",
       "Wind renewable energy                                  9\n",
       "photovoltaic solar cell                                9\n",
       "soil management grid management waste management       9\n",
       "data centre data center                               10\n",
       "agrosylviculture agro-sylviculture                    10\n",
       "renewable energy wave energy                          10\n",
       "recycling Cleaner product                             11\n",
       "energy storage energy tower                           11\n",
       "recycling nanomaterial                                12\n",
       "renewable energy energy storage                       14\n",
       "traffic management straw management                   14\n",
       "offshore wind onshore wind                            16\n",
       "renewable energy Other renewable energy sources       28\n",
       "Waste management waste management straw management    35\n",
       "Other renewable energy sources renewable energy       45\n",
       "Name: id, Length: 964, dtype: int64"
      ]
     },
     "execution_count": 70,
     "metadata": {},
     "output_type": "execute_result"
    }
   ],
   "source": [
    "inner_table.groupby('category').count()['id'].sort_values()#.plot()"
   ]
  },
  {
   "cell_type": "code",
   "execution_count": 72,
   "metadata": {},
   "outputs": [
    {
     "data": {
      "text/html": [
       "<div>\n",
       "<style scoped>\n",
       "    .dataframe tbody tr th:only-of-type {\n",
       "        vertical-align: middle;\n",
       "    }\n",
       "\n",
       "    .dataframe tbody tr th {\n",
       "        vertical-align: top;\n",
       "    }\n",
       "\n",
       "    .dataframe thead th {\n",
       "        text-align: right;\n",
       "    }\n",
       "</style>\n",
       "<table border=\"1\" class=\"dataframe\">\n",
       "  <thead>\n",
       "    <tr style=\"text-align: right;\">\n",
       "      <th></th>\n",
       "      <th>id</th>\n",
       "      <th>category</th>\n",
       "    </tr>\n",
       "  </thead>\n",
       "  <tbody>\n",
       "    <tr>\n",
       "      <th>0</th>\n",
       "      <td>835398</td>\n",
       "      <td>reforestation distributed production</td>\n",
       "    </tr>\n",
       "    <tr>\n",
       "      <th>1</th>\n",
       "      <td>835541</td>\n",
       "      <td>forest management Waste management</td>\n",
       "    </tr>\n",
       "    <tr>\n",
       "      <th>2</th>\n",
       "      <td>812602</td>\n",
       "      <td>bioplastic protection of soil</td>\n",
       "    </tr>\n",
       "    <tr>\n",
       "      <th>3</th>\n",
       "      <td>811592</td>\n",
       "      <td>DSM Cleaner product</td>\n",
       "    </tr>\n",
       "    <tr>\n",
       "      <th>4</th>\n",
       "      <td>847641</td>\n",
       "      <td>Waste management waste management nutrient man...</td>\n",
       "    </tr>\n",
       "  </tbody>\n",
       "</table>\n",
       "</div>"
      ],
      "text/plain": [
       "       id                                           category\n",
       "0  835398               reforestation distributed production\n",
       "1  835541                 forest management Waste management\n",
       "2  812602                      bioplastic protection of soil\n",
       "3  811592                                DSM Cleaner product\n",
       "4  847641  Waste management waste management nutrient man..."
      ]
     },
     "execution_count": 72,
     "metadata": {},
     "output_type": "execute_result"
    }
   ],
   "source": [
    "inner_table.head()"
   ]
  },
  {
   "cell_type": "code",
   "execution_count": 88,
   "metadata": {},
   "outputs": [],
   "source": [
    "#random choice\n",
    "sample_list = list(np.random.choice(list(inner_table.id), 91, replace=False))"
   ]
  },
  {
   "cell_type": "code",
   "execution_count": 73,
   "metadata": {},
   "outputs": [],
   "source": [
    "cordish2020 = pd.read_excel('../data/cordis-h2020projects.xlsx')"
   ]
  },
  {
   "cell_type": "code",
   "execution_count": 95,
   "metadata": {},
   "outputs": [],
   "source": [
    "cordish2020[cordish2020.id.isin(sample_list)][['title','objective','coordinator']].to_csv('../data/sample.csv')"
   ]
  },
  {
   "cell_type": "code",
   "execution_count": 296,
   "metadata": {},
   "outputs": [],
   "source": [
    "cordish2020[cordish2020.id.isin(list(inner_table.id))].to_csv('../data/inner_table.csv')"
   ]
  },
  {
   "cell_type": "markdown",
   "metadata": {},
   "source": [
    "---"
   ]
  },
  {
   "cell_type": "markdown",
   "metadata": {},
   "source": [
    "### After assessment"
   ]
  },
  {
   "cell_type": "code",
   "execution_count": 96,
   "metadata": {},
   "outputs": [],
   "source": [
    "sample_lab = pd.read_csv('../data/sample_lab.csv')"
   ]
  },
  {
   "cell_type": "code",
   "execution_count": 102,
   "metadata": {},
   "outputs": [
    {
     "data": {
      "text/plain": [
       "93.4065934065934"
      ]
     },
     "execution_count": 102,
     "metadata": {},
     "output_type": "execute_result"
    }
   ],
   "source": [
    "sample_lab.label.sum()*100/len(sample_lab)"
   ]
  },
  {
   "cell_type": "markdown",
   "metadata": {},
   "source": [
    "---\n",
    "### Demanded technologies"
   ]
  },
  {
   "cell_type": "code",
   "execution_count": 103,
   "metadata": {},
   "outputs": [
    {
     "data": {
      "text/html": [
       "<div>\n",
       "<style scoped>\n",
       "    .dataframe tbody tr th:only-of-type {\n",
       "        vertical-align: middle;\n",
       "    }\n",
       "\n",
       "    .dataframe tbody tr th {\n",
       "        vertical-align: top;\n",
       "    }\n",
       "\n",
       "    .dataframe thead th {\n",
       "        text-align: right;\n",
       "    }\n",
       "</style>\n",
       "<table border=\"1\" class=\"dataframe\">\n",
       "  <thead>\n",
       "    <tr style=\"text-align: right;\">\n",
       "      <th></th>\n",
       "      <th>sector</th>\n",
       "      <th>technology_group</th>\n",
       "      <th>technology</th>\n",
       "      <th>description</th>\n",
       "      <th>technology_term</th>\n",
       "      <th>source</th>\n",
       "      <th>priority</th>\n",
       "    </tr>\n",
       "  </thead>\n",
       "  <tbody>\n",
       "    <tr>\n",
       "      <th>0</th>\n",
       "      <td>Energy</td>\n",
       "      <td>Solar energy sources</td>\n",
       "      <td>solar PV</td>\n",
       "      <td>Also “solar photovoltaic”; technology of using...</td>\n",
       "      <td>photovoltaic, PV, “solar cell”</td>\n",
       "      <td>https://www.ctc-n.org/technologies/solar-pv</td>\n",
       "      <td>1</td>\n",
       "    </tr>\n",
       "    <tr>\n",
       "      <th>1</th>\n",
       "      <td>Energy</td>\n",
       "      <td>Solar energy sources</td>\n",
       "      <td>concentrated solar power (CSP)</td>\n",
       "      <td>Technology of producing electricity by concent...</td>\n",
       "      <td>“concentrated solar power”, CSP, “concentrated...</td>\n",
       "      <td>https://setis.ec.europa.eu/technologies/concen...</td>\n",
       "      <td>1</td>\n",
       "    </tr>\n",
       "    <tr>\n",
       "      <th>2</th>\n",
       "      <td>Energy</td>\n",
       "      <td>Solar energy sources</td>\n",
       "      <td>solar heating</td>\n",
       "      <td>Technology of capturing the sun's radiation an...</td>\n",
       "      <td>“solar heating”</td>\n",
       "      <td>https://www.ctc-n.org/technologies/solar-heating</td>\n",
       "      <td>0</td>\n",
       "    </tr>\n",
       "    <tr>\n",
       "      <th>3</th>\n",
       "      <td>Energy</td>\n",
       "      <td>Solar energy sources</td>\n",
       "      <td>solar dryer</td>\n",
       "      <td>Technology of drying substances, especially fo...</td>\n",
       "      <td>“solar dryer”</td>\n",
       "      <td>https://www.ctc-n.org/technologies/solar-dryer</td>\n",
       "      <td>0</td>\n",
       "    </tr>\n",
       "    <tr>\n",
       "      <th>4</th>\n",
       "      <td>Energy</td>\n",
       "      <td>Solar energy sources</td>\n",
       "      <td>solar water pump</td>\n",
       "      <td>Technology of powering electrical water pumps ...</td>\n",
       "      <td>“solar water pump”</td>\n",
       "      <td>https://www.ctc-n.org/technologies/solar-water...</td>\n",
       "      <td>0</td>\n",
       "    </tr>\n",
       "  </tbody>\n",
       "</table>\n",
       "</div>"
      ],
      "text/plain": [
       "   sector      technology_group                      technology  \\\n",
       "0  Energy  Solar energy sources                        solar PV   \n",
       "1  Energy  Solar energy sources  concentrated solar power (CSP)   \n",
       "2  Energy  Solar energy sources                   solar heating   \n",
       "3  Energy  Solar energy sources                     solar dryer   \n",
       "4  Energy  Solar energy sources                solar water pump   \n",
       "\n",
       "                                         description  \\\n",
       "0  Also “solar photovoltaic”; technology of using...   \n",
       "1  Technology of producing electricity by concent...   \n",
       "2  Technology of capturing the sun's radiation an...   \n",
       "3  Technology of drying substances, especially fo...   \n",
       "4  Technology of powering electrical water pumps ...   \n",
       "\n",
       "                                     technology_term  \\\n",
       "0                    photovoltaic, PV, “solar cell”    \n",
       "1  “concentrated solar power”, CSP, “concentrated...   \n",
       "2                                    “solar heating”   \n",
       "3                                      “solar dryer”   \n",
       "4                                 “solar water pump”   \n",
       "\n",
       "                                              source  priority  \n",
       "0        https://www.ctc-n.org/technologies/solar-pv         1  \n",
       "1  https://setis.ec.europa.eu/technologies/concen...         1  \n",
       "2   https://www.ctc-n.org/technologies/solar-heating         0  \n",
       "3     https://www.ctc-n.org/technologies/solar-dryer         0  \n",
       "4  https://www.ctc-n.org/technologies/solar-water...         0  "
      ]
     },
     "execution_count": 103,
     "metadata": {},
     "output_type": "execute_result"
    }
   ],
   "source": [
    "categories = pd.read_excel('../data/categories.xls')\n",
    "categories = categories.fillna(method='ffill')\n",
    "categories.columns = ['sector','technology_group','technology','description','technology_term','source','priority']\n",
    "categories.head()"
   ]
  },
  {
   "cell_type": "code",
   "execution_count": 106,
   "metadata": {},
   "outputs": [
    {
     "data": {
      "text/plain": [
       "99"
      ]
     },
     "execution_count": 106,
     "metadata": {},
     "output_type": "execute_result"
    }
   ],
   "source": [
    "len(categories.technology)"
   ]
  },
  {
   "cell_type": "code",
   "execution_count": 107,
   "metadata": {},
   "outputs": [
    {
     "data": {
      "text/plain": [
       "42"
      ]
     },
     "execution_count": 107,
     "metadata": {},
     "output_type": "execute_result"
    }
   ],
   "source": [
    "categories.priority.sum()"
   ]
  },
  {
   "cell_type": "code",
   "execution_count": 164,
   "metadata": {},
   "outputs": [
    {
     "data": {
      "text/plain": [
       "42.42424242424242"
      ]
     },
     "execution_count": 164,
     "metadata": {},
     "output_type": "execute_result"
    }
   ],
   "source": [
    "100*categories.priority.sum()/len(categories.technology)"
   ]
  },
  {
   "cell_type": "markdown",
   "metadata": {},
   "source": [
    "---\n",
    "### Supplied technologies"
   ]
  },
  {
   "cell_type": "code",
   "execution_count": 203,
   "metadata": {},
   "outputs": [],
   "source": [
    "technology_table = pd.DataFrame()\n",
    "# unnest the messy matches\n",
    "list_technologies = data_inner['matches_technology_det']\n",
    "number_matches, cleaned_lists = [], []\n",
    "for l in list_technologies:\n",
    "    new_l = l.replace(\"[\",\"\").replace(\"]\",\"\").replace(\" '\",\"\").replace(\"'\",\"\").replace(\"'\",\"\").split(',')\n",
    "    cleaned_lists.append(new_l)\n",
    "    number_matches.append(len(new_l))\n",
    "technology_table['technology_terms'] = [y for x in cleaned_lists for y in x] \n",
    "#len(number_matches) == len(data_inner.id)\n",
    "#create a list with project id that equals the terms\n",
    "ids = [[i]*j for i,j in zip(data_inner.id, number_matches)]   \n",
    "technology_table['id'] =  [y for x in ids for y in x]"
   ]
  },
  {
   "cell_type": "code",
   "execution_count": 204,
   "metadata": {},
   "outputs": [
    {
     "data": {
      "text/html": [
       "<div>\n",
       "<style scoped>\n",
       "    .dataframe tbody tr th:only-of-type {\n",
       "        vertical-align: middle;\n",
       "    }\n",
       "\n",
       "    .dataframe tbody tr th {\n",
       "        vertical-align: top;\n",
       "    }\n",
       "\n",
       "    .dataframe thead th {\n",
       "        text-align: right;\n",
       "    }\n",
       "</style>\n",
       "<table border=\"1\" class=\"dataframe\">\n",
       "  <thead>\n",
       "    <tr style=\"text-align: right;\">\n",
       "      <th></th>\n",
       "      <th>sector</th>\n",
       "      <th>technology_group</th>\n",
       "      <th>technology</th>\n",
       "      <th>description</th>\n",
       "      <th>technology_term</th>\n",
       "      <th>source</th>\n",
       "      <th>priority</th>\n",
       "    </tr>\n",
       "  </thead>\n",
       "  <tbody>\n",
       "    <tr>\n",
       "      <th>0</th>\n",
       "      <td>Energy</td>\n",
       "      <td>Solar energy sources</td>\n",
       "      <td>solar PV</td>\n",
       "      <td>Also “solar photovoltaic”; technology of using...</td>\n",
       "      <td>photovoltaic, PV, “solar cell”</td>\n",
       "      <td>https://www.ctc-n.org/technologies/solar-pv</td>\n",
       "      <td>1</td>\n",
       "    </tr>\n",
       "    <tr>\n",
       "      <th>1</th>\n",
       "      <td>Energy</td>\n",
       "      <td>Solar energy sources</td>\n",
       "      <td>concentrated solar power (CSP)</td>\n",
       "      <td>Technology of producing electricity by concent...</td>\n",
       "      <td>“concentrated solar power”, CSP, “concentrated...</td>\n",
       "      <td>https://setis.ec.europa.eu/technologies/concen...</td>\n",
       "      <td>1</td>\n",
       "    </tr>\n",
       "    <tr>\n",
       "      <th>2</th>\n",
       "      <td>Energy</td>\n",
       "      <td>Solar energy sources</td>\n",
       "      <td>solar heating</td>\n",
       "      <td>Technology of capturing the sun's radiation an...</td>\n",
       "      <td>“solar heating”</td>\n",
       "      <td>https://www.ctc-n.org/technologies/solar-heating</td>\n",
       "      <td>0</td>\n",
       "    </tr>\n",
       "    <tr>\n",
       "      <th>3</th>\n",
       "      <td>Energy</td>\n",
       "      <td>Solar energy sources</td>\n",
       "      <td>solar dryer</td>\n",
       "      <td>Technology of drying substances, especially fo...</td>\n",
       "      <td>“solar dryer”</td>\n",
       "      <td>https://www.ctc-n.org/technologies/solar-dryer</td>\n",
       "      <td>0</td>\n",
       "    </tr>\n",
       "    <tr>\n",
       "      <th>4</th>\n",
       "      <td>Energy</td>\n",
       "      <td>Solar energy sources</td>\n",
       "      <td>solar water pump</td>\n",
       "      <td>Technology of powering electrical water pumps ...</td>\n",
       "      <td>“solar water pump”</td>\n",
       "      <td>https://www.ctc-n.org/technologies/solar-water...</td>\n",
       "      <td>0</td>\n",
       "    </tr>\n",
       "  </tbody>\n",
       "</table>\n",
       "</div>"
      ],
      "text/plain": [
       "   sector      technology_group                      technology  \\\n",
       "0  Energy  Solar energy sources                        solar PV   \n",
       "1  Energy  Solar energy sources  concentrated solar power (CSP)   \n",
       "2  Energy  Solar energy sources                   solar heating   \n",
       "3  Energy  Solar energy sources                     solar dryer   \n",
       "4  Energy  Solar energy sources                solar water pump   \n",
       "\n",
       "                                         description  \\\n",
       "0  Also “solar photovoltaic”; technology of using...   \n",
       "1  Technology of producing electricity by concent...   \n",
       "2  Technology of capturing the sun's radiation an...   \n",
       "3  Technology of drying substances, especially fo...   \n",
       "4  Technology of powering electrical water pumps ...   \n",
       "\n",
       "                                     technology_term  \\\n",
       "0                    photovoltaic, PV, “solar cell”    \n",
       "1  “concentrated solar power”, CSP, “concentrated...   \n",
       "2                                    “solar heating”   \n",
       "3                                      “solar dryer”   \n",
       "4                                 “solar water pump”   \n",
       "\n",
       "                                              source  priority  \n",
       "0        https://www.ctc-n.org/technologies/solar-pv         1  \n",
       "1  https://setis.ec.europa.eu/technologies/concen...         1  \n",
       "2   https://www.ctc-n.org/technologies/solar-heating         0  \n",
       "3     https://www.ctc-n.org/technologies/solar-dryer         0  \n",
       "4  https://www.ctc-n.org/technologies/solar-water...         0  "
      ]
     },
     "execution_count": 204,
     "metadata": {},
     "output_type": "execute_result"
    }
   ],
   "source": [
    "categories.head()"
   ]
  },
  {
   "cell_type": "code",
   "execution_count": 205,
   "metadata": {},
   "outputs": [],
   "source": [
    "matrix = []\n",
    "for term in categories['technology_term']:\n",
    "    row = [x.strip() for x in term.split(',')]\n",
    "    row = [i.replace('“', '').replace('”', '') for i in row]\n",
    "    matrix.append(row)"
   ]
  },
  {
   "cell_type": "code",
   "execution_count": 206,
   "metadata": {},
   "outputs": [],
   "source": [
    "tech_dict = {key: value for (key, value) in zip(categories.technology, matrix)}"
   ]
  },
  {
   "cell_type": "code",
   "execution_count": 208,
   "metadata": {},
   "outputs": [],
   "source": [
    "technology_table['category'] = None"
   ]
  },
  {
   "cell_type": "code",
   "execution_count": 212,
   "metadata": {},
   "outputs": [],
   "source": [
    "for i in technology_table.index:\n",
    "    for k,v in tech_dict.items():\n",
    "        for j in v:\n",
    "            if technology_table.loc[i,'technology_terms'] == j:\n",
    "                technology_table.loc[i, 'category'] = k"
   ]
  },
  {
   "cell_type": "code",
   "execution_count": 235,
   "metadata": {},
   "outputs": [
    {
     "data": {
      "text/html": [
       "<div>\n",
       "<style scoped>\n",
       "    .dataframe tbody tr th:only-of-type {\n",
       "        vertical-align: middle;\n",
       "    }\n",
       "\n",
       "    .dataframe tbody tr th {\n",
       "        vertical-align: top;\n",
       "    }\n",
       "\n",
       "    .dataframe thead th {\n",
       "        text-align: right;\n",
       "    }\n",
       "</style>\n",
       "<table border=\"1\" class=\"dataframe\">\n",
       "  <thead>\n",
       "    <tr style=\"text-align: right;\">\n",
       "      <th></th>\n",
       "      <th>technology_terms</th>\n",
       "      <th>id</th>\n",
       "      <th>category</th>\n",
       "    </tr>\n",
       "  </thead>\n",
       "  <tbody>\n",
       "    <tr>\n",
       "      <th>1405</th>\n",
       "      <td>recycling</td>\n",
       "      <td>633192</td>\n",
       "      <td>recycling</td>\n",
       "    </tr>\n",
       "    <tr>\n",
       "      <th>1404</th>\n",
       "      <td>efficient lighting</td>\n",
       "      <td>633192</td>\n",
       "      <td>low GHG lighting</td>\n",
       "    </tr>\n",
       "    <tr>\n",
       "      <th>845</th>\n",
       "      <td>recycling</td>\n",
       "      <td>633962</td>\n",
       "      <td>recycling</td>\n",
       "    </tr>\n",
       "    <tr>\n",
       "      <th>844</th>\n",
       "      <td>bioplastic</td>\n",
       "      <td>633962</td>\n",
       "      <td>bioplastics</td>\n",
       "    </tr>\n",
       "    <tr>\n",
       "      <th>935</th>\n",
       "      <td>soil management</td>\n",
       "      <td>635201</td>\n",
       "      <td>soil management</td>\n",
       "    </tr>\n",
       "  </tbody>\n",
       "</table>\n",
       "</div>"
      ],
      "text/plain": [
       "        technology_terms      id          category\n",
       "1405           recycling  633192         recycling\n",
       "1404  efficient lighting  633192  low GHG lighting\n",
       "845            recycling  633962         recycling\n",
       "844           bioplastic  633962       bioplastics\n",
       "935      soil management  635201   soil management"
      ]
     },
     "execution_count": 235,
     "metadata": {},
     "output_type": "execute_result"
    }
   ],
   "source": [
    "technology_table.sort_values('id').head() #repeated ids"
   ]
  },
  {
   "cell_type": "code",
   "execution_count": 238,
   "metadata": {},
   "outputs": [
    {
     "data": {
      "text/plain": [
       "category\n",
       "low GHG steel                                      385\n",
       "solar PV                                           302\n",
       "recycling                                          211\n",
       "energy storage                                     190\n",
       "fuel cell                                           79\n",
       "waste management                                    77\n",
       "geothermal                                          70\n",
       "carbon capture and storage                          69\n",
       "concentrated solar power (CSP)                      68\n",
       "grid management                                     67\n",
       "combined heat and power (CHP)                       58\n",
       "electric vehicle design                             43\n",
       "biofuel                                             42\n",
       "district heating and/or cooling                     40\n",
       "traffic management                                  39\n",
       "heat pumps                                          37\n",
       "offshore wind                                       37\n",
       "wave energy                                         29\n",
       "nanomaterial                                        28\n",
       "forest management                                   27\n",
       "biorefinery design                                  25\n",
       "thermal storage                                     25\n",
       "demand-side energy management                       24\n",
       "low GHG data centers                                24\n",
       "tidal energy                                        20\n",
       "biopolymer                                          17\n",
       "bioplastics                                         14\n",
       "micro-grids                                         13\n",
       "liquefied natural gas (LNG)                         12\n",
       "soil management                                     10\n",
       "                                                  ... \n",
       "solar heating                                        8\n",
       "distributed manufacturing                            7\n",
       "combined cycle power plant                           6\n",
       "biochar                                              6\n",
       "osmotic                                              5\n",
       "energy-from-waste                                    5\n",
       "nutrient management                                  5\n",
       "compressed/converted natural gas                     4\n",
       "onshore wind                                         4\n",
       "regenerative braking                                 4\n",
       "ocean thermal energy conversion (OTEC)               4\n",
       "off-grid systems                                     3\n",
       "nuclear fusion                                       3\n",
       "agroforestry                                         3\n",
       "compressed air energy storage (CAES)                 3\n",
       "livestock management                                 3\n",
       "electron acceptor                                    2\n",
       "updraft                                              2\n",
       "non-motorised transport design                       2\n",
       "passive house                                        2\n",
       "reduced need for travel                              1\n",
       "waste heat reuse                                     1\n",
       "inert anode                                          1\n",
       "improved durability                                  1\n",
       "downdraft                                            1\n",
       "nuclear fission                                      1\n",
       "new sources of protein                               1\n",
       "manure management                                    1\n",
       "low GHG public transport / rapid transit design      1\n",
       "direct seeding                                       1\n",
       "Name: id, Length: 63, dtype: int64"
      ]
     },
     "execution_count": 238,
     "metadata": {},
     "output_type": "execute_result"
    }
   ],
   "source": [
    "technology_table.groupby('category').count()['id'].sort_values(ascending=False)"
   ]
  },
  {
   "cell_type": "code",
   "execution_count": 242,
   "metadata": {},
   "outputs": [
    {
     "data": {
      "text/html": [
       "<div>\n",
       "<style scoped>\n",
       "    .dataframe tbody tr th:only-of-type {\n",
       "        vertical-align: middle;\n",
       "    }\n",
       "\n",
       "    .dataframe tbody tr th {\n",
       "        vertical-align: top;\n",
       "    }\n",
       "\n",
       "    .dataframe thead th {\n",
       "        text-align: right;\n",
       "    }\n",
       "</style>\n",
       "<table border=\"1\" class=\"dataframe\">\n",
       "  <thead>\n",
       "    <tr style=\"text-align: right;\">\n",
       "      <th></th>\n",
       "      <th>id</th>\n",
       "      <th>ecMaxContribution</th>\n",
       "    </tr>\n",
       "  </thead>\n",
       "  <tbody>\n",
       "    <tr>\n",
       "      <th>0</th>\n",
       "      <td>837750</td>\n",
       "      <td>19630411.18</td>\n",
       "    </tr>\n",
       "    <tr>\n",
       "      <th>1</th>\n",
       "      <td>818184</td>\n",
       "      <td>6004252.50</td>\n",
       "    </tr>\n",
       "    <tr>\n",
       "      <th>2</th>\n",
       "      <td>815147</td>\n",
       "      <td>4991323.75</td>\n",
       "    </tr>\n",
       "    <tr>\n",
       "      <th>3</th>\n",
       "      <td>817642</td>\n",
       "      <td>5995904.00</td>\n",
       "    </tr>\n",
       "    <tr>\n",
       "      <th>4</th>\n",
       "      <td>825731</td>\n",
       "      <td>4017817.50</td>\n",
       "    </tr>\n",
       "  </tbody>\n",
       "</table>\n",
       "</div>"
      ],
      "text/plain": [
       "       id  ecMaxContribution\n",
       "0  837750        19630411.18\n",
       "1  818184         6004252.50\n",
       "2  815147         4991323.75\n",
       "3  817642         5995904.00\n",
       "4  825731         4017817.50"
      ]
     },
     "execution_count": 242,
     "metadata": {},
     "output_type": "execute_result"
    }
   ],
   "source": [
    "#put the money and the rest of features\n",
    "cordish2020[['id','ecMaxContribution']].head() #'acronym','title','startDate','objective',"
   ]
  },
  {
   "cell_type": "code",
   "execution_count": 262,
   "metadata": {},
   "outputs": [],
   "source": [
    "cost_per_category = pd.merge(technology_table, cordish2020[['id','ecMaxContribution']], how='left', on='id')\n",
    "cost_per_category = cost_per_category.groupby('category').agg(\n",
    "    ['mean','sum'])['ecMaxContribution'].sort_values(['sum','mean'], ascending=False).reset_index()\n",
    "cost_per_category = pd.merge(cost_per_category, \n",
    "                             categories[['sector','technology','priority']], how='left',\n",
    "                             left_on='category', right_on='technology')\n",
    "cost_per_category = cost_per_category[['sector','technology','priority','mean','sum']]"
   ]
  },
  {
   "cell_type": "code",
   "execution_count": 263,
   "metadata": {},
   "outputs": [
    {
     "data": {
      "text/html": [
       "<div>\n",
       "<style scoped>\n",
       "    .dataframe tbody tr th:only-of-type {\n",
       "        vertical-align: middle;\n",
       "    }\n",
       "\n",
       "    .dataframe tbody tr th {\n",
       "        vertical-align: top;\n",
       "    }\n",
       "\n",
       "    .dataframe thead th {\n",
       "        text-align: right;\n",
       "    }\n",
       "</style>\n",
       "<table border=\"1\" class=\"dataframe\">\n",
       "  <thead>\n",
       "    <tr style=\"text-align: right;\">\n",
       "      <th></th>\n",
       "      <th>sector</th>\n",
       "      <th>technology</th>\n",
       "      <th>priority</th>\n",
       "      <th>mean</th>\n",
       "      <th>sum</th>\n",
       "    </tr>\n",
       "  </thead>\n",
       "  <tbody>\n",
       "    <tr>\n",
       "      <th>0</th>\n",
       "      <td>Industry</td>\n",
       "      <td>low GHG steel</td>\n",
       "      <td>0</td>\n",
       "      <td>2.351494e+06</td>\n",
       "      <td>9.053252e+08</td>\n",
       "    </tr>\n",
       "    <tr>\n",
       "      <th>1</th>\n",
       "      <td>Energy</td>\n",
       "      <td>solar PV</td>\n",
       "      <td>1</td>\n",
       "      <td>1.950508e+06</td>\n",
       "      <td>5.890533e+08</td>\n",
       "    </tr>\n",
       "    <tr>\n",
       "      <th>2</th>\n",
       "      <td>Human settlements</td>\n",
       "      <td>recycling</td>\n",
       "      <td>0</td>\n",
       "      <td>2.518069e+06</td>\n",
       "      <td>5.313126e+08</td>\n",
       "    </tr>\n",
       "    <tr>\n",
       "      <th>3</th>\n",
       "      <td>Energy</td>\n",
       "      <td>energy storage</td>\n",
       "      <td>0</td>\n",
       "      <td>2.533548e+06</td>\n",
       "      <td>4.813741e+08</td>\n",
       "    </tr>\n",
       "    <tr>\n",
       "      <th>4</th>\n",
       "      <td>Energy</td>\n",
       "      <td>geothermal</td>\n",
       "      <td>1</td>\n",
       "      <td>4.934920e+06</td>\n",
       "      <td>3.454444e+08</td>\n",
       "    </tr>\n",
       "    <tr>\n",
       "      <th>5</th>\n",
       "      <td>Transport</td>\n",
       "      <td>fuel cell</td>\n",
       "      <td>0</td>\n",
       "      <td>3.971767e+06</td>\n",
       "      <td>3.137696e+08</td>\n",
       "    </tr>\n",
       "    <tr>\n",
       "      <th>6</th>\n",
       "      <td>Energy</td>\n",
       "      <td>grid management</td>\n",
       "      <td>1</td>\n",
       "      <td>4.049332e+06</td>\n",
       "      <td>2.713052e+08</td>\n",
       "    </tr>\n",
       "    <tr>\n",
       "      <th>7</th>\n",
       "      <td>Energy</td>\n",
       "      <td>concentrated solar power (CSP)</td>\n",
       "      <td>1</td>\n",
       "      <td>3.295332e+06</td>\n",
       "      <td>2.240826e+08</td>\n",
       "    </tr>\n",
       "    <tr>\n",
       "      <th>8</th>\n",
       "      <td>Industry</td>\n",
       "      <td>carbon capture and storage</td>\n",
       "      <td>1</td>\n",
       "      <td>3.016954e+06</td>\n",
       "      <td>2.081698e+08</td>\n",
       "    </tr>\n",
       "    <tr>\n",
       "      <th>9</th>\n",
       "      <td>Human settlements</td>\n",
       "      <td>waste management</td>\n",
       "      <td>0</td>\n",
       "      <td>2.354403e+06</td>\n",
       "      <td>1.812890e+08</td>\n",
       "    </tr>\n",
       "  </tbody>\n",
       "</table>\n",
       "</div>"
      ],
      "text/plain": [
       "              sector                      technology  priority          mean  \\\n",
       "0           Industry                   low GHG steel         0  2.351494e+06   \n",
       "1             Energy                        solar PV         1  1.950508e+06   \n",
       "2  Human settlements                       recycling         0  2.518069e+06   \n",
       "3             Energy                  energy storage         0  2.533548e+06   \n",
       "4             Energy                      geothermal         1  4.934920e+06   \n",
       "5          Transport                       fuel cell         0  3.971767e+06   \n",
       "6             Energy                 grid management         1  4.049332e+06   \n",
       "7             Energy  concentrated solar power (CSP)         1  3.295332e+06   \n",
       "8           Industry      carbon capture and storage         1  3.016954e+06   \n",
       "9  Human settlements                waste management         0  2.354403e+06   \n",
       "\n",
       "            sum  \n",
       "0  9.053252e+08  \n",
       "1  5.890533e+08  \n",
       "2  5.313126e+08  \n",
       "3  4.813741e+08  \n",
       "4  3.454444e+08  \n",
       "5  3.137696e+08  \n",
       "6  2.713052e+08  \n",
       "7  2.240826e+08  \n",
       "8  2.081698e+08  \n",
       "9  1.812890e+08  "
      ]
     },
     "execution_count": 263,
     "metadata": {},
     "output_type": "execute_result"
    }
   ],
   "source": [
    "cost_per_category.head(10)"
   ]
  },
  {
   "cell_type": "code",
   "execution_count": 285,
   "metadata": {},
   "outputs": [],
   "source": [
    "def grouping(cost_per_category, category, agg):\n",
    "    agg_df = cost_per_category.groupby(category).sum()[str(agg)].reset_index()\n",
    "    agg_df['percentage'] = agg_df[str(agg)]*100/agg_df[str(agg)].sum()\n",
    "    agg_df = agg_df.sort_values('percentage', ascending=False)\n",
    "    return agg_df "
   ]
  },
  {
   "cell_type": "code",
   "execution_count": 286,
   "metadata": {},
   "outputs": [],
   "source": [
    "tech_sum = grouping(cost_per_category, ['priority','technology'], 'sum') \n",
    "sector_sum = grouping(cost_per_category, 'sector', 'sum') \n",
    "priority_sum = grouping(cost_per_category, 'priority', 'sum') "
   ]
  },
  {
   "cell_type": "code",
   "execution_count": 288,
   "metadata": {},
   "outputs": [
    {
     "data": {
      "text/html": [
       "<div>\n",
       "<style scoped>\n",
       "    .dataframe tbody tr th:only-of-type {\n",
       "        vertical-align: middle;\n",
       "    }\n",
       "\n",
       "    .dataframe tbody tr th {\n",
       "        vertical-align: top;\n",
       "    }\n",
       "\n",
       "    .dataframe thead th {\n",
       "        text-align: right;\n",
       "    }\n",
       "</style>\n",
       "<table border=\"1\" class=\"dataframe\">\n",
       "  <thead>\n",
       "    <tr style=\"text-align: right;\">\n",
       "      <th></th>\n",
       "      <th>priority</th>\n",
       "      <th>technology</th>\n",
       "      <th>sum</th>\n",
       "      <th>percentage</th>\n",
       "    </tr>\n",
       "  </thead>\n",
       "  <tbody>\n",
       "    <tr>\n",
       "      <th>13</th>\n",
       "      <td>0</td>\n",
       "      <td>low GHG steel</td>\n",
       "      <td>9.053252e+08</td>\n",
       "      <td>14.872799</td>\n",
       "    </tr>\n",
       "    <tr>\n",
       "      <th>57</th>\n",
       "      <td>1</td>\n",
       "      <td>solar PV</td>\n",
       "      <td>5.890533e+08</td>\n",
       "      <td>9.677044</td>\n",
       "    </tr>\n",
       "    <tr>\n",
       "      <th>23</th>\n",
       "      <td>0</td>\n",
       "      <td>recycling</td>\n",
       "      <td>5.313126e+08</td>\n",
       "      <td>8.728472</td>\n",
       "    </tr>\n",
       "    <tr>\n",
       "      <th>6</th>\n",
       "      <td>0</td>\n",
       "      <td>energy storage</td>\n",
       "      <td>4.813741e+08</td>\n",
       "      <td>7.908076</td>\n",
       "    </tr>\n",
       "    <tr>\n",
       "      <th>45</th>\n",
       "      <td>1</td>\n",
       "      <td>geothermal</td>\n",
       "      <td>3.454444e+08</td>\n",
       "      <td>5.675005</td>\n",
       "    </tr>\n",
       "    <tr>\n",
       "      <th>7</th>\n",
       "      <td>0</td>\n",
       "      <td>fuel cell</td>\n",
       "      <td>3.137696e+08</td>\n",
       "      <td>5.154647</td>\n",
       "    </tr>\n",
       "    <tr>\n",
       "      <th>46</th>\n",
       "      <td>1</td>\n",
       "      <td>grid management</td>\n",
       "      <td>2.713052e+08</td>\n",
       "      <td>4.457037</td>\n",
       "    </tr>\n",
       "    <tr>\n",
       "      <th>37</th>\n",
       "      <td>1</td>\n",
       "      <td>concentrated solar power (CSP)</td>\n",
       "      <td>2.240826e+08</td>\n",
       "      <td>3.681257</td>\n",
       "    </tr>\n",
       "    <tr>\n",
       "      <th>35</th>\n",
       "      <td>1</td>\n",
       "      <td>carbon capture and storage</td>\n",
       "      <td>2.081698e+08</td>\n",
       "      <td>3.419841</td>\n",
       "    </tr>\n",
       "    <tr>\n",
       "      <th>28</th>\n",
       "      <td>0</td>\n",
       "      <td>waste management</td>\n",
       "      <td>1.812890e+08</td>\n",
       "      <td>2.978240</td>\n",
       "    </tr>\n",
       "    <tr>\n",
       "      <th>41</th>\n",
       "      <td>1</td>\n",
       "      <td>district heating and/or cooling</td>\n",
       "      <td>1.796751e+08</td>\n",
       "      <td>2.951725</td>\n",
       "    </tr>\n",
       "    <tr>\n",
       "      <th>60</th>\n",
       "      <td>1</td>\n",
       "      <td>traffic management</td>\n",
       "      <td>1.739252e+08</td>\n",
       "      <td>2.857266</td>\n",
       "    </tr>\n",
       "    <tr>\n",
       "      <th>36</th>\n",
       "      <td>1</td>\n",
       "      <td>combined heat and power (CHP)</td>\n",
       "      <td>1.710958e+08</td>\n",
       "      <td>2.810784</td>\n",
       "    </tr>\n",
       "    <tr>\n",
       "      <th>34</th>\n",
       "      <td>1</td>\n",
       "      <td>biorefinery design</td>\n",
       "      <td>1.488818e+08</td>\n",
       "      <td>2.445850</td>\n",
       "    </tr>\n",
       "    <tr>\n",
       "      <th>55</th>\n",
       "      <td>1</td>\n",
       "      <td>offshore wind</td>\n",
       "      <td>1.397011e+08</td>\n",
       "      <td>2.295027</td>\n",
       "    </tr>\n",
       "    <tr>\n",
       "      <th>58</th>\n",
       "      <td>1</td>\n",
       "      <td>thermal storage</td>\n",
       "      <td>1.042644e+08</td>\n",
       "      <td>1.712869</td>\n",
       "    </tr>\n",
       "    <tr>\n",
       "      <th>47</th>\n",
       "      <td>1</td>\n",
       "      <td>heat pumps</td>\n",
       "      <td>1.022275e+08</td>\n",
       "      <td>1.679406</td>\n",
       "    </tr>\n",
       "    <tr>\n",
       "      <th>31</th>\n",
       "      <td>1</td>\n",
       "      <td>biofuel</td>\n",
       "      <td>1.016568e+08</td>\n",
       "      <td>1.670030</td>\n",
       "    </tr>\n",
       "    <tr>\n",
       "      <th>38</th>\n",
       "      <td>1</td>\n",
       "      <td>demand-side energy management</td>\n",
       "      <td>8.734684e+07</td>\n",
       "      <td>1.434945</td>\n",
       "    </tr>\n",
       "    <tr>\n",
       "      <th>59</th>\n",
       "      <td>1</td>\n",
       "      <td>tidal energy</td>\n",
       "      <td>8.708085e+07</td>\n",
       "      <td>1.430575</td>\n",
       "    </tr>\n",
       "    <tr>\n",
       "      <th>42</th>\n",
       "      <td>1</td>\n",
       "      <td>electric vehicle design</td>\n",
       "      <td>8.568994e+07</td>\n",
       "      <td>1.407725</td>\n",
       "    </tr>\n",
       "    <tr>\n",
       "      <th>15</th>\n",
       "      <td>0</td>\n",
       "      <td>nanomaterial</td>\n",
       "      <td>6.605166e+07</td>\n",
       "      <td>1.085105</td>\n",
       "    </tr>\n",
       "    <tr>\n",
       "      <th>62</th>\n",
       "      <td>1</td>\n",
       "      <td>wave energy</td>\n",
       "      <td>5.983902e+07</td>\n",
       "      <td>0.983043</td>\n",
       "    </tr>\n",
       "    <tr>\n",
       "      <th>10</th>\n",
       "      <td>0</td>\n",
       "      <td>low GHG data centers</td>\n",
       "      <td>5.005764e+07</td>\n",
       "      <td>0.822353</td>\n",
       "    </tr>\n",
       "    <tr>\n",
       "      <th>14</th>\n",
       "      <td>0</td>\n",
       "      <td>micro-grids</td>\n",
       "      <td>4.002983e+07</td>\n",
       "      <td>0.657615</td>\n",
       "    </tr>\n",
       "    <tr>\n",
       "      <th>0</th>\n",
       "      <td>0</td>\n",
       "      <td>biochar</td>\n",
       "      <td>3.684225e+07</td>\n",
       "      <td>0.605249</td>\n",
       "    </tr>\n",
       "    <tr>\n",
       "      <th>44</th>\n",
       "      <td>1</td>\n",
       "      <td>forest management</td>\n",
       "      <td>3.622698e+07</td>\n",
       "      <td>0.595141</td>\n",
       "    </tr>\n",
       "    <tr>\n",
       "      <th>40</th>\n",
       "      <td>1</td>\n",
       "      <td>distributed manufacturing</td>\n",
       "      <td>3.371201e+07</td>\n",
       "      <td>0.553825</td>\n",
       "    </tr>\n",
       "    <tr>\n",
       "      <th>49</th>\n",
       "      <td>1</td>\n",
       "      <td>liquefied natural gas (LNG)</td>\n",
       "      <td>2.576755e+07</td>\n",
       "      <td>0.423313</td>\n",
       "    </tr>\n",
       "    <tr>\n",
       "      <th>8</th>\n",
       "      <td>0</td>\n",
       "      <td>gas turbine</td>\n",
       "      <td>2.552590e+07</td>\n",
       "      <td>0.419343</td>\n",
       "    </tr>\n",
       "    <tr>\n",
       "      <th>...</th>\n",
       "      <td>...</td>\n",
       "      <td>...</td>\n",
       "      <td>...</td>\n",
       "      <td>...</td>\n",
       "    </tr>\n",
       "    <tr>\n",
       "      <th>11</th>\n",
       "      <td>0</td>\n",
       "      <td>low GHG lighting</td>\n",
       "      <td>2.268657e+07</td>\n",
       "      <td>0.372698</td>\n",
       "    </tr>\n",
       "    <tr>\n",
       "      <th>1</th>\n",
       "      <td>0</td>\n",
       "      <td>combined cycle power plant</td>\n",
       "      <td>2.117825e+07</td>\n",
       "      <td>0.347919</td>\n",
       "    </tr>\n",
       "    <tr>\n",
       "      <th>21</th>\n",
       "      <td>0</td>\n",
       "      <td>osmotic</td>\n",
       "      <td>2.104861e+07</td>\n",
       "      <td>0.345789</td>\n",
       "    </tr>\n",
       "    <tr>\n",
       "      <th>54</th>\n",
       "      <td>1</td>\n",
       "      <td>nutrient management</td>\n",
       "      <td>2.047841e+07</td>\n",
       "      <td>0.336422</td>\n",
       "    </tr>\n",
       "    <tr>\n",
       "      <th>26</th>\n",
       "      <td>0</td>\n",
       "      <td>solar heating</td>\n",
       "      <td>1.541945e+07</td>\n",
       "      <td>0.253313</td>\n",
       "    </tr>\n",
       "    <tr>\n",
       "      <th>18</th>\n",
       "      <td>0</td>\n",
       "      <td>ocean thermal energy conversion (OTEC)</td>\n",
       "      <td>1.103012e+07</td>\n",
       "      <td>0.181204</td>\n",
       "    </tr>\n",
       "    <tr>\n",
       "      <th>27</th>\n",
       "      <td>0</td>\n",
       "      <td>updraft</td>\n",
       "      <td>1.097947e+07</td>\n",
       "      <td>0.180372</td>\n",
       "    </tr>\n",
       "    <tr>\n",
       "      <th>43</th>\n",
       "      <td>1</td>\n",
       "      <td>energy-from-waste</td>\n",
       "      <td>9.231716e+06</td>\n",
       "      <td>0.151660</td>\n",
       "    </tr>\n",
       "    <tr>\n",
       "      <th>2</th>\n",
       "      <td>0</td>\n",
       "      <td>compressed air energy storage (CAES)</td>\n",
       "      <td>9.101826e+06</td>\n",
       "      <td>0.149526</td>\n",
       "    </tr>\n",
       "    <tr>\n",
       "      <th>25</th>\n",
       "      <td>0</td>\n",
       "      <td>regenerative braking</td>\n",
       "      <td>8.978962e+06</td>\n",
       "      <td>0.147508</td>\n",
       "    </tr>\n",
       "    <tr>\n",
       "      <th>50</th>\n",
       "      <td>1</td>\n",
       "      <td>livestock management</td>\n",
       "      <td>8.962547e+06</td>\n",
       "      <td>0.147238</td>\n",
       "    </tr>\n",
       "    <tr>\n",
       "      <th>12</th>\n",
       "      <td>0</td>\n",
       "      <td>low GHG public transport / rapid transit design</td>\n",
       "      <td>7.996591e+06</td>\n",
       "      <td>0.131369</td>\n",
       "    </tr>\n",
       "    <tr>\n",
       "      <th>30</th>\n",
       "      <td>1</td>\n",
       "      <td>agroforestry</td>\n",
       "      <td>6.371010e+06</td>\n",
       "      <td>0.104664</td>\n",
       "    </tr>\n",
       "    <tr>\n",
       "      <th>48</th>\n",
       "      <td>1</td>\n",
       "      <td>inert anode</td>\n",
       "      <td>5.232146e+06</td>\n",
       "      <td>0.085954</td>\n",
       "    </tr>\n",
       "    <tr>\n",
       "      <th>29</th>\n",
       "      <td>1</td>\n",
       "      <td>afforestation</td>\n",
       "      <td>5.114686e+06</td>\n",
       "      <td>0.084025</td>\n",
       "    </tr>\n",
       "    <tr>\n",
       "      <th>53</th>\n",
       "      <td>1</td>\n",
       "      <td>nuclear fusion</td>\n",
       "      <td>3.960661e+06</td>\n",
       "      <td>0.065066</td>\n",
       "    </tr>\n",
       "    <tr>\n",
       "      <th>17</th>\n",
       "      <td>0</td>\n",
       "      <td>non-motorised transport design</td>\n",
       "      <td>3.831696e+06</td>\n",
       "      <td>0.062948</td>\n",
       "    </tr>\n",
       "    <tr>\n",
       "      <th>22</th>\n",
       "      <td>0</td>\n",
       "      <td>passive house</td>\n",
       "      <td>3.770893e+06</td>\n",
       "      <td>0.061949</td>\n",
       "    </tr>\n",
       "    <tr>\n",
       "      <th>19</th>\n",
       "      <td>0</td>\n",
       "      <td>off-grid systems</td>\n",
       "      <td>2.843348e+06</td>\n",
       "      <td>0.046711</td>\n",
       "    </tr>\n",
       "    <tr>\n",
       "      <th>61</th>\n",
       "      <td>1</td>\n",
       "      <td>waste heat reuse</td>\n",
       "      <td>2.299104e+06</td>\n",
       "      <td>0.037770</td>\n",
       "    </tr>\n",
       "    <tr>\n",
       "      <th>16</th>\n",
       "      <td>0</td>\n",
       "      <td>new sources of protein</td>\n",
       "      <td>2.005463e+06</td>\n",
       "      <td>0.032946</td>\n",
       "    </tr>\n",
       "    <tr>\n",
       "      <th>3</th>\n",
       "      <td>0</td>\n",
       "      <td>compressed/converted natural gas</td>\n",
       "      <td>1.886744e+06</td>\n",
       "      <td>0.030996</td>\n",
       "    </tr>\n",
       "    <tr>\n",
       "      <th>24</th>\n",
       "      <td>0</td>\n",
       "      <td>reduced need for travel</td>\n",
       "      <td>1.217982e+06</td>\n",
       "      <td>0.020009</td>\n",
       "    </tr>\n",
       "    <tr>\n",
       "      <th>52</th>\n",
       "      <td>1</td>\n",
       "      <td>nuclear fission</td>\n",
       "      <td>5.000000e+05</td>\n",
       "      <td>0.008214</td>\n",
       "    </tr>\n",
       "    <tr>\n",
       "      <th>5</th>\n",
       "      <td>0</td>\n",
       "      <td>electron acceptor</td>\n",
       "      <td>4.111080e+05</td>\n",
       "      <td>0.006754</td>\n",
       "    </tr>\n",
       "    <tr>\n",
       "      <th>20</th>\n",
       "      <td>0</td>\n",
       "      <td>onshore wind</td>\n",
       "      <td>2.000000e+05</td>\n",
       "      <td>0.003286</td>\n",
       "    </tr>\n",
       "    <tr>\n",
       "      <th>4</th>\n",
       "      <td>0</td>\n",
       "      <td>downdraft</td>\n",
       "      <td>5.000000e+04</td>\n",
       "      <td>0.000821</td>\n",
       "    </tr>\n",
       "    <tr>\n",
       "      <th>51</th>\n",
       "      <td>1</td>\n",
       "      <td>manure management</td>\n",
       "      <td>5.000000e+04</td>\n",
       "      <td>0.000821</td>\n",
       "    </tr>\n",
       "    <tr>\n",
       "      <th>9</th>\n",
       "      <td>0</td>\n",
       "      <td>improved durability</td>\n",
       "      <td>5.000000e+04</td>\n",
       "      <td>0.000821</td>\n",
       "    </tr>\n",
       "    <tr>\n",
       "      <th>39</th>\n",
       "      <td>1</td>\n",
       "      <td>direct seeding</td>\n",
       "      <td>5.000000e+04</td>\n",
       "      <td>0.000821</td>\n",
       "    </tr>\n",
       "  </tbody>\n",
       "</table>\n",
       "<p>63 rows × 4 columns</p>\n",
       "</div>"
      ],
      "text/plain": [
       "    priority                                       technology           sum  \\\n",
       "13         0                                    low GHG steel  9.053252e+08   \n",
       "57         1                                         solar PV  5.890533e+08   \n",
       "23         0                                        recycling  5.313126e+08   \n",
       "6          0                                   energy storage  4.813741e+08   \n",
       "45         1                                       geothermal  3.454444e+08   \n",
       "7          0                                        fuel cell  3.137696e+08   \n",
       "46         1                                  grid management  2.713052e+08   \n",
       "37         1                   concentrated solar power (CSP)  2.240826e+08   \n",
       "35         1                       carbon capture and storage  2.081698e+08   \n",
       "28         0                                 waste management  1.812890e+08   \n",
       "41         1                  district heating and/or cooling  1.796751e+08   \n",
       "60         1                               traffic management  1.739252e+08   \n",
       "36         1                    combined heat and power (CHP)  1.710958e+08   \n",
       "34         1                               biorefinery design  1.488818e+08   \n",
       "55         1                                    offshore wind  1.397011e+08   \n",
       "58         1                                  thermal storage  1.042644e+08   \n",
       "47         1                                       heat pumps  1.022275e+08   \n",
       "31         1                                          biofuel  1.016568e+08   \n",
       "38         1                    demand-side energy management  8.734684e+07   \n",
       "59         1                                     tidal energy  8.708085e+07   \n",
       "42         1                          electric vehicle design  8.568994e+07   \n",
       "15         0                                     nanomaterial  6.605166e+07   \n",
       "62         1                                      wave energy  5.983902e+07   \n",
       "10         0                             low GHG data centers  5.005764e+07   \n",
       "14         0                                      micro-grids  4.002983e+07   \n",
       "0          0                                          biochar  3.684225e+07   \n",
       "44         1                                forest management  3.622698e+07   \n",
       "40         1                        distributed manufacturing  3.371201e+07   \n",
       "49         1                      liquefied natural gas (LNG)  2.576755e+07   \n",
       "8          0                                      gas turbine  2.552590e+07   \n",
       "..       ...                                              ...           ...   \n",
       "11         0                                 low GHG lighting  2.268657e+07   \n",
       "1          0                       combined cycle power plant  2.117825e+07   \n",
       "21         0                                          osmotic  2.104861e+07   \n",
       "54         1                              nutrient management  2.047841e+07   \n",
       "26         0                                    solar heating  1.541945e+07   \n",
       "18         0           ocean thermal energy conversion (OTEC)  1.103012e+07   \n",
       "27         0                                          updraft  1.097947e+07   \n",
       "43         1                                energy-from-waste  9.231716e+06   \n",
       "2          0             compressed air energy storage (CAES)  9.101826e+06   \n",
       "25         0                             regenerative braking  8.978962e+06   \n",
       "50         1                             livestock management  8.962547e+06   \n",
       "12         0  low GHG public transport / rapid transit design  7.996591e+06   \n",
       "30         1                                     agroforestry  6.371010e+06   \n",
       "48         1                                      inert anode  5.232146e+06   \n",
       "29         1                                    afforestation  5.114686e+06   \n",
       "53         1                                   nuclear fusion  3.960661e+06   \n",
       "17         0                   non-motorised transport design  3.831696e+06   \n",
       "22         0                                    passive house  3.770893e+06   \n",
       "19         0                                 off-grid systems  2.843348e+06   \n",
       "61         1                                 waste heat reuse  2.299104e+06   \n",
       "16         0                           new sources of protein  2.005463e+06   \n",
       "3          0                 compressed/converted natural gas  1.886744e+06   \n",
       "24         0                          reduced need for travel  1.217982e+06   \n",
       "52         1                                  nuclear fission  5.000000e+05   \n",
       "5          0                                electron acceptor  4.111080e+05   \n",
       "20         0                                     onshore wind  2.000000e+05   \n",
       "4          0                                        downdraft  5.000000e+04   \n",
       "51         1                                manure management  5.000000e+04   \n",
       "9          0                              improved durability  5.000000e+04   \n",
       "39         1                                   direct seeding  5.000000e+04   \n",
       "\n",
       "    percentage  \n",
       "13   14.872799  \n",
       "57    9.677044  \n",
       "23    8.728472  \n",
       "6     7.908076  \n",
       "45    5.675005  \n",
       "7     5.154647  \n",
       "46    4.457037  \n",
       "37    3.681257  \n",
       "35    3.419841  \n",
       "28    2.978240  \n",
       "41    2.951725  \n",
       "60    2.857266  \n",
       "36    2.810784  \n",
       "34    2.445850  \n",
       "55    2.295027  \n",
       "58    1.712869  \n",
       "47    1.679406  \n",
       "31    1.670030  \n",
       "38    1.434945  \n",
       "59    1.430575  \n",
       "42    1.407725  \n",
       "15    1.085105  \n",
       "62    0.983043  \n",
       "10    0.822353  \n",
       "14    0.657615  \n",
       "0     0.605249  \n",
       "44    0.595141  \n",
       "40    0.553825  \n",
       "49    0.423313  \n",
       "8     0.419343  \n",
       "..         ...  \n",
       "11    0.372698  \n",
       "1     0.347919  \n",
       "21    0.345789  \n",
       "54    0.336422  \n",
       "26    0.253313  \n",
       "18    0.181204  \n",
       "27    0.180372  \n",
       "43    0.151660  \n",
       "2     0.149526  \n",
       "25    0.147508  \n",
       "50    0.147238  \n",
       "12    0.131369  \n",
       "30    0.104664  \n",
       "48    0.085954  \n",
       "29    0.084025  \n",
       "53    0.065066  \n",
       "17    0.062948  \n",
       "22    0.061949  \n",
       "19    0.046711  \n",
       "61    0.037770  \n",
       "16    0.032946  \n",
       "3     0.030996  \n",
       "24    0.020009  \n",
       "52    0.008214  \n",
       "5     0.006754  \n",
       "20    0.003286  \n",
       "4     0.000821  \n",
       "51    0.000821  \n",
       "9     0.000821  \n",
       "39    0.000821  \n",
       "\n",
       "[63 rows x 4 columns]"
      ]
     },
     "execution_count": 288,
     "metadata": {},
     "output_type": "execute_result"
    }
   ],
   "source": [
    "tech_sum#.head()"
   ]
  },
  {
   "cell_type": "code",
   "execution_count": 283,
   "metadata": {},
   "outputs": [
    {
     "data": {
      "text/html": [
       "<div>\n",
       "<style scoped>\n",
       "    .dataframe tbody tr th:only-of-type {\n",
       "        vertical-align: middle;\n",
       "    }\n",
       "\n",
       "    .dataframe tbody tr th {\n",
       "        vertical-align: top;\n",
       "    }\n",
       "\n",
       "    .dataframe thead th {\n",
       "        text-align: right;\n",
       "    }\n",
       "</style>\n",
       "<table border=\"1\" class=\"dataframe\">\n",
       "  <thead>\n",
       "    <tr style=\"text-align: right;\">\n",
       "      <th></th>\n",
       "      <th>sector</th>\n",
       "      <th>sum</th>\n",
       "      <th>percentage</th>\n",
       "    </tr>\n",
       "  </thead>\n",
       "  <tbody>\n",
       "    <tr>\n",
       "      <th>2</th>\n",
       "      <td>Energy</td>\n",
       "      <td>2.395613e+09</td>\n",
       "      <td>39.355445</td>\n",
       "    </tr>\n",
       "    <tr>\n",
       "      <th>4</th>\n",
       "      <td>Industry</td>\n",
       "      <td>1.502810e+09</td>\n",
       "      <td>24.688351</td>\n",
       "    </tr>\n",
       "    <tr>\n",
       "      <th>3</th>\n",
       "      <td>Human settlements</td>\n",
       "      <td>1.037377e+09</td>\n",
       "      <td>17.042169</td>\n",
       "    </tr>\n",
       "    <tr>\n",
       "      <th>5</th>\n",
       "      <td>Transport</td>\n",
       "      <td>7.247211e+08</td>\n",
       "      <td>11.905811</td>\n",
       "    </tr>\n",
       "    <tr>\n",
       "      <th>1</th>\n",
       "      <td>Buildings</td>\n",
       "      <td>2.849001e+08</td>\n",
       "      <td>4.680376</td>\n",
       "    </tr>\n",
       "  </tbody>\n",
       "</table>\n",
       "</div>"
      ],
      "text/plain": [
       "              sector           sum  percentage\n",
       "2             Energy  2.395613e+09   39.355445\n",
       "4           Industry  1.502810e+09   24.688351\n",
       "3  Human settlements  1.037377e+09   17.042169\n",
       "5          Transport  7.247211e+08   11.905811\n",
       "1          Buildings  2.849001e+08    4.680376"
      ]
     },
     "execution_count": 283,
     "metadata": {},
     "output_type": "execute_result"
    }
   ],
   "source": [
    "sector_sum.head()"
   ]
  },
  {
   "cell_type": "code",
   "execution_count": 284,
   "metadata": {},
   "outputs": [
    {
     "data": {
      "text/html": [
       "<div>\n",
       "<style scoped>\n",
       "    .dataframe tbody tr th:only-of-type {\n",
       "        vertical-align: middle;\n",
       "    }\n",
       "\n",
       "    .dataframe tbody tr th {\n",
       "        vertical-align: top;\n",
       "    }\n",
       "\n",
       "    .dataframe thead th {\n",
       "        text-align: right;\n",
       "    }\n",
       "</style>\n",
       "<table border=\"1\" class=\"dataframe\">\n",
       "  <thead>\n",
       "    <tr style=\"text-align: right;\">\n",
       "      <th></th>\n",
       "      <th>priority</th>\n",
       "      <th>sum</th>\n",
       "      <th>percentage</th>\n",
       "    </tr>\n",
       "  </thead>\n",
       "  <tbody>\n",
       "    <tr>\n",
       "      <th>1</th>\n",
       "      <td>1</td>\n",
       "      <td>3.310856e+09</td>\n",
       "      <td>54.391162</td>\n",
       "    </tr>\n",
       "    <tr>\n",
       "      <th>0</th>\n",
       "      <td>0</td>\n",
       "      <td>2.776265e+09</td>\n",
       "      <td>45.608838</td>\n",
       "    </tr>\n",
       "  </tbody>\n",
       "</table>\n",
       "</div>"
      ],
      "text/plain": [
       "   priority           sum  percentage\n",
       "1         1  3.310856e+09   54.391162\n",
       "0         0  2.776265e+09   45.608838"
      ]
     },
     "execution_count": 284,
     "metadata": {},
     "output_type": "execute_result"
    }
   ],
   "source": [
    "priority_sum.head()"
   ]
  },
  {
   "cell_type": "code",
   "execution_count": 251,
   "metadata": {},
   "outputs": [
    {
     "data": {
      "text/html": [
       "<div>\n",
       "<style scoped>\n",
       "    .dataframe tbody tr th:only-of-type {\n",
       "        vertical-align: middle;\n",
       "    }\n",
       "\n",
       "    .dataframe tbody tr th {\n",
       "        vertical-align: top;\n",
       "    }\n",
       "\n",
       "    .dataframe thead th {\n",
       "        text-align: right;\n",
       "    }\n",
       "</style>\n",
       "<table border=\"1\" class=\"dataframe\">\n",
       "  <thead>\n",
       "    <tr style=\"text-align: right;\">\n",
       "      <th></th>\n",
       "      <th>sector</th>\n",
       "      <th>technology_group</th>\n",
       "      <th>technology</th>\n",
       "      <th>description</th>\n",
       "      <th>technology_term</th>\n",
       "      <th>source</th>\n",
       "      <th>priority</th>\n",
       "    </tr>\n",
       "  </thead>\n",
       "  <tbody>\n",
       "    <tr>\n",
       "      <th>0</th>\n",
       "      <td>Energy</td>\n",
       "      <td>Solar energy sources</td>\n",
       "      <td>solar PV</td>\n",
       "      <td>Also “solar photovoltaic”; technology of using...</td>\n",
       "      <td>photovoltaic, PV, “solar cell”</td>\n",
       "      <td>https://www.ctc-n.org/technologies/solar-pv</td>\n",
       "      <td>1</td>\n",
       "    </tr>\n",
       "    <tr>\n",
       "      <th>1</th>\n",
       "      <td>Energy</td>\n",
       "      <td>Solar energy sources</td>\n",
       "      <td>concentrated solar power (CSP)</td>\n",
       "      <td>Technology of producing electricity by concent...</td>\n",
       "      <td>“concentrated solar power”, CSP, “concentrated...</td>\n",
       "      <td>https://setis.ec.europa.eu/technologies/concen...</td>\n",
       "      <td>1</td>\n",
       "    </tr>\n",
       "    <tr>\n",
       "      <th>2</th>\n",
       "      <td>Energy</td>\n",
       "      <td>Solar energy sources</td>\n",
       "      <td>solar heating</td>\n",
       "      <td>Technology of capturing the sun's radiation an...</td>\n",
       "      <td>“solar heating”</td>\n",
       "      <td>https://www.ctc-n.org/technologies/solar-heating</td>\n",
       "      <td>0</td>\n",
       "    </tr>\n",
       "    <tr>\n",
       "      <th>3</th>\n",
       "      <td>Energy</td>\n",
       "      <td>Solar energy sources</td>\n",
       "      <td>solar dryer</td>\n",
       "      <td>Technology of drying substances, especially fo...</td>\n",
       "      <td>“solar dryer”</td>\n",
       "      <td>https://www.ctc-n.org/technologies/solar-dryer</td>\n",
       "      <td>0</td>\n",
       "    </tr>\n",
       "    <tr>\n",
       "      <th>4</th>\n",
       "      <td>Energy</td>\n",
       "      <td>Solar energy sources</td>\n",
       "      <td>solar water pump</td>\n",
       "      <td>Technology of powering electrical water pumps ...</td>\n",
       "      <td>“solar water pump”</td>\n",
       "      <td>https://www.ctc-n.org/technologies/solar-water...</td>\n",
       "      <td>0</td>\n",
       "    </tr>\n",
       "  </tbody>\n",
       "</table>\n",
       "</div>"
      ],
      "text/plain": [
       "   sector      technology_group                      technology  \\\n",
       "0  Energy  Solar energy sources                        solar PV   \n",
       "1  Energy  Solar energy sources  concentrated solar power (CSP)   \n",
       "2  Energy  Solar energy sources                   solar heating   \n",
       "3  Energy  Solar energy sources                     solar dryer   \n",
       "4  Energy  Solar energy sources                solar water pump   \n",
       "\n",
       "                                         description  \\\n",
       "0  Also “solar photovoltaic”; technology of using...   \n",
       "1  Technology of producing electricity by concent...   \n",
       "2  Technology of capturing the sun's radiation an...   \n",
       "3  Technology of drying substances, especially fo...   \n",
       "4  Technology of powering electrical water pumps ...   \n",
       "\n",
       "                                     technology_term  \\\n",
       "0                    photovoltaic, PV, “solar cell”    \n",
       "1  “concentrated solar power”, CSP, “concentrated...   \n",
       "2                                    “solar heating”   \n",
       "3                                      “solar dryer”   \n",
       "4                                 “solar water pump”   \n",
       "\n",
       "                                              source  priority  \n",
       "0        https://www.ctc-n.org/technologies/solar-pv         1  \n",
       "1  https://setis.ec.europa.eu/technologies/concen...         1  \n",
       "2   https://www.ctc-n.org/technologies/solar-heating         0  \n",
       "3     https://www.ctc-n.org/technologies/solar-dryer         0  \n",
       "4  https://www.ctc-n.org/technologies/solar-water...         0  "
      ]
     },
     "execution_count": 251,
     "metadata": {},
     "output_type": "execute_result"
    }
   ],
   "source": [
    "categories.head()"
   ]
  },
  {
   "cell_type": "code",
   "execution_count": 219,
   "metadata": {},
   "outputs": [],
   "source": [
    "extended_categories = pd.merge(technology_table, categories, \n",
    "                               how = 'left', left_on = 'category', right_on = 'technology')"
   ]
  },
  {
   "cell_type": "code",
   "execution_count": 221,
   "metadata": {},
   "outputs": [
    {
     "data": {
      "text/plain": [
       "priority\n",
       "0.0    1085\n",
       "1.0    1114\n",
       "Name: id, dtype: int64"
      ]
     },
     "execution_count": 221,
     "metadata": {},
     "output_type": "execute_result"
    }
   ],
   "source": [
    "extended_categories.groupby('priority').count()['id']"
   ]
  },
  {
   "cell_type": "code",
   "execution_count": 222,
   "metadata": {},
   "outputs": [
    {
     "data": {
      "text/plain": [
       "0.506593906321055"
      ]
     },
     "execution_count": 222,
     "metadata": {},
     "output_type": "execute_result"
    }
   ],
   "source": [
    "1114/(1085+1114)"
   ]
  },
  {
   "cell_type": "code",
   "execution_count": 226,
   "metadata": {},
   "outputs": [],
   "source": [
    "unique_projects_on_pirority = extended_categories.groupby('id').max()['priority'].reset_index()"
   ]
  },
  {
   "cell_type": "code",
   "execution_count": 227,
   "metadata": {},
   "outputs": [
    {
     "data": {
      "text/plain": [
       "priority\n",
       "0.0    703\n",
       "1.0    830\n",
       "Name: id, dtype: int64"
      ]
     },
     "execution_count": 227,
     "metadata": {},
     "output_type": "execute_result"
    }
   ],
   "source": [
    "unique_projects_on_pirority.groupby('priority').count()['id']"
   ]
  },
  {
   "cell_type": "code",
   "execution_count": 229,
   "metadata": {},
   "outputs": [
    {
     "data": {
      "text/plain": [
       "0.5414220482713633"
      ]
     },
     "execution_count": 229,
     "metadata": {},
     "output_type": "execute_result"
    }
   ],
   "source": [
    "#percentage of projects among climate change mitigation just the priorities ones\n",
    "830/(830+703)"
   ]
  },
  {
   "cell_type": "markdown",
   "metadata": {},
   "source": [
    "what about the money"
   ]
  },
  {
   "cell_type": "code",
   "execution_count": 293,
   "metadata": {},
   "outputs": [],
   "source": [
    "extended_categories.to_csv('../data/extended_categories.csv')"
   ]
  },
  {
   "cell_type": "code",
   "execution_count": null,
   "metadata": {},
   "outputs": [],
   "source": []
  }
 ],
 "metadata": {
  "kernelspec": {
   "display_name": "Python 3",
   "language": "python",
   "name": "python3"
  },
  "language_info": {
   "codemirror_mode": {
    "name": "ipython",
    "version": 3
   },
   "file_extension": ".py",
   "mimetype": "text/x-python",
   "name": "python",
   "nbconvert_exporter": "python",
   "pygments_lexer": "ipython3",
   "version": "3.7.3"
  }
 },
 "nbformat": 4,
 "nbformat_minor": 2
}
