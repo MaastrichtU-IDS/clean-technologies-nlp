{
 "cells": [
  {
   "cell_type": "markdown",
   "metadata": {},
   "source": [
    "# CleanTechTag \n",
    "## (Clean Technologies Tagging) - Deterministic Model\n",
    "---"
   ]
  },
  {
   "cell_type": "markdown",
   "metadata": {},
   "source": [
    "### 1. Gathering the mitigation technology catalogue"
   ]
  },
  {
   "cell_type": "code",
   "execution_count": 1,
   "metadata": {},
   "outputs": [],
   "source": [
    "import pandas as pd\n",
    "import matplotlib.pyplot as plt\n",
    "import warnings\n",
    "warnings.filterwarnings(\"ignore\")\n",
    "%matplotlib inline"
   ]
  },
  {
   "cell_type": "code",
   "execution_count": 2,
   "metadata": {},
   "outputs": [],
   "source": [
    "categories = pd.read_excel('../data/mitigation-technology-catalogue.xls')\n",
    "categories = categories.fillna(method='ffill')\n",
    "categories.columns = ['sector','technology_group','technology','description','technology_term','source','priority']"
   ]
  },
  {
   "cell_type": "code",
   "execution_count": 3,
   "metadata": {},
   "outputs": [
    {
     "data": {
      "text/html": [
       "<div>\n",
       "<style scoped>\n",
       "    .dataframe tbody tr th:only-of-type {\n",
       "        vertical-align: middle;\n",
       "    }\n",
       "\n",
       "    .dataframe tbody tr th {\n",
       "        vertical-align: top;\n",
       "    }\n",
       "\n",
       "    .dataframe thead th {\n",
       "        text-align: right;\n",
       "    }\n",
       "</style>\n",
       "<table border=\"1\" class=\"dataframe\">\n",
       "  <thead>\n",
       "    <tr style=\"text-align: right;\">\n",
       "      <th></th>\n",
       "      <th>sector</th>\n",
       "      <th>technology_group</th>\n",
       "      <th>technology</th>\n",
       "      <th>description</th>\n",
       "      <th>technology_term</th>\n",
       "      <th>source</th>\n",
       "      <th>priority</th>\n",
       "    </tr>\n",
       "  </thead>\n",
       "  <tbody>\n",
       "    <tr>\n",
       "      <td>0</td>\n",
       "      <td>Energy</td>\n",
       "      <td>Solar energy sources</td>\n",
       "      <td>solar PV</td>\n",
       "      <td>Also “solar photovoltaic”; technology of using...</td>\n",
       "      <td>photovoltaic, PV, “solar cell”</td>\n",
       "      <td>https://www.ctc-n.org/technologies/solar-pv</td>\n",
       "      <td>1</td>\n",
       "    </tr>\n",
       "    <tr>\n",
       "      <td>1</td>\n",
       "      <td>Energy</td>\n",
       "      <td>Solar energy sources</td>\n",
       "      <td>concentrated solar power (CSP)</td>\n",
       "      <td>Technology of producing electricity by concent...</td>\n",
       "      <td>“concentrated solar power”, CSP, “concentrated...</td>\n",
       "      <td>https://setis.ec.europa.eu/technologies/concen...</td>\n",
       "      <td>1</td>\n",
       "    </tr>\n",
       "    <tr>\n",
       "      <td>2</td>\n",
       "      <td>Energy</td>\n",
       "      <td>Solar energy sources</td>\n",
       "      <td>solar heating</td>\n",
       "      <td>Technology of capturing the sun's radiation an...</td>\n",
       "      <td>“solar heating”</td>\n",
       "      <td>https://www.ctc-n.org/technologies/solar-heating</td>\n",
       "      <td>1</td>\n",
       "    </tr>\n",
       "    <tr>\n",
       "      <td>3</td>\n",
       "      <td>Energy</td>\n",
       "      <td>Solar energy sources</td>\n",
       "      <td>solar dryer</td>\n",
       "      <td>Technology of drying substances, especially fo...</td>\n",
       "      <td>“solar dryer”</td>\n",
       "      <td>https://www.ctc-n.org/technologies/solar-dryer</td>\n",
       "      <td>0</td>\n",
       "    </tr>\n",
       "    <tr>\n",
       "      <td>4</td>\n",
       "      <td>Energy</td>\n",
       "      <td>Solar energy sources</td>\n",
       "      <td>solar water pump</td>\n",
       "      <td>Technology of powering electrical water pumps ...</td>\n",
       "      <td>“solar water pump”</td>\n",
       "      <td>https://www.ctc-n.org/technologies/solar-water...</td>\n",
       "      <td>0</td>\n",
       "    </tr>\n",
       "  </tbody>\n",
       "</table>\n",
       "</div>"
      ],
      "text/plain": [
       "   sector      technology_group                      technology  \\\n",
       "0  Energy  Solar energy sources                        solar PV   \n",
       "1  Energy  Solar energy sources  concentrated solar power (CSP)   \n",
       "2  Energy  Solar energy sources                   solar heating   \n",
       "3  Energy  Solar energy sources                     solar dryer   \n",
       "4  Energy  Solar energy sources                solar water pump   \n",
       "\n",
       "                                         description  \\\n",
       "0  Also “solar photovoltaic”; technology of using...   \n",
       "1  Technology of producing electricity by concent...   \n",
       "2  Technology of capturing the sun's radiation an...   \n",
       "3  Technology of drying substances, especially fo...   \n",
       "4  Technology of powering electrical water pumps ...   \n",
       "\n",
       "                                     technology_term  \\\n",
       "0                    photovoltaic, PV, “solar cell”    \n",
       "1  “concentrated solar power”, CSP, “concentrated...   \n",
       "2                                    “solar heating”   \n",
       "3                                      “solar dryer”   \n",
       "4                                 “solar water pump”   \n",
       "\n",
       "                                              source  priority  \n",
       "0        https://www.ctc-n.org/technologies/solar-pv         1  \n",
       "1  https://setis.ec.europa.eu/technologies/concen...         1  \n",
       "2   https://www.ctc-n.org/technologies/solar-heating         1  \n",
       "3     https://www.ctc-n.org/technologies/solar-dryer         0  \n",
       "4  https://www.ctc-n.org/technologies/solar-water...         0  "
      ]
     },
     "execution_count": 3,
     "metadata": {},
     "output_type": "execute_result"
    }
   ],
   "source": [
    "categories.head()"
   ]
  },
  {
   "cell_type": "code",
   "execution_count": 4,
   "metadata": {},
   "outputs": [
    {
     "data": {
      "text/plain": [
       "6"
      ]
     },
     "execution_count": 4,
     "metadata": {},
     "output_type": "execute_result"
    }
   ],
   "source": [
    "len(categories.sector.unique())"
   ]
  },
  {
   "cell_type": "code",
   "execution_count": 5,
   "metadata": {},
   "outputs": [],
   "source": [
    "matrix = []\n",
    "for term in categories['technology_term']:\n",
    "    row = [x.strip() for x in term.split(',')]\n",
    "    row = [i.replace('“', '').replace('”', '') for i in row]\n",
    "    matrix.append(row)\n",
    "categories['technology_term'] = matrix"
   ]
  },
  {
   "cell_type": "markdown",
   "metadata": {},
   "source": [
    "---\n",
    "\n",
    "### 2. Reading up cordis H2020 projects data source\n",
    "https://data.europa.eu/euodp/en/data/dataset/cordisH2020projects"
   ]
  },
  {
   "cell_type": "markdown",
   "metadata": {},
   "source": [
    "*To replicate the results use the copy made*"
   ]
  },
  {
   "cell_type": "code",
   "execution_count": null,
   "metadata": {},
   "outputs": [],
   "source": [
    "cordish2020 = pd.read_excel('../data/cordis-h2020projects.xlsx')"
   ]
  },
  {
   "cell_type": "markdown",
   "metadata": {},
   "source": [
    "*To get the latest data go to the source endpoint*"
   ]
  },
  {
   "cell_type": "code",
   "execution_count": 4,
   "metadata": {},
   "outputs": [],
   "source": [
    "#cordish2020 = pd.read_csv('https://cordis.europa.eu/data/cordis-h2020projects.csv', sep=';',error_bad_lines=False)"
   ]
  },
  {
   "cell_type": "code",
   "execution_count": 7,
   "metadata": {},
   "outputs": [
    {
     "data": {
      "text/plain": [
       "Index(['rcn', 'id', 'acronym', 'status', 'programme', 'topics',\n",
       "       'frameworkProgramme', 'title', 'startDate', 'endDate', 'projectUrl',\n",
       "       'objective', 'totalCost', 'ecMaxContribution', 'call', 'fundingScheme',\n",
       "       'coordinator', 'coordinatorCountry', 'participants',\n",
       "       'participantCountries', 'subjects'],\n",
       "      dtype='object')"
      ]
     },
     "execution_count": 7,
     "metadata": {},
     "output_type": "execute_result"
    }
   ],
   "source": [
    "cordish2020.columns"
   ]
  },
  {
   "cell_type": "code",
   "execution_count": 9,
   "metadata": {},
   "outputs": [],
   "source": [
    "cordish2020['totalCost'] = [float(str(i).replace(',', '.')) for i in cordish2020['totalCost']]\n",
    "cordish2020['ecMaxContribution'] = [float(str(i).replace(',', '.')) for i in cordish2020['ecMaxContribution']]\n",
    "cordish2020['objective'] = [str(i) for i in cordish2020['objective']]\n",
    "cordish2020['startDate'] = cordish2020['startDate'].map(pd.Timestamp)\n",
    "cordish2020['endDate'] = cordish2020['endDate'].map(pd.Timestamp)"
   ]
  },
  {
   "cell_type": "code",
   "execution_count": 10,
   "metadata": {},
   "outputs": [
    {
     "data": {
      "text/plain": [
       "27370"
      ]
     },
     "execution_count": 10,
     "metadata": {},
     "output_type": "execute_result"
    }
   ],
   "source": [
    "# Total proyects\n",
    "len(cordish2020)"
   ]
  },
  {
   "cell_type": "markdown",
   "metadata": {},
   "source": [
    "#### Project's objective example"
   ]
  },
  {
   "cell_type": "code",
   "execution_count": 11,
   "metadata": {},
   "outputs": [
    {
     "data": {
      "text/plain": [
       "'With 115 organisations across 21 European countries, The Distributed System of Scientific Collections (DiSSCo) represents today the largest ever formal agreement between organisations of this type, in the world. These organisations have joined forces to develop and operate as a distributed pan-European Research Infrastructure. The DiSSCo RI works for the digital unification of all European natural science assets under common curation and access policies and practices that aim to make the data easily Findable, more Accessible, Interoperable and Reusable (FAIR). DiSSCo will deploy a comprehensive portfolio of services across three main categories: a) e-Science Services, b) Physical and Remote Access Services and c) Support and Training Services.\\n\\nDiSSCo Prepare acts as the main vehicle through which DiSSCo RI will raise its overall maturity and set itself in a position to implement its construction programme. DiSSCo Prepare aims at 1) improving the overall Implementation Readiness Level (IRL), and 2) delivering the DiSSCo Construction Masterplan. \\n\\nThe DiSSCo IRL is defined as the measure of the ability to embark on specific implementation actions (construction projects) based on clear, actionable guidelines with minimum risk, and across the scientific, data, financial, technological and organisational dimensions of the infrastructure. DiSSCo Prepare will raise the readiness level of the RI across all five dimensions. The DiSSCo Construction Masterplan will be considered as the final output of the project and will effectively be used as the organisational, financial and technical guiding framework for the construction of the infrastructure (including establishing the legal entity).'"
      ]
     },
     "execution_count": 11,
     "metadata": {},
     "output_type": "execute_result"
    }
   ],
   "source": [
    "cordish2020.loc[13]['objective']"
   ]
  },
  {
   "cell_type": "markdown",
   "metadata": {},
   "source": [
    "---\n",
    "\n",
    "### 3. Deterministic text labeling\n",
    "#### Using [Flashtext](https://flashtext.readthedocs.io/en/latest/) algorithm for easy regex "
   ]
  },
  {
   "cell_type": "code",
   "execution_count": 12,
   "metadata": {},
   "outputs": [],
   "source": [
    "from flashtext import KeywordProcessor"
   ]
  },
  {
   "cell_type": "code",
   "execution_count": 13,
   "metadata": {},
   "outputs": [],
   "source": [
    "def extract(vec, dictionary, info=False):\n",
    "    empty = []\n",
    "    for line in vec:\n",
    "        empty.append(dictionary.extract_keywords(line, span_info=info))\n",
    "    return empty"
   ]
  },
  {
   "cell_type": "code",
   "execution_count": 14,
   "metadata": {},
   "outputs": [
    {
     "data": {
      "text/plain": [
       "24"
      ]
     },
     "execution_count": 14,
     "metadata": {},
     "output_type": "execute_result"
    }
   ],
   "source": [
    "# unique list of technology group\n",
    "technology_group = list(categories['technology_group'].unique())\n",
    "len(technology_group)"
   ]
  },
  {
   "cell_type": "code",
   "execution_count": 16,
   "metadata": {},
   "outputs": [],
   "source": [
    "dictionary1 = KeywordProcessor()\n",
    "dictionary1.add_keywords_from_list(technology_group)\n",
    "extracted1 = extract(cordish2020['objective'], dictionary1)"
   ]
  },
  {
   "cell_type": "code",
   "execution_count": 17,
   "metadata": {},
   "outputs": [],
   "source": [
    "cordish2020['matches_group'] = [list(set(i)) if len(i)>0 else '' for i in extracted1]\n",
    "cordish2020['count_matches_group'] = [len(i) for i in extracted1]\n",
    "cordish2020['count_unique_matches_group'] = [len(set(i)) for i in extracted1]"
   ]
  },
  {
   "cell_type": "code",
   "execution_count": 18,
   "metadata": {},
   "outputs": [
    {
     "data": {
      "text/plain": [
       "237"
      ]
     },
     "execution_count": 18,
     "metadata": {},
     "output_type": "execute_result"
    }
   ],
   "source": [
    "# unique list of technology term\n",
    "technology_term = [y for x in categories['technology_term'] for y in x if y != '']\n",
    "len(technology_term)"
   ]
  },
  {
   "cell_type": "code",
   "execution_count": 19,
   "metadata": {},
   "outputs": [],
   "source": [
    "#adding the new list of terms\n",
    "dictionary2 = KeywordProcessor()\n",
    "dictionary2.add_keywords_from_list(technology_term)\n",
    "extracted2 = extract(cordish2020['objective'], dictionary2)\n",
    "cordish2020['matches_technology'] = [list(set(i)) if len(i)>0 else '' for i in extracted2]\n",
    "cordish2020['count_matches_technology'] = [len(i) for i in extracted2]\n",
    "cordish2020['count_unique_matches_technology'] = [len(set(i)) for i in extracted2]"
   ]
  },
  {
   "cell_type": "code",
   "execution_count": 20,
   "metadata": {},
   "outputs": [],
   "source": [
    "#cordish2020.head()"
   ]
  },
  {
   "cell_type": "code",
   "execution_count": 21,
   "metadata": {},
   "outputs": [],
   "source": [
    "# filter only the rows with at least one match\n",
    "cordish2020['count_matches'] = cordish2020['count_matches_group'] + cordish2020['count_matches_technology'] \n",
    "cordish2020matches = cordish2020[cordish2020['count_matches_technology'] > 0 ] #at least one match with technology term"
   ]
  },
  {
   "cell_type": "code",
   "execution_count": 22,
   "metadata": {},
   "outputs": [
    {
     "data": {
      "text/plain": [
       "Index(['rcn', 'id', 'acronym', 'status', 'programme', 'topics',\n",
       "       'frameworkProgramme', 'title', 'startDate', 'endDate', 'projectUrl',\n",
       "       'objective', 'totalCost', 'ecMaxContribution', 'call', 'fundingScheme',\n",
       "       'coordinator', 'coordinatorCountry', 'participants',\n",
       "       'participantCountries', 'subjects', 'matches_group',\n",
       "       'count_matches_group', 'count_unique_matches_group',\n",
       "       'matches_technology', 'count_matches_technology',\n",
       "       'count_unique_matches_technology', 'count_matches'],\n",
       "      dtype='object')"
      ]
     },
     "execution_count": 22,
     "metadata": {},
     "output_type": "execute_result"
    }
   ],
   "source": [
    "cordish2020matches.columns"
   ]
  },
  {
   "cell_type": "code",
   "execution_count": 23,
   "metadata": {},
   "outputs": [
    {
     "data": {
      "text/plain": [
       "2323"
      ]
     },
     "execution_count": 23,
     "metadata": {},
     "output_type": "execute_result"
    }
   ],
   "source": [
    "len(cordish2020matches)"
   ]
  },
  {
   "cell_type": "markdown",
   "metadata": {},
   "source": [
    "---\n",
    "\n",
    "### 4. Matches analysis"
   ]
  },
  {
   "cell_type": "markdown",
   "metadata": {},
   "source": [
    "#### Percentage of Matches"
   ]
  },
  {
   "cell_type": "code",
   "execution_count": 24,
   "metadata": {},
   "outputs": [
    {
     "name": "stdout",
     "output_type": "stream",
     "text": [
      "8.487394957983193\n"
     ]
    }
   ],
   "source": [
    "print(100*len(cordish2020matches)/len(cordish2020))"
   ]
  },
  {
   "cell_type": "code",
   "execution_count": 25,
   "metadata": {},
   "outputs": [
    {
     "data": {
      "text/plain": [
       "6      875629\n",
       "31     850626\n",
       "32     870245\n",
       "39     887865\n",
       "40     889249\n",
       "53     888396\n",
       "64     888180\n",
       "73     888528\n",
       "87     883679\n",
       "95     882777\n",
       "103    870620\n",
       "108    887106\n",
       "113    871115\n",
       "128    875029\n",
       "133    870403\n",
       "141    886997\n",
       "143    887603\n",
       "161    889190\n",
       "175    821087\n",
       "178    887525\n",
       "Name: id, dtype: int64"
      ]
     },
     "execution_count": 25,
     "metadata": {},
     "output_type": "execute_result"
    }
   ],
   "source": [
    "#this is the list we need to compare with the probabilistic\n",
    "cordish2020matches.id[:20]"
   ]
  },
  {
   "cell_type": "markdown",
   "metadata": {},
   "source": [
    "#### Projects with more matches"
   ]
  },
  {
   "cell_type": "code",
   "execution_count": 26,
   "metadata": {},
   "outputs": [
    {
     "data": {
      "text/html": [
       "<div>\n",
       "<style scoped>\n",
       "    .dataframe tbody tr th:only-of-type {\n",
       "        vertical-align: middle;\n",
       "    }\n",
       "\n",
       "    .dataframe tbody tr th {\n",
       "        vertical-align: top;\n",
       "    }\n",
       "\n",
       "    .dataframe thead th {\n",
       "        text-align: right;\n",
       "    }\n",
       "</style>\n",
       "<table border=\"1\" class=\"dataframe\">\n",
       "  <thead>\n",
       "    <tr style=\"text-align: right;\">\n",
       "      <th></th>\n",
       "      <th>acronym</th>\n",
       "      <th>title</th>\n",
       "      <th>endDate</th>\n",
       "      <th>ecMaxContribution</th>\n",
       "      <th>matches_group</th>\n",
       "      <th>count_matches</th>\n",
       "    </tr>\n",
       "  </thead>\n",
       "  <tbody>\n",
       "    <tr>\n",
       "      <td>19064</td>\n",
       "      <td>STEMM-CCS</td>\n",
       "      <td>Strategies for Environmental Monitoring of Mar...</td>\n",
       "      <td>2020-02-29</td>\n",
       "      <td>15918369.00</td>\n",
       "      <td>[CCS, Storage]</td>\n",
       "      <td>28</td>\n",
       "    </tr>\n",
       "    <tr>\n",
       "      <td>27153</td>\n",
       "      <td>ACT</td>\n",
       "      <td>Accellerating CCS technologies as a new low-ca...</td>\n",
       "      <td>2021-01-31</td>\n",
       "      <td>11889929.23</td>\n",
       "      <td>[CCS, Storage]</td>\n",
       "      <td>27</td>\n",
       "    </tr>\n",
       "    <tr>\n",
       "      <td>22730</td>\n",
       "      <td>FLOATMAST</td>\n",
       "      <td>An Innovative Wind Resource Assessment Tension...</td>\n",
       "      <td>2015-11-30</td>\n",
       "      <td>50000.00</td>\n",
       "      <td>[Wind]</td>\n",
       "      <td>24</td>\n",
       "    </tr>\n",
       "    <tr>\n",
       "      <td>20836</td>\n",
       "      <td>WITRO</td>\n",
       "      <td>Wind and Turbulence Radar for Offshore wind en...</td>\n",
       "      <td>2015-12-31</td>\n",
       "      <td>50000.00</td>\n",
       "      <td>[Wind]</td>\n",
       "      <td>22</td>\n",
       "    </tr>\n",
       "    <tr>\n",
       "      <td>9738</td>\n",
       "      <td>Small-scale CSP</td>\n",
       "      <td>Numerical and experimental analysis of a novel...</td>\n",
       "      <td>2020-05-31</td>\n",
       "      <td>212194.80</td>\n",
       "      <td>[Storage]</td>\n",
       "      <td>22</td>\n",
       "    </tr>\n",
       "    <tr>\n",
       "      <td>3314</td>\n",
       "      <td>FLOAWER</td>\n",
       "      <td>FLOAting Wind Energy netwoRk</td>\n",
       "      <td>2023-10-31</td>\n",
       "      <td>3500381.88</td>\n",
       "      <td>[Wind]</td>\n",
       "      <td>20</td>\n",
       "    </tr>\n",
       "    <tr>\n",
       "      <td>23704</td>\n",
       "      <td>SENSIBLE</td>\n",
       "      <td>Storage-Enabled Sustainable Energy for Buildin...</td>\n",
       "      <td>2018-12-31</td>\n",
       "      <td>11842396.76</td>\n",
       "      <td>[Storage, Energy management]</td>\n",
       "      <td>20</td>\n",
       "    </tr>\n",
       "    <tr>\n",
       "      <td>15699</td>\n",
       "      <td>FLOWSPA</td>\n",
       "      <td>Floating Offshore Wind Support Platform and As...</td>\n",
       "      <td>2017-09-30</td>\n",
       "      <td>50000.00</td>\n",
       "      <td>[Wind]</td>\n",
       "      <td>19</td>\n",
       "    </tr>\n",
       "    <tr>\n",
       "      <td>1846</td>\n",
       "      <td>REMOTE</td>\n",
       "      <td>Remote area Energy supply with Multiple Option...</td>\n",
       "      <td>2021-12-31</td>\n",
       "      <td>4995950.25</td>\n",
       "      <td>[Fuel, Wind, Storage]</td>\n",
       "      <td>19</td>\n",
       "    </tr>\n",
       "    <tr>\n",
       "      <td>12828</td>\n",
       "      <td>acteno</td>\n",
       "      <td>Industrial Energy Storage Integration - develo...</td>\n",
       "      <td>2018-08-31</td>\n",
       "      <td>143900.00</td>\n",
       "      <td>[Storage]</td>\n",
       "      <td>19</td>\n",
       "    </tr>\n",
       "  </tbody>\n",
       "</table>\n",
       "</div>"
      ],
      "text/plain": [
       "               acronym                                              title  \\\n",
       "19064        STEMM-CCS  Strategies for Environmental Monitoring of Mar...   \n",
       "27153              ACT  Accellerating CCS technologies as a new low-ca...   \n",
       "22730        FLOATMAST  An Innovative Wind Resource Assessment Tension...   \n",
       "20836            WITRO  Wind and Turbulence Radar for Offshore wind en...   \n",
       "9738   Small-scale CSP  Numerical and experimental analysis of a novel...   \n",
       "3314           FLOAWER                       FLOAting Wind Energy netwoRk   \n",
       "23704         SENSIBLE  Storage-Enabled Sustainable Energy for Buildin...   \n",
       "15699          FLOWSPA  Floating Offshore Wind Support Platform and As...   \n",
       "1846            REMOTE  Remote area Energy supply with Multiple Option...   \n",
       "12828           acteno  Industrial Energy Storage Integration - develo...   \n",
       "\n",
       "         endDate  ecMaxContribution                 matches_group  \\\n",
       "19064 2020-02-29        15918369.00                [CCS, Storage]   \n",
       "27153 2021-01-31        11889929.23                [CCS, Storage]   \n",
       "22730 2015-11-30           50000.00                        [Wind]   \n",
       "20836 2015-12-31           50000.00                        [Wind]   \n",
       "9738  2020-05-31          212194.80                     [Storage]   \n",
       "3314  2023-10-31         3500381.88                        [Wind]   \n",
       "23704 2018-12-31        11842396.76  [Storage, Energy management]   \n",
       "15699 2017-09-30           50000.00                        [Wind]   \n",
       "1846  2021-12-31         4995950.25         [Fuel, Wind, Storage]   \n",
       "12828 2018-08-31          143900.00                     [Storage]   \n",
       "\n",
       "       count_matches  \n",
       "19064             28  \n",
       "27153             27  \n",
       "22730             24  \n",
       "20836             22  \n",
       "9738              22  \n",
       "3314              20  \n",
       "23704             20  \n",
       "15699             19  \n",
       "1846              19  \n",
       "12828             19  "
      ]
     },
     "execution_count": 26,
     "metadata": {},
     "output_type": "execute_result"
    }
   ],
   "source": [
    "cordish2020matches[['acronym','title','endDate','ecMaxContribution','matches_group','count_matches']]\\\n",
    "    .sort_values('count_matches', ascending=False)\\\n",
    "    .head(10)"
   ]
  },
  {
   "cell_type": "code",
   "execution_count": 27,
   "metadata": {},
   "outputs": [],
   "source": [
    "def get_terms_matrix(vector_of_terms, all_terms):\n",
    "    matrix = []\n",
    "    for vector in vector_of_terms:\n",
    "        ind_vector = [0] * len(all_terms)\n",
    "        for v in vector:\n",
    "            for idx, i in enumerate(all_terms):\n",
    "                if v == i:\n",
    "                    ind_vector[idx] = 1\n",
    "        matrix.append(ind_vector)\n",
    "    table = pd.DataFrame(matrix)\n",
    "    return table"
   ]
  },
  {
   "cell_type": "code",
   "execution_count": 28,
   "metadata": {},
   "outputs": [],
   "source": [
    "all_technology_terms = [i for i in set([*list(categories['technology_group']),*list(technology_term)])]"
   ]
  },
  {
   "cell_type": "code",
   "execution_count": 29,
   "metadata": {},
   "outputs": [
    {
     "data": {
      "text/plain": [
       "249"
      ]
     },
     "execution_count": 29,
     "metadata": {},
     "output_type": "execute_result"
    }
   ],
   "source": [
    "len(all_technology_terms)"
   ]
  },
  {
   "cell_type": "code",
   "execution_count": 30,
   "metadata": {},
   "outputs": [
    {
     "data": {
      "text/plain": [
       "['biofuel',\n",
       " 'inert anode',\n",
       " 'methane capture',\n",
       " 'solar cell',\n",
       " 'vehicle-to-grid',\n",
       " 'agrosylviculture',\n",
       " 'alternate wetting and drying',\n",
       " 'low green house gas lighting',\n",
       " 'low green house fertiliser',\n",
       " 'lightweight transport']"
      ]
     },
     "execution_count": 30,
     "metadata": {},
     "output_type": "execute_result"
    }
   ],
   "source": [
    "all_technology_terms[:10]"
   ]
  },
  {
   "cell_type": "code",
   "execution_count": 31,
   "metadata": {},
   "outputs": [],
   "source": [
    "#expected to have 225 columns\n",
    "matches_technology_table = get_terms_matrix(list(cordish2020matches['matches_technology']), all_technology_terms)\n",
    "matches_group_table = get_terms_matrix(list(cordish2020matches['matches_group']), all_technology_terms)"
   ]
  },
  {
   "cell_type": "code",
   "execution_count": 32,
   "metadata": {},
   "outputs": [],
   "source": [
    "matches_table = matches_group_table + matches_technology_table\n",
    "matches_table.columns = all_technology_terms\n",
    "matches_table['number_unique_terms'] = matches_table.sum(axis=1)"
   ]
  },
  {
   "cell_type": "code",
   "execution_count": 33,
   "metadata": {},
   "outputs": [
    {
     "data": {
      "text/html": [
       "<div>\n",
       "<style scoped>\n",
       "    .dataframe tbody tr th:only-of-type {\n",
       "        vertical-align: middle;\n",
       "    }\n",
       "\n",
       "    .dataframe tbody tr th {\n",
       "        vertical-align: top;\n",
       "    }\n",
       "\n",
       "    .dataframe thead th {\n",
       "        text-align: right;\n",
       "    }\n",
       "</style>\n",
       "<table border=\"1\" class=\"dataframe\">\n",
       "  <thead>\n",
       "    <tr style=\"text-align: right;\">\n",
       "      <th></th>\n",
       "      <th>biofuel</th>\n",
       "      <th>inert anode</th>\n",
       "      <th>methane capture</th>\n",
       "      <th>solar cell</th>\n",
       "      <th>vehicle-to-grid</th>\n",
       "      <th>agrosylviculture</th>\n",
       "      <th>alternate wetting and drying</th>\n",
       "      <th>low green house gas lighting</th>\n",
       "      <th>low green house fertiliser</th>\n",
       "      <th>lightweight transport</th>\n",
       "      <th>...</th>\n",
       "      <th>power-to-methane</th>\n",
       "      <th>direct casting</th>\n",
       "      <th>Use of innovative materials</th>\n",
       "      <th>conservation tillage</th>\n",
       "      <th>RAPS</th>\n",
       "      <th>recycling</th>\n",
       "      <th>midseason drainage</th>\n",
       "      <th>converted gas</th>\n",
       "      <th>offshore wind</th>\n",
       "      <th>number_unique_terms</th>\n",
       "    </tr>\n",
       "  </thead>\n",
       "  <tbody>\n",
       "    <tr>\n",
       "      <td>0</td>\n",
       "      <td>0</td>\n",
       "      <td>0</td>\n",
       "      <td>0</td>\n",
       "      <td>0</td>\n",
       "      <td>0</td>\n",
       "      <td>0</td>\n",
       "      <td>0</td>\n",
       "      <td>0</td>\n",
       "      <td>0</td>\n",
       "      <td>0</td>\n",
       "      <td>...</td>\n",
       "      <td>0</td>\n",
       "      <td>0</td>\n",
       "      <td>0</td>\n",
       "      <td>0</td>\n",
       "      <td>0</td>\n",
       "      <td>0</td>\n",
       "      <td>0</td>\n",
       "      <td>0</td>\n",
       "      <td>0</td>\n",
       "      <td>2</td>\n",
       "    </tr>\n",
       "    <tr>\n",
       "      <td>1</td>\n",
       "      <td>0</td>\n",
       "      <td>0</td>\n",
       "      <td>0</td>\n",
       "      <td>0</td>\n",
       "      <td>0</td>\n",
       "      <td>0</td>\n",
       "      <td>0</td>\n",
       "      <td>0</td>\n",
       "      <td>0</td>\n",
       "      <td>0</td>\n",
       "      <td>...</td>\n",
       "      <td>0</td>\n",
       "      <td>0</td>\n",
       "      <td>0</td>\n",
       "      <td>0</td>\n",
       "      <td>0</td>\n",
       "      <td>0</td>\n",
       "      <td>0</td>\n",
       "      <td>0</td>\n",
       "      <td>0</td>\n",
       "      <td>1</td>\n",
       "    </tr>\n",
       "    <tr>\n",
       "      <td>2</td>\n",
       "      <td>0</td>\n",
       "      <td>0</td>\n",
       "      <td>0</td>\n",
       "      <td>0</td>\n",
       "      <td>0</td>\n",
       "      <td>0</td>\n",
       "      <td>0</td>\n",
       "      <td>0</td>\n",
       "      <td>0</td>\n",
       "      <td>0</td>\n",
       "      <td>...</td>\n",
       "      <td>0</td>\n",
       "      <td>0</td>\n",
       "      <td>0</td>\n",
       "      <td>0</td>\n",
       "      <td>0</td>\n",
       "      <td>0</td>\n",
       "      <td>0</td>\n",
       "      <td>0</td>\n",
       "      <td>0</td>\n",
       "      <td>1</td>\n",
       "    </tr>\n",
       "    <tr>\n",
       "      <td>3</td>\n",
       "      <td>1</td>\n",
       "      <td>0</td>\n",
       "      <td>0</td>\n",
       "      <td>0</td>\n",
       "      <td>0</td>\n",
       "      <td>0</td>\n",
       "      <td>0</td>\n",
       "      <td>0</td>\n",
       "      <td>0</td>\n",
       "      <td>0</td>\n",
       "      <td>...</td>\n",
       "      <td>0</td>\n",
       "      <td>0</td>\n",
       "      <td>0</td>\n",
       "      <td>0</td>\n",
       "      <td>0</td>\n",
       "      <td>0</td>\n",
       "      <td>0</td>\n",
       "      <td>0</td>\n",
       "      <td>0</td>\n",
       "      <td>1</td>\n",
       "    </tr>\n",
       "    <tr>\n",
       "      <td>4</td>\n",
       "      <td>0</td>\n",
       "      <td>0</td>\n",
       "      <td>0</td>\n",
       "      <td>0</td>\n",
       "      <td>0</td>\n",
       "      <td>0</td>\n",
       "      <td>0</td>\n",
       "      <td>0</td>\n",
       "      <td>0</td>\n",
       "      <td>0</td>\n",
       "      <td>...</td>\n",
       "      <td>0</td>\n",
       "      <td>0</td>\n",
       "      <td>0</td>\n",
       "      <td>0</td>\n",
       "      <td>0</td>\n",
       "      <td>0</td>\n",
       "      <td>0</td>\n",
       "      <td>0</td>\n",
       "      <td>0</td>\n",
       "      <td>2</td>\n",
       "    </tr>\n",
       "  </tbody>\n",
       "</table>\n",
       "<p>5 rows × 250 columns</p>\n",
       "</div>"
      ],
      "text/plain": [
       "   biofuel  inert anode  methane capture  solar cell  vehicle-to-grid  \\\n",
       "0        0            0                0           0                0   \n",
       "1        0            0                0           0                0   \n",
       "2        0            0                0           0                0   \n",
       "3        1            0                0           0                0   \n",
       "4        0            0                0           0                0   \n",
       "\n",
       "   agrosylviculture  alternate wetting and drying  \\\n",
       "0                 0                             0   \n",
       "1                 0                             0   \n",
       "2                 0                             0   \n",
       "3                 0                             0   \n",
       "4                 0                             0   \n",
       "\n",
       "   low green house gas lighting  low green house fertiliser  \\\n",
       "0                             0                           0   \n",
       "1                             0                           0   \n",
       "2                             0                           0   \n",
       "3                             0                           0   \n",
       "4                             0                           0   \n",
       "\n",
       "   lightweight transport  ...  power-to-methane  direct casting  \\\n",
       "0                      0  ...                 0               0   \n",
       "1                      0  ...                 0               0   \n",
       "2                      0  ...                 0               0   \n",
       "3                      0  ...                 0               0   \n",
       "4                      0  ...                 0               0   \n",
       "\n",
       "   Use of innovative materials  conservation tillage  RAPS  recycling  \\\n",
       "0                            0                     0     0          0   \n",
       "1                            0                     0     0          0   \n",
       "2                            0                     0     0          0   \n",
       "3                            0                     0     0          0   \n",
       "4                            0                     0     0          0   \n",
       "\n",
       "   midseason drainage  converted gas  offshore wind  number_unique_terms  \n",
       "0                   0              0              0                    2  \n",
       "1                   0              0              0                    1  \n",
       "2                   0              0              0                    1  \n",
       "3                   0              0              0                    1  \n",
       "4                   0              0              0                    2  \n",
       "\n",
       "[5 rows x 250 columns]"
      ]
     },
     "execution_count": 33,
     "metadata": {},
     "output_type": "execute_result"
    }
   ],
   "source": [
    "matches_table.head()"
   ]
  },
  {
   "cell_type": "code",
   "execution_count": 34,
   "metadata": {},
   "outputs": [
    {
     "data": {
      "text/plain": [
       "True"
      ]
     },
     "execution_count": 34,
     "metadata": {},
     "output_type": "execute_result"
    }
   ],
   "source": [
    "len(matches_table) == len(cordish2020matches)"
   ]
  },
  {
   "cell_type": "code",
   "execution_count": 35,
   "metadata": {},
   "outputs": [],
   "source": [
    "full_table_tech_matches = \\\n",
    "    pd.concat([cordish2020matches.reset_index(), \n",
    "               matches_table], \n",
    "              axis=1)\\\n",
    "    .sort_values(['count_matches','number_unique_terms'],\n",
    "                 ascending=False).reset_index()"
   ]
  },
  {
   "cell_type": "code",
   "execution_count": 36,
   "metadata": {},
   "outputs": [
    {
     "data": {
      "text/plain": [
       "2323"
      ]
     },
     "execution_count": 36,
     "metadata": {},
     "output_type": "execute_result"
    }
   ],
   "source": [
    "len(full_table_tech_matches)"
   ]
  },
  {
   "cell_type": "markdown",
   "metadata": {},
   "source": [
    "#### Writing results"
   ]
  },
  {
   "cell_type": "code",
   "execution_count": 37,
   "metadata": {},
   "outputs": [
    {
     "data": {
      "text/plain": [
       "<matplotlib.axes._subplots.AxesSubplot at 0x1a1dbc0810>"
      ]
     },
     "execution_count": 37,
     "metadata": {},
     "output_type": "execute_result"
    },
    {
     "data": {
      "image/png": "[encoded data removed]",
      "text/plain": [
       "<Figure size 432x288 with 1 Axes>"
      ]
     },
     "metadata": {
      "needs_background": "light"
     },
     "output_type": "display_data"
    }
   ],
   "source": [
    "import seaborn as sns\n",
    "sns.distplot(full_table_tech_matches['count_matches'])\n",
    "sns.distplot(full_table_tech_matches['number_unique_terms'])"
   ]
  },
  {
   "cell_type": "code",
   "execution_count": 38,
   "metadata": {},
   "outputs": [
    {
     "data": {
      "text/plain": [
       "count_matches\n",
       "1     782\n",
       "2     487\n",
       "3     296\n",
       "4     207\n",
       "5     129\n",
       "6     104\n",
       "7      72\n",
       "8      52\n",
       "9      47\n",
       "10     32\n",
       "11     29\n",
       "12     25\n",
       "13     16\n",
       "14     10\n",
       "15      8\n",
       "16      8\n",
       "17      5\n",
       "18      2\n",
       "19      5\n",
       "20      2\n",
       "22      2\n",
       "24      1\n",
       "27      1\n",
       "28      1\n",
       "Name: number_unique_terms, dtype: int64"
      ]
     },
     "execution_count": 38,
     "metadata": {},
     "output_type": "execute_result"
    }
   ],
   "source": [
    "full_table_tech_matches.groupby('count_matches').count()['number_unique_terms']"
   ]
  },
  {
   "cell_type": "code",
   "execution_count": 39,
   "metadata": {},
   "outputs": [],
   "source": [
    "full_table_tech_matches[['id','acronym','title',\n",
    "                         'objective','startDate',\n",
    "                         'endDate','ecMaxContribution',\n",
    "                         'coordinator', 'coordinatorCountry',\n",
    "                         'matches_group','matches_technology',\n",
    "                         'number_unique_terms','count_matches']]\\\n",
    "    .to_csv('../data/cleantechtag_deterministic_results.csv')"
   ]
  },
  {
   "cell_type": "code",
   "execution_count": 40,
   "metadata": {},
   "outputs": [],
   "source": [
    "termsT = full_table_tech_matches.iloc[:,33:-1].T\n",
    "termsT['sum'] = termsT.sum(axis=1)"
   ]
  },
  {
   "cell_type": "code",
   "execution_count": 41,
   "metadata": {},
   "outputs": [
    {
     "data": {
      "text/plain": [
       "renewable energy    499\n",
       "Storage             453\n",
       "recycling           343\n",
       "Fuel                321\n",
       "energy storage      257\n",
       "photovoltaic        198\n",
       "PV                  198\n",
       "Wind                197\n",
       "fuel cell           119\n",
       "Waste management     97\n",
       "Name: sum, dtype: int64"
      ]
     },
     "execution_count": 41,
     "metadata": {},
     "output_type": "execute_result"
    }
   ],
   "source": [
    "termsT.sort_values('sum', ascending=False)['sum'].head(10)"
   ]
  },
  {
   "cell_type": "markdown",
   "metadata": {},
   "source": [
    "#### Percentage of matched technologies "
   ]
  },
  {
   "cell_type": "code",
   "execution_count": 42,
   "metadata": {},
   "outputs": [
    {
     "data": {
      "text/plain": [
       "0.46747967479674796"
      ]
     },
     "execution_count": 42,
     "metadata": {},
     "output_type": "execute_result"
    }
   ],
   "source": [
    "len(termsT[termsT['sum']>0])/len(termsT)"
   ]
  }
 ],
 "metadata": {
  "kernelspec": {
   "display_name": "Python 3",
   "language": "python",
   "name": "python3"
  },
  "language_info": {
   "codemirror_mode": {
    "name": "ipython",
    "version": 3
   },
   "file_extension": ".py",
   "mimetype": "text/x-python",
   "name": "python",
   "nbconvert_exporter": "python",
   "pygments_lexer": "ipython3",
   "version": "3.7.4"
  },
  "nteract": {
   "version": "0.15.0"
  }
 },
 "nbformat": 4,
 "nbformat_minor": 4
}
